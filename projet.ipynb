{
 "cells": [
  {
   "cell_type": "markdown",
   "metadata": {},
   "source": [
    "# Projet Diversité et inclusion en entreprise #"
   ]
  },
  {
   "cell_type": "markdown",
   "metadata": {},
   "source": [
    "**Problématique : Comment les différents aspects sociaux et professionnels (rémunération, formation, conditions de travail, handicap, absentéisme, etc.) influencent-ils la structure et l’évolution des effectifs d’EDF SA sur une période donnée ?**"
   ]
  },
  {
   "cell_type": "markdown",
   "metadata": {},
   "source": [
    "*Respect de la PEP-8*"
   ]
  },
  {
   "cell_type": "code",
   "execution_count": 33,
   "metadata": {},
   "outputs": [
    {
     "name": "stdout",
     "output_type": "stream",
     "text": [
      "The pycodestyle_magic extension is already loaded. To reload it, use:\n",
      "  %reload_ext pycodestyle_magic\n"
     ]
    }
   ],
   "source": [
    "%load_ext pycodestyle_magic\n",
    "%pycodestyle_on"
   ]
  },
  {
   "cell_type": "code",
   "execution_count": 2,
   "metadata": {},
   "outputs": [],
   "source": [
    "import pandas as pd"
   ]
  },
  {
   "cell_type": "markdown",
   "metadata": {},
   "source": [
    "#### 1) Comparaison de l'ecart salarial homme/femme selon l'annee ####"
   ]
  },
  {
   "cell_type": "code",
   "execution_count": 75,
   "metadata": {},
   "outputs": [
    {
     "data": {
      "text/html": [
       "<div>\n",
       "<style scoped>\n",
       "    .dataframe tbody tr th:only-of-type {\n",
       "        vertical-align: middle;\n",
       "    }\n",
       "\n",
       "    .dataframe tbody tr th {\n",
       "        vertical-align: top;\n",
       "    }\n",
       "\n",
       "    .dataframe thead th {\n",
       "        text-align: right;\n",
       "    }\n",
       "</style>\n",
       "<table border=\"1\" class=\"dataframe\">\n",
       "  <thead>\n",
       "    <tr style=\"text-align: right;\">\n",
       "      <th></th>\n",
       "      <th>Année</th>\n",
       "      <th>Collège</th>\n",
       "      <th>Genre</th>\n",
       "      <th>Salaire mensuel moyen brut</th>\n",
       "    </tr>\n",
       "  </thead>\n",
       "  <tbody>\n",
       "    <tr>\n",
       "      <th>6</th>\n",
       "      <td>2023</td>\n",
       "      <td>Cadre</td>\n",
       "      <td>Femme</td>\n",
       "      <td>7175.0</td>\n",
       "    </tr>\n",
       "    <tr>\n",
       "      <th>7</th>\n",
       "      <td>2023</td>\n",
       "      <td>Maitrise</td>\n",
       "      <td>Homme</td>\n",
       "      <td>4990.0</td>\n",
       "    </tr>\n",
       "    <tr>\n",
       "      <th>46</th>\n",
       "      <td>2023</td>\n",
       "      <td>Maitrise</td>\n",
       "      <td>Femme</td>\n",
       "      <td>4279.0</td>\n",
       "    </tr>\n",
       "    <tr>\n",
       "      <th>47</th>\n",
       "      <td>2023</td>\n",
       "      <td>Execution</td>\n",
       "      <td>Homme</td>\n",
       "      <td>3894.0</td>\n",
       "    </tr>\n",
       "    <tr>\n",
       "      <th>48</th>\n",
       "      <td>2023</td>\n",
       "      <td>Execution</td>\n",
       "      <td>Femme</td>\n",
       "      <td>3290.0</td>\n",
       "    </tr>\n",
       "    <tr>\n",
       "      <th>60</th>\n",
       "      <td>2023</td>\n",
       "      <td>Cadre</td>\n",
       "      <td>Homme</td>\n",
       "      <td>7842.0</td>\n",
       "    </tr>\n",
       "    <tr>\n",
       "      <th>74</th>\n",
       "      <td>2022</td>\n",
       "      <td>Maitrise</td>\n",
       "      <td>Homme</td>\n",
       "      <td>4521.0</td>\n",
       "    </tr>\n",
       "    <tr>\n",
       "      <th>99</th>\n",
       "      <td>2022</td>\n",
       "      <td>Cadre</td>\n",
       "      <td>Homme</td>\n",
       "      <td>7353.0</td>\n",
       "    </tr>\n",
       "    <tr>\n",
       "      <th>100</th>\n",
       "      <td>2022</td>\n",
       "      <td>Maitrise</td>\n",
       "      <td>Femme</td>\n",
       "      <td>3913.0</td>\n",
       "    </tr>\n",
       "    <tr>\n",
       "      <th>101</th>\n",
       "      <td>2022</td>\n",
       "      <td>Execution</td>\n",
       "      <td>Homme</td>\n",
       "      <td>3546.0</td>\n",
       "    </tr>\n",
       "    <tr>\n",
       "      <th>102</th>\n",
       "      <td>2022</td>\n",
       "      <td>Execution</td>\n",
       "      <td>Femme</td>\n",
       "      <td>3016.0</td>\n",
       "    </tr>\n",
       "    <tr>\n",
       "      <th>119</th>\n",
       "      <td>2022</td>\n",
       "      <td>Cadre</td>\n",
       "      <td>Femme</td>\n",
       "      <td>6681.0</td>\n",
       "    </tr>\n",
       "    <tr>\n",
       "      <th>138</th>\n",
       "      <td>2021</td>\n",
       "      <td>Execution</td>\n",
       "      <td>Homme</td>\n",
       "      <td>3335.0</td>\n",
       "    </tr>\n",
       "    <tr>\n",
       "      <th>160</th>\n",
       "      <td>2021</td>\n",
       "      <td>Cadre</td>\n",
       "      <td>Femme</td>\n",
       "      <td>6303.0</td>\n",
       "    </tr>\n",
       "    <tr>\n",
       "      <th>161</th>\n",
       "      <td>2021</td>\n",
       "      <td>Maitrise</td>\n",
       "      <td>Homme</td>\n",
       "      <td>4291.0</td>\n",
       "    </tr>\n",
       "    <tr>\n",
       "      <th>162</th>\n",
       "      <td>2021</td>\n",
       "      <td>Maitrise</td>\n",
       "      <td>Femme</td>\n",
       "      <td>3697.0</td>\n",
       "    </tr>\n",
       "    <tr>\n",
       "      <th>163</th>\n",
       "      <td>2021</td>\n",
       "      <td>Execution</td>\n",
       "      <td>Femme</td>\n",
       "      <td>2829.0</td>\n",
       "    </tr>\n",
       "    <tr>\n",
       "      <th>190</th>\n",
       "      <td>2021</td>\n",
       "      <td>Cadre</td>\n",
       "      <td>Homme</td>\n",
       "      <td>6983.0</td>\n",
       "    </tr>\n",
       "    <tr>\n",
       "      <th>209</th>\n",
       "      <td>2020</td>\n",
       "      <td>Cadre</td>\n",
       "      <td>Homme</td>\n",
       "      <td>7019.0</td>\n",
       "    </tr>\n",
       "    <tr>\n",
       "      <th>210</th>\n",
       "      <td>2020</td>\n",
       "      <td>Maitrise</td>\n",
       "      <td>Homme</td>\n",
       "      <td>4225.0</td>\n",
       "    </tr>\n",
       "    <tr>\n",
       "      <th>223</th>\n",
       "      <td>2020</td>\n",
       "      <td>Execution</td>\n",
       "      <td>Femme</td>\n",
       "      <td>2797.0</td>\n",
       "    </tr>\n",
       "    <tr>\n",
       "      <th>240</th>\n",
       "      <td>2020</td>\n",
       "      <td>Execution</td>\n",
       "      <td>Homme</td>\n",
       "      <td>3259.0</td>\n",
       "    </tr>\n",
       "    <tr>\n",
       "      <th>268</th>\n",
       "      <td>2020</td>\n",
       "      <td>Cadre</td>\n",
       "      <td>Femme</td>\n",
       "      <td>6280.0</td>\n",
       "    </tr>\n",
       "    <tr>\n",
       "      <th>269</th>\n",
       "      <td>2020</td>\n",
       "      <td>Maitrise</td>\n",
       "      <td>Femme</td>\n",
       "      <td>3684.0</td>\n",
       "    </tr>\n",
       "    <tr>\n",
       "      <th>277</th>\n",
       "      <td>2019</td>\n",
       "      <td>Cadre</td>\n",
       "      <td>Homme</td>\n",
       "      <td>6994.0</td>\n",
       "    </tr>\n",
       "    <tr>\n",
       "      <th>289</th>\n",
       "      <td>2019</td>\n",
       "      <td>Cadre</td>\n",
       "      <td>Femme</td>\n",
       "      <td>6216.0</td>\n",
       "    </tr>\n",
       "    <tr>\n",
       "      <th>290</th>\n",
       "      <td>2019</td>\n",
       "      <td>Maitrise</td>\n",
       "      <td>Femme</td>\n",
       "      <td>3647.0</td>\n",
       "    </tr>\n",
       "    <tr>\n",
       "      <th>317</th>\n",
       "      <td>2019</td>\n",
       "      <td>Maitrise</td>\n",
       "      <td>Homme</td>\n",
       "      <td>4222.0</td>\n",
       "    </tr>\n",
       "    <tr>\n",
       "      <th>331</th>\n",
       "      <td>2019</td>\n",
       "      <td>Execution</td>\n",
       "      <td>Homme</td>\n",
       "      <td>3262.0</td>\n",
       "    </tr>\n",
       "    <tr>\n",
       "      <th>332</th>\n",
       "      <td>2019</td>\n",
       "      <td>Execution</td>\n",
       "      <td>Femme</td>\n",
       "      <td>2765.0</td>\n",
       "    </tr>\n",
       "    <tr>\n",
       "      <th>378</th>\n",
       "      <td>2018</td>\n",
       "      <td>Execution</td>\n",
       "      <td>Homme</td>\n",
       "      <td>3160.0</td>\n",
       "    </tr>\n",
       "    <tr>\n",
       "      <th>386</th>\n",
       "      <td>2018</td>\n",
       "      <td>Cadre</td>\n",
       "      <td>Femme</td>\n",
       "      <td>6180.0</td>\n",
       "    </tr>\n",
       "    <tr>\n",
       "      <th>387</th>\n",
       "      <td>2018</td>\n",
       "      <td>Execution</td>\n",
       "      <td>Femme</td>\n",
       "      <td>2681.0</td>\n",
       "    </tr>\n",
       "    <tr>\n",
       "      <th>399</th>\n",
       "      <td>2018</td>\n",
       "      <td>Cadre</td>\n",
       "      <td>Homme</td>\n",
       "      <td>7010.0</td>\n",
       "    </tr>\n",
       "    <tr>\n",
       "      <th>400</th>\n",
       "      <td>2018</td>\n",
       "      <td>Maitrise</td>\n",
       "      <td>Homme</td>\n",
       "      <td>4151.0</td>\n",
       "    </tr>\n",
       "    <tr>\n",
       "      <th>401</th>\n",
       "      <td>2018</td>\n",
       "      <td>Maitrise</td>\n",
       "      <td>Femme</td>\n",
       "      <td>3581.0</td>\n",
       "    </tr>\n",
       "    <tr>\n",
       "      <th>412</th>\n",
       "      <td>2017</td>\n",
       "      <td>Cadre</td>\n",
       "      <td>Femme</td>\n",
       "      <td>6002.0</td>\n",
       "    </tr>\n",
       "    <tr>\n",
       "      <th>429</th>\n",
       "      <td>2017</td>\n",
       "      <td>Cadre</td>\n",
       "      <td>Homme</td>\n",
       "      <td>6931.0</td>\n",
       "    </tr>\n",
       "    <tr>\n",
       "      <th>430</th>\n",
       "      <td>2017</td>\n",
       "      <td>Maitrise</td>\n",
       "      <td>Homme</td>\n",
       "      <td>3965.0</td>\n",
       "    </tr>\n",
       "    <tr>\n",
       "      <th>441</th>\n",
       "      <td>2017</td>\n",
       "      <td>Maitrise</td>\n",
       "      <td>Femme</td>\n",
       "      <td>3478.0</td>\n",
       "    </tr>\n",
       "    <tr>\n",
       "      <th>455</th>\n",
       "      <td>2017</td>\n",
       "      <td>Execution</td>\n",
       "      <td>Homme</td>\n",
       "      <td>2986.0</td>\n",
       "    </tr>\n",
       "    <tr>\n",
       "      <th>468</th>\n",
       "      <td>2017</td>\n",
       "      <td>Execution</td>\n",
       "      <td>Femme</td>\n",
       "      <td>2548.0</td>\n",
       "    </tr>\n",
       "  </tbody>\n",
       "</table>\n",
       "</div>"
      ],
      "text/plain": [
       "     Année    Collège  Genre  Salaire mensuel moyen brut\n",
       "6     2023      Cadre  Femme                      7175.0\n",
       "7     2023   Maitrise  Homme                      4990.0\n",
       "46    2023   Maitrise  Femme                      4279.0\n",
       "47    2023  Execution  Homme                      3894.0\n",
       "48    2023  Execution  Femme                      3290.0\n",
       "60    2023      Cadre  Homme                      7842.0\n",
       "74    2022   Maitrise  Homme                      4521.0\n",
       "99    2022      Cadre  Homme                      7353.0\n",
       "100   2022   Maitrise  Femme                      3913.0\n",
       "101   2022  Execution  Homme                      3546.0\n",
       "102   2022  Execution  Femme                      3016.0\n",
       "119   2022      Cadre  Femme                      6681.0\n",
       "138   2021  Execution  Homme                      3335.0\n",
       "160   2021      Cadre  Femme                      6303.0\n",
       "161   2021   Maitrise  Homme                      4291.0\n",
       "162   2021   Maitrise  Femme                      3697.0\n",
       "163   2021  Execution  Femme                      2829.0\n",
       "190   2021      Cadre  Homme                      6983.0\n",
       "209   2020      Cadre  Homme                      7019.0\n",
       "210   2020   Maitrise  Homme                      4225.0\n",
       "223   2020  Execution  Femme                      2797.0\n",
       "240   2020  Execution  Homme                      3259.0\n",
       "268   2020      Cadre  Femme                      6280.0\n",
       "269   2020   Maitrise  Femme                      3684.0\n",
       "277   2019      Cadre  Homme                      6994.0\n",
       "289   2019      Cadre  Femme                      6216.0\n",
       "290   2019   Maitrise  Femme                      3647.0\n",
       "317   2019   Maitrise  Homme                      4222.0\n",
       "331   2019  Execution  Homme                      3262.0\n",
       "332   2019  Execution  Femme                      2765.0\n",
       "378   2018  Execution  Homme                      3160.0\n",
       "386   2018      Cadre  Femme                      6180.0\n",
       "387   2018  Execution  Femme                      2681.0\n",
       "399   2018      Cadre  Homme                      7010.0\n",
       "400   2018   Maitrise  Homme                      4151.0\n",
       "401   2018   Maitrise  Femme                      3581.0\n",
       "412   2017      Cadre  Femme                      6002.0\n",
       "429   2017      Cadre  Homme                      6931.0\n",
       "430   2017   Maitrise  Homme                      3965.0\n",
       "441   2017   Maitrise  Femme                      3478.0\n",
       "455   2017  Execution  Homme                      2986.0\n",
       "468   2017  Execution  Femme                      2548.0"
      ]
     },
     "execution_count": 75,
     "metadata": {},
     "output_type": "execute_result"
    }
   ],
   "source": [
    "salaire = pd.read_csv(\"data/promotion.csv\", delimiter=\";\")\n",
    "salaire = salaire[salaire['Type de contrat']==\"Statutaire\"]\n",
    "salaire = salaire[salaire['Indicateur']=='Rémunération mensuelle moyenne brute']\n",
    "salaire = salaire[(salaire['Collège']=='Cadre') | (salaire['Collège']=='Maitrise') | (salaire['Collège']=='Execution')]\n",
    "salaire = salaire.drop(columns=['Perimètre juridique', 'Perimètre spatial',\n",
    "       'Spatial perimeter', 'Indicateur', 'Indicator', 'Type de contrat',\n",
    "       'Type of contract', 'Employee category', 'Plage M3E',\n",
    "       'M3E classification', 'Gender', 'Unité', 'Unit',\n",
    "       'Chapitre du bilan social'])\n",
    "salaire = salaire.rename(columns={'Valeur': 'Salaire mensuel moyen brut'})\n",
    "salaire"
   ]
  },
  {
   "cell_type": "markdown",
   "metadata": {},
   "source": [
    "#### 2) Corrélation entre formation et promotions ####"
   ]
  },
  {
   "cell_type": "markdown",
   "metadata": {},
   "source": [
    "Ici, nous allons analyser l'effet des formations (nombre d'heures, nombre d'employés ayant été upgrade) avec une petite comparaison entre hommes et femmes"
   ]
  },
  {
   "cell_type": "markdown",
   "metadata": {},
   "source": [
    "Graphique 1 : "
   ]
  },
  {
   "cell_type": "code",
   "execution_count": 8,
   "metadata": {},
   "outputs": [],
   "source": [
    "promotion = pd.read_csv(\"data/promotion.csv\", delimiter=\";\")\n",
    "promotion = promotion[promotion[\"Indicateur\"]==\"Promotions dans un collège supérieur\"]\n",
    "promotion = promotion[promotion[\"Type de contrat\"]==\"Statutaire\"]\n",
    "drop = ['Perimètre juridique', 'Unité', 'Perimètre spatial',\n",
    "       'Spatial perimeter', 'Indicator',\n",
    "       'Type of contract', 'Employee category', 'Plage M3E',\n",
    "       'M3E classification', 'Gender', 'Unit',\n",
    "       'Chapitre du bilan social', 'Type de contrat', 'Indicateur']\n",
    "promotion = promotion.drop(columns=drop)\n",
    "promotion = promotion.groupby([\"Année\", \"Collège\", \"Genre\"]).sum().reset_index()\n",
    "promotion = promotion.rename(columns={'Collège': 'Evolution'})\n",
    "promotion['Collège'] = 'Exécution'\n",
    "promotion.loc[promotion['Evolution'] == 'Maîtrise vers Cadre', 'Collège'] = 'Maitrise'"
   ]
  },
  {
   "cell_type": "code",
   "execution_count": 9,
   "metadata": {},
   "outputs": [],
   "source": [
    "formation = pd.read_csv(\"data/formation.csv\", delimiter = \";\")\n",
    "formation = formation[(formation[\"Collège\"] == \"Maitrise\") | (formation[\"Collège\"] == \"Exécution\")]\n",
    "formation = formation[formation[\"Indicateur\"] == \"Salariés ayant suivi au moins un stage\"]\n",
    "drop = ['Perimètre juridique', 'Unité', 'Perimètre spatial',\n",
    "       'Spatial perimeter', 'Indicator',\n",
    "       'Employee category', 'Plage M3E', 'M3E classification',\n",
    "       'Gender', 'Unit', 'Chapitre du bilan social']\n",
    "formation = formation.drop(columns=drop)"
   ]
  },
  {
   "cell_type": "code",
   "execution_count": 118,
   "metadata": {},
   "outputs": [
    {
     "data": {
      "text/html": [
       "<div>\n",
       "<style scoped>\n",
       "    .dataframe tbody tr th:only-of-type {\n",
       "        vertical-align: middle;\n",
       "    }\n",
       "\n",
       "    .dataframe tbody tr th {\n",
       "        vertical-align: top;\n",
       "    }\n",
       "\n",
       "    .dataframe thead th {\n",
       "        text-align: right;\n",
       "    }\n",
       "</style>\n",
       "<table border=\"1\" class=\"dataframe\">\n",
       "  <thead>\n",
       "    <tr style=\"text-align: right;\">\n",
       "      <th></th>\n",
       "      <th>Année</th>\n",
       "      <th>Evolution</th>\n",
       "      <th>Genre</th>\n",
       "      <th>Nombre Evolutions</th>\n",
       "      <th>Collège</th>\n",
       "      <th>Indicateur</th>\n",
       "      <th>Population formee</th>\n",
       "      <th>Unité</th>\n",
       "    </tr>\n",
       "  </thead>\n",
       "  <tbody>\n",
       "    <tr>\n",
       "      <th>0</th>\n",
       "      <td>2017</td>\n",
       "      <td>Exécution vers Maîtrise</td>\n",
       "      <td>Femme</td>\n",
       "      <td>118.0</td>\n",
       "      <td>Exécution</td>\n",
       "      <td>Salariés ayant suivi au moins un stage</td>\n",
       "      <td>2508.0</td>\n",
       "      <td>Nombre</td>\n",
       "    </tr>\n",
       "    <tr>\n",
       "      <th>1</th>\n",
       "      <td>2017</td>\n",
       "      <td>Exécution vers Maîtrise</td>\n",
       "      <td>Homme</td>\n",
       "      <td>269.0</td>\n",
       "      <td>Exécution</td>\n",
       "      <td>Salariés ayant suivi au moins un stage</td>\n",
       "      <td>3620.0</td>\n",
       "      <td>Nombre</td>\n",
       "    </tr>\n",
       "    <tr>\n",
       "      <th>2</th>\n",
       "      <td>2017</td>\n",
       "      <td>Maîtrise vers Cadre</td>\n",
       "      <td>Femme</td>\n",
       "      <td>152.0</td>\n",
       "      <td>Maitrise</td>\n",
       "      <td>Salariés ayant suivi au moins un stage</td>\n",
       "      <td>8103.0</td>\n",
       "      <td>Nombre</td>\n",
       "    </tr>\n",
       "    <tr>\n",
       "      <th>3</th>\n",
       "      <td>2017</td>\n",
       "      <td>Maîtrise vers Cadre</td>\n",
       "      <td>Homme</td>\n",
       "      <td>445.0</td>\n",
       "      <td>Maitrise</td>\n",
       "      <td>Salariés ayant suivi au moins un stage</td>\n",
       "      <td>20045.0</td>\n",
       "      <td>Nombre</td>\n",
       "    </tr>\n",
       "    <tr>\n",
       "      <th>4</th>\n",
       "      <td>2018</td>\n",
       "      <td>Exécution vers Maîtrise</td>\n",
       "      <td>Femme</td>\n",
       "      <td>103.0</td>\n",
       "      <td>Exécution</td>\n",
       "      <td>Salariés ayant suivi au moins un stage</td>\n",
       "      <td>2334.0</td>\n",
       "      <td>Nombre</td>\n",
       "    </tr>\n",
       "    <tr>\n",
       "      <th>5</th>\n",
       "      <td>2018</td>\n",
       "      <td>Exécution vers Maîtrise</td>\n",
       "      <td>Homme</td>\n",
       "      <td>251.0</td>\n",
       "      <td>Exécution</td>\n",
       "      <td>Salariés ayant suivi au moins un stage</td>\n",
       "      <td>3550.0</td>\n",
       "      <td>Nombre</td>\n",
       "    </tr>\n",
       "    <tr>\n",
       "      <th>6</th>\n",
       "      <td>2018</td>\n",
       "      <td>Maîtrise vers Cadre</td>\n",
       "      <td>Femme</td>\n",
       "      <td>165.0</td>\n",
       "      <td>Maitrise</td>\n",
       "      <td>Salariés ayant suivi au moins un stage</td>\n",
       "      <td>7683.0</td>\n",
       "      <td>Nombre</td>\n",
       "    </tr>\n",
       "    <tr>\n",
       "      <th>7</th>\n",
       "      <td>2018</td>\n",
       "      <td>Maîtrise vers Cadre</td>\n",
       "      <td>Homme</td>\n",
       "      <td>441.0</td>\n",
       "      <td>Maitrise</td>\n",
       "      <td>Salariés ayant suivi au moins un stage</td>\n",
       "      <td>19607.0</td>\n",
       "      <td>Nombre</td>\n",
       "    </tr>\n",
       "    <tr>\n",
       "      <th>8</th>\n",
       "      <td>2019</td>\n",
       "      <td>Exécution vers Maîtrise</td>\n",
       "      <td>Femme</td>\n",
       "      <td>132.0</td>\n",
       "      <td>Exécution</td>\n",
       "      <td>Salariés ayant suivi au moins un stage</td>\n",
       "      <td>1670.0</td>\n",
       "      <td>Nombre</td>\n",
       "    </tr>\n",
       "    <tr>\n",
       "      <th>9</th>\n",
       "      <td>2019</td>\n",
       "      <td>Exécution vers Maîtrise</td>\n",
       "      <td>Homme</td>\n",
       "      <td>339.0</td>\n",
       "      <td>Exécution</td>\n",
       "      <td>Salariés ayant suivi au moins un stage</td>\n",
       "      <td>2888.0</td>\n",
       "      <td>Nombre</td>\n",
       "    </tr>\n",
       "    <tr>\n",
       "      <th>10</th>\n",
       "      <td>2019</td>\n",
       "      <td>Maîtrise vers Cadre</td>\n",
       "      <td>Femme</td>\n",
       "      <td>178.0</td>\n",
       "      <td>Maitrise</td>\n",
       "      <td>Salariés ayant suivi au moins un stage</td>\n",
       "      <td>6832.0</td>\n",
       "      <td>Nombre</td>\n",
       "    </tr>\n",
       "    <tr>\n",
       "      <th>11</th>\n",
       "      <td>2019</td>\n",
       "      <td>Maîtrise vers Cadre</td>\n",
       "      <td>Homme</td>\n",
       "      <td>446.0</td>\n",
       "      <td>Maitrise</td>\n",
       "      <td>Salariés ayant suivi au moins un stage</td>\n",
       "      <td>18773.0</td>\n",
       "      <td>Nombre</td>\n",
       "    </tr>\n",
       "    <tr>\n",
       "      <th>12</th>\n",
       "      <td>2020</td>\n",
       "      <td>Exécution vers Maîtrise</td>\n",
       "      <td>Femme</td>\n",
       "      <td>99.0</td>\n",
       "      <td>Exécution</td>\n",
       "      <td>Salariés ayant suivi au moins un stage</td>\n",
       "      <td>1474.0</td>\n",
       "      <td>Nombre</td>\n",
       "    </tr>\n",
       "    <tr>\n",
       "      <th>13</th>\n",
       "      <td>2020</td>\n",
       "      <td>Exécution vers Maîtrise</td>\n",
       "      <td>Homme</td>\n",
       "      <td>302.0</td>\n",
       "      <td>Exécution</td>\n",
       "      <td>Salariés ayant suivi au moins un stage</td>\n",
       "      <td>2437.0</td>\n",
       "      <td>Nombre</td>\n",
       "    </tr>\n",
       "    <tr>\n",
       "      <th>14</th>\n",
       "      <td>2020</td>\n",
       "      <td>Maîtrise vers Cadre</td>\n",
       "      <td>Femme</td>\n",
       "      <td>159.0</td>\n",
       "      <td>Maitrise</td>\n",
       "      <td>Salariés ayant suivi au moins un stage</td>\n",
       "      <td>5240.0</td>\n",
       "      <td>Nombre</td>\n",
       "    </tr>\n",
       "    <tr>\n",
       "      <th>15</th>\n",
       "      <td>2020</td>\n",
       "      <td>Maîtrise vers Cadre</td>\n",
       "      <td>Homme</td>\n",
       "      <td>361.0</td>\n",
       "      <td>Maitrise</td>\n",
       "      <td>Salariés ayant suivi au moins un stage</td>\n",
       "      <td>17046.0</td>\n",
       "      <td>Nombre</td>\n",
       "    </tr>\n",
       "    <tr>\n",
       "      <th>16</th>\n",
       "      <td>2021</td>\n",
       "      <td>Exécution vers Maîtrise</td>\n",
       "      <td>Femme</td>\n",
       "      <td>97.0</td>\n",
       "      <td>Exécution</td>\n",
       "      <td>Salariés ayant suivi au moins un stage</td>\n",
       "      <td>1396.0</td>\n",
       "      <td>Nombre</td>\n",
       "    </tr>\n",
       "    <tr>\n",
       "      <th>17</th>\n",
       "      <td>2021</td>\n",
       "      <td>Exécution vers Maîtrise</td>\n",
       "      <td>Homme</td>\n",
       "      <td>235.0</td>\n",
       "      <td>Exécution</td>\n",
       "      <td>Salariés ayant suivi au moins un stage</td>\n",
       "      <td>2606.0</td>\n",
       "      <td>Nombre</td>\n",
       "    </tr>\n",
       "    <tr>\n",
       "      <th>18</th>\n",
       "      <td>2021</td>\n",
       "      <td>Maîtrise vers Cadre</td>\n",
       "      <td>Femme</td>\n",
       "      <td>127.0</td>\n",
       "      <td>Maitrise</td>\n",
       "      <td>Salariés ayant suivi au moins un stage</td>\n",
       "      <td>5811.0</td>\n",
       "      <td>Nombre</td>\n",
       "    </tr>\n",
       "    <tr>\n",
       "      <th>19</th>\n",
       "      <td>2021</td>\n",
       "      <td>Maîtrise vers Cadre</td>\n",
       "      <td>Homme</td>\n",
       "      <td>383.0</td>\n",
       "      <td>Maitrise</td>\n",
       "      <td>Salariés ayant suivi au moins un stage</td>\n",
       "      <td>17983.0</td>\n",
       "      <td>Nombre</td>\n",
       "    </tr>\n",
       "    <tr>\n",
       "      <th>20</th>\n",
       "      <td>2022</td>\n",
       "      <td>Exécution vers Maîtrise</td>\n",
       "      <td>Femme</td>\n",
       "      <td>104.0</td>\n",
       "      <td>Exécution</td>\n",
       "      <td>Salariés ayant suivi au moins un stage</td>\n",
       "      <td>1323.0</td>\n",
       "      <td>Nombre</td>\n",
       "    </tr>\n",
       "    <tr>\n",
       "      <th>21</th>\n",
       "      <td>2022</td>\n",
       "      <td>Exécution vers Maîtrise</td>\n",
       "      <td>Homme</td>\n",
       "      <td>235.0</td>\n",
       "      <td>Exécution</td>\n",
       "      <td>Salariés ayant suivi au moins un stage</td>\n",
       "      <td>2838.0</td>\n",
       "      <td>Nombre</td>\n",
       "    </tr>\n",
       "    <tr>\n",
       "      <th>22</th>\n",
       "      <td>2022</td>\n",
       "      <td>Maîtrise vers Cadre</td>\n",
       "      <td>Femme</td>\n",
       "      <td>152.0</td>\n",
       "      <td>Maitrise</td>\n",
       "      <td>Salariés ayant suivi au moins un stage</td>\n",
       "      <td>5656.0</td>\n",
       "      <td>Nombre</td>\n",
       "    </tr>\n",
       "    <tr>\n",
       "      <th>23</th>\n",
       "      <td>2022</td>\n",
       "      <td>Maîtrise vers Cadre</td>\n",
       "      <td>Homme</td>\n",
       "      <td>394.0</td>\n",
       "      <td>Maitrise</td>\n",
       "      <td>Salariés ayant suivi au moins un stage</td>\n",
       "      <td>18289.0</td>\n",
       "      <td>Nombre</td>\n",
       "    </tr>\n",
       "    <tr>\n",
       "      <th>24</th>\n",
       "      <td>2023</td>\n",
       "      <td>Exécution vers Maîtrise</td>\n",
       "      <td>Femme</td>\n",
       "      <td>117.0</td>\n",
       "      <td>Exécution</td>\n",
       "      <td>Salariés ayant suivi au moins un stage</td>\n",
       "      <td>1375.0</td>\n",
       "      <td>nombre</td>\n",
       "    </tr>\n",
       "    <tr>\n",
       "      <th>25</th>\n",
       "      <td>2023</td>\n",
       "      <td>Exécution vers Maîtrise</td>\n",
       "      <td>Homme</td>\n",
       "      <td>249.0</td>\n",
       "      <td>Exécution</td>\n",
       "      <td>Salariés ayant suivi au moins un stage</td>\n",
       "      <td>3315.0</td>\n",
       "      <td>nombre</td>\n",
       "    </tr>\n",
       "    <tr>\n",
       "      <th>26</th>\n",
       "      <td>2023</td>\n",
       "      <td>Maîtrise vers Cadre</td>\n",
       "      <td>Femme</td>\n",
       "      <td>172.0</td>\n",
       "      <td>Maitrise</td>\n",
       "      <td>Salariés ayant suivi au moins un stage</td>\n",
       "      <td>5618.0</td>\n",
       "      <td>nombre</td>\n",
       "    </tr>\n",
       "    <tr>\n",
       "      <th>27</th>\n",
       "      <td>2023</td>\n",
       "      <td>Maîtrise vers Cadre</td>\n",
       "      <td>Homme</td>\n",
       "      <td>465.0</td>\n",
       "      <td>Maitrise</td>\n",
       "      <td>Salariés ayant suivi au moins un stage</td>\n",
       "      <td>18665.0</td>\n",
       "      <td>nombre</td>\n",
       "    </tr>\n",
       "  </tbody>\n",
       "</table>\n",
       "</div>"
      ],
      "text/plain": [
       "    Année                Evolution  Genre  Nombre Evolutions    Collège  \\\n",
       "0    2017  Exécution vers Maîtrise  Femme              118.0  Exécution   \n",
       "1    2017  Exécution vers Maîtrise  Homme              269.0  Exécution   \n",
       "2    2017      Maîtrise vers Cadre  Femme              152.0   Maitrise   \n",
       "3    2017      Maîtrise vers Cadre  Homme              445.0   Maitrise   \n",
       "4    2018  Exécution vers Maîtrise  Femme              103.0  Exécution   \n",
       "5    2018  Exécution vers Maîtrise  Homme              251.0  Exécution   \n",
       "6    2018      Maîtrise vers Cadre  Femme              165.0   Maitrise   \n",
       "7    2018      Maîtrise vers Cadre  Homme              441.0   Maitrise   \n",
       "8    2019  Exécution vers Maîtrise  Femme              132.0  Exécution   \n",
       "9    2019  Exécution vers Maîtrise  Homme              339.0  Exécution   \n",
       "10   2019      Maîtrise vers Cadre  Femme              178.0   Maitrise   \n",
       "11   2019      Maîtrise vers Cadre  Homme              446.0   Maitrise   \n",
       "12   2020  Exécution vers Maîtrise  Femme               99.0  Exécution   \n",
       "13   2020  Exécution vers Maîtrise  Homme              302.0  Exécution   \n",
       "14   2020      Maîtrise vers Cadre  Femme              159.0   Maitrise   \n",
       "15   2020      Maîtrise vers Cadre  Homme              361.0   Maitrise   \n",
       "16   2021  Exécution vers Maîtrise  Femme               97.0  Exécution   \n",
       "17   2021  Exécution vers Maîtrise  Homme              235.0  Exécution   \n",
       "18   2021      Maîtrise vers Cadre  Femme              127.0   Maitrise   \n",
       "19   2021      Maîtrise vers Cadre  Homme              383.0   Maitrise   \n",
       "20   2022  Exécution vers Maîtrise  Femme              104.0  Exécution   \n",
       "21   2022  Exécution vers Maîtrise  Homme              235.0  Exécution   \n",
       "22   2022      Maîtrise vers Cadre  Femme              152.0   Maitrise   \n",
       "23   2022      Maîtrise vers Cadre  Homme              394.0   Maitrise   \n",
       "24   2023  Exécution vers Maîtrise  Femme              117.0  Exécution   \n",
       "25   2023  Exécution vers Maîtrise  Homme              249.0  Exécution   \n",
       "26   2023      Maîtrise vers Cadre  Femme              172.0   Maitrise   \n",
       "27   2023      Maîtrise vers Cadre  Homme              465.0   Maitrise   \n",
       "\n",
       "                                Indicateur  Population formee   Unité  \n",
       "0   Salariés ayant suivi au moins un stage             2508.0  Nombre  \n",
       "1   Salariés ayant suivi au moins un stage             3620.0  Nombre  \n",
       "2   Salariés ayant suivi au moins un stage             8103.0  Nombre  \n",
       "3   Salariés ayant suivi au moins un stage            20045.0  Nombre  \n",
       "4   Salariés ayant suivi au moins un stage             2334.0  Nombre  \n",
       "5   Salariés ayant suivi au moins un stage             3550.0  Nombre  \n",
       "6   Salariés ayant suivi au moins un stage             7683.0  Nombre  \n",
       "7   Salariés ayant suivi au moins un stage            19607.0  Nombre  \n",
       "8   Salariés ayant suivi au moins un stage             1670.0  Nombre  \n",
       "9   Salariés ayant suivi au moins un stage             2888.0  Nombre  \n",
       "10  Salariés ayant suivi au moins un stage             6832.0  Nombre  \n",
       "11  Salariés ayant suivi au moins un stage            18773.0  Nombre  \n",
       "12  Salariés ayant suivi au moins un stage             1474.0  Nombre  \n",
       "13  Salariés ayant suivi au moins un stage             2437.0  Nombre  \n",
       "14  Salariés ayant suivi au moins un stage             5240.0  Nombre  \n",
       "15  Salariés ayant suivi au moins un stage            17046.0  Nombre  \n",
       "16  Salariés ayant suivi au moins un stage             1396.0  Nombre  \n",
       "17  Salariés ayant suivi au moins un stage             2606.0  Nombre  \n",
       "18  Salariés ayant suivi au moins un stage             5811.0  Nombre  \n",
       "19  Salariés ayant suivi au moins un stage            17983.0  Nombre  \n",
       "20  Salariés ayant suivi au moins un stage             1323.0  Nombre  \n",
       "21  Salariés ayant suivi au moins un stage             2838.0  Nombre  \n",
       "22  Salariés ayant suivi au moins un stage             5656.0  Nombre  \n",
       "23  Salariés ayant suivi au moins un stage            18289.0  Nombre  \n",
       "24  Salariés ayant suivi au moins un stage             1375.0  nombre  \n",
       "25  Salariés ayant suivi au moins un stage             3315.0  nombre  \n",
       "26  Salariés ayant suivi au moins un stage             5618.0  nombre  \n",
       "27  Salariés ayant suivi au moins un stage            18665.0  nombre  "
      ]
     },
     "execution_count": 118,
     "metadata": {},
     "output_type": "execute_result"
    }
   ],
   "source": [
    "df1_2 = pd.merge(promotion, formation, on=['Année','Collège','Genre'], how='inner')\n",
    "df1_2 = df1_2.rename(columns={'Valeur_x': 'Nombre Evolutions'})\n",
    "df1_2 = df1_2.rename(columns={'Valeur_y': 'Population formee'})\n",
    "df1_2"
   ]
  },
  {
   "cell_type": "code",
   "execution_count": 87,
   "metadata": {},
   "outputs": [
    {
     "data": {
      "application/vnd.plotly.v1+json": {
       "config": {
        "plotlyServerURL": "https://plot.ly"
       },
       "data": [
        {
         "hovertemplate": "Evolution=Exécution vers Maîtrise<br>Type=Nombre Evolutions<br>Genre=Femme<br>Année=%{x}<br>Valeur=%{y}<extra></extra>",
         "legendgroup": "Exécution vers Maîtrise, Nombre Evolutions",
         "line": {
          "color": "#636efa",
          "dash": "solid"
         },
         "marker": {
          "symbol": "circle"
         },
         "mode": "lines",
         "name": "Exécution vers Maîtrise, Nombre Evolutions",
         "orientation": "v",
         "showlegend": true,
         "type": "scatter",
         "visible": true,
         "x": [
          2017,
          2018,
          2019,
          2020,
          2021,
          2022,
          2023
         ],
         "xaxis": "x2",
         "y": [
          118,
          103,
          132,
          99,
          97,
          104,
          117
         ],
         "yaxis": "y2"
        },
        {
         "hovertemplate": "Evolution=Exécution vers Maîtrise<br>Type=Nombre Evolutions<br>Genre=Homme<br>Année=%{x}<br>Valeur=%{y}<extra></extra>",
         "legendgroup": "Exécution vers Maîtrise, Nombre Evolutions",
         "line": {
          "color": "#636efa",
          "dash": "solid"
         },
         "marker": {
          "symbol": "circle"
         },
         "mode": "lines",
         "name": "Exécution vers Maîtrise, Nombre Evolutions",
         "orientation": "v",
         "showlegend": false,
         "type": "scatter",
         "visible": true,
         "x": [
          2017,
          2018,
          2019,
          2020,
          2021,
          2022,
          2023
         ],
         "xaxis": "x",
         "y": [
          269,
          251,
          339,
          302,
          235,
          235,
          249
         ],
         "yaxis": "y"
        },
        {
         "hovertemplate": "Evolution=Exécution vers Maîtrise<br>Type=Population formee<br>Genre=Femme<br>Année=%{x}<br>Valeur=%{y}<extra></extra>",
         "legendgroup": "Exécution vers Maîtrise, Population formee",
         "line": {
          "color": "#636efa",
          "dash": "dot"
         },
         "marker": {
          "symbol": "circle"
         },
         "mode": "lines",
         "name": "Exécution vers Maîtrise, Population formee",
         "orientation": "v",
         "showlegend": true,
         "type": "scatter",
         "visible": true,
         "x": [
          2017,
          2018,
          2019,
          2020,
          2021,
          2022,
          2023
         ],
         "xaxis": "x2",
         "y": [
          2508,
          2334,
          1670,
          1474,
          1396,
          1323,
          1375
         ],
         "yaxis": "y2"
        },
        {
         "hovertemplate": "Evolution=Exécution vers Maîtrise<br>Type=Population formee<br>Genre=Homme<br>Année=%{x}<br>Valeur=%{y}<extra></extra>",
         "legendgroup": "Exécution vers Maîtrise, Population formee",
         "line": {
          "color": "#636efa",
          "dash": "dot"
         },
         "marker": {
          "symbol": "circle"
         },
         "mode": "lines",
         "name": "Exécution vers Maîtrise, Population formee",
         "orientation": "v",
         "showlegend": false,
         "type": "scatter",
         "visible": true,
         "x": [
          2017,
          2018,
          2019,
          2020,
          2021,
          2022,
          2023
         ],
         "xaxis": "x",
         "y": [
          3620,
          3550,
          2888,
          2437,
          2606,
          2838,
          3315
         ],
         "yaxis": "y"
        },
        {
         "hovertemplate": "Evolution=Maîtrise vers Cadre<br>Type=Nombre Evolutions<br>Genre=Femme<br>Année=%{x}<br>Valeur=%{y}<extra></extra>",
         "legendgroup": "Maîtrise vers Cadre, Nombre Evolutions",
         "line": {
          "color": "#EF553B",
          "dash": "solid"
         },
         "marker": {
          "symbol": "circle"
         },
         "mode": "lines",
         "name": "Maîtrise vers Cadre, Nombre Evolutions",
         "orientation": "v",
         "showlegend": true,
         "type": "scatter",
         "visible": "legendonly",
         "x": [
          2017,
          2018,
          2019,
          2020,
          2021,
          2022,
          2023
         ],
         "xaxis": "x2",
         "y": [
          152,
          165,
          178,
          159,
          127,
          152,
          172
         ],
         "yaxis": "y2"
        },
        {
         "hovertemplate": "Evolution=Maîtrise vers Cadre<br>Type=Nombre Evolutions<br>Genre=Homme<br>Année=%{x}<br>Valeur=%{y}<extra></extra>",
         "legendgroup": "Maîtrise vers Cadre, Nombre Evolutions",
         "line": {
          "color": "#EF553B",
          "dash": "solid"
         },
         "marker": {
          "symbol": "circle"
         },
         "mode": "lines",
         "name": "Maîtrise vers Cadre, Nombre Evolutions",
         "orientation": "v",
         "showlegend": false,
         "type": "scatter",
         "visible": "legendonly",
         "x": [
          2017,
          2018,
          2019,
          2020,
          2021,
          2022,
          2023
         ],
         "xaxis": "x",
         "y": [
          445,
          441,
          446,
          361,
          383,
          394,
          465
         ],
         "yaxis": "y"
        },
        {
         "hovertemplate": "Evolution=Maîtrise vers Cadre<br>Type=Population formee<br>Genre=Femme<br>Année=%{x}<br>Valeur=%{y}<extra></extra>",
         "legendgroup": "Maîtrise vers Cadre, Population formee",
         "line": {
          "color": "#EF553B",
          "dash": "dot"
         },
         "marker": {
          "symbol": "circle"
         },
         "mode": "lines",
         "name": "Maîtrise vers Cadre, Population formee",
         "orientation": "v",
         "showlegend": true,
         "type": "scatter",
         "visible": "legendonly",
         "x": [
          2017,
          2018,
          2019,
          2020,
          2021,
          2022,
          2023
         ],
         "xaxis": "x2",
         "y": [
          8103,
          7683,
          6832,
          5240,
          5811,
          5656,
          5618
         ],
         "yaxis": "y2"
        },
        {
         "hovertemplate": "Evolution=Maîtrise vers Cadre<br>Type=Population formee<br>Genre=Homme<br>Année=%{x}<br>Valeur=%{y}<extra></extra>",
         "legendgroup": "Maîtrise vers Cadre, Population formee",
         "line": {
          "color": "#EF553B",
          "dash": "dot"
         },
         "marker": {
          "symbol": "circle"
         },
         "mode": "lines",
         "name": "Maîtrise vers Cadre, Population formee",
         "orientation": "v",
         "showlegend": false,
         "type": "scatter",
         "visible": "legendonly",
         "x": [
          2017,
          2018,
          2019,
          2020,
          2021,
          2022,
          2023
         ],
         "xaxis": "x",
         "y": [
          20045,
          19607,
          18773,
          17046,
          17983,
          18289,
          18665
         ],
         "yaxis": "y"
        }
       ],
       "layout": {
        "annotations": [
         {
          "font": {},
          "showarrow": false,
          "text": "Genre=Homme",
          "textangle": 90,
          "x": 0.98,
          "xanchor": "left",
          "xref": "paper",
          "y": 0.2425,
          "yanchor": "middle",
          "yref": "paper"
         },
         {
          "font": {},
          "showarrow": false,
          "text": "Genre=Femme",
          "textangle": 90,
          "x": 0.98,
          "xanchor": "left",
          "xref": "paper",
          "y": 0.7575000000000001,
          "yanchor": "middle",
          "yref": "paper"
         }
        ],
        "height": 800,
        "legend": {
         "title": {
          "text": "Évolution et Type de Valeur"
         },
         "tracegroupgap": 0
        },
        "template": {
         "data": {
          "bar": [
           {
            "error_x": {
             "color": "#2a3f5f"
            },
            "error_y": {
             "color": "#2a3f5f"
            },
            "marker": {
             "line": {
              "color": "#E5ECF6",
              "width": 0.5
             },
             "pattern": {
              "fillmode": "overlay",
              "size": 10,
              "solidity": 0.2
             }
            },
            "type": "bar"
           }
          ],
          "barpolar": [
           {
            "marker": {
             "line": {
              "color": "#E5ECF6",
              "width": 0.5
             },
             "pattern": {
              "fillmode": "overlay",
              "size": 10,
              "solidity": 0.2
             }
            },
            "type": "barpolar"
           }
          ],
          "carpet": [
           {
            "aaxis": {
             "endlinecolor": "#2a3f5f",
             "gridcolor": "white",
             "linecolor": "white",
             "minorgridcolor": "white",
             "startlinecolor": "#2a3f5f"
            },
            "baxis": {
             "endlinecolor": "#2a3f5f",
             "gridcolor": "white",
             "linecolor": "white",
             "minorgridcolor": "white",
             "startlinecolor": "#2a3f5f"
            },
            "type": "carpet"
           }
          ],
          "choropleth": [
           {
            "colorbar": {
             "outlinewidth": 0,
             "ticks": ""
            },
            "type": "choropleth"
           }
          ],
          "contour": [
           {
            "colorbar": {
             "outlinewidth": 0,
             "ticks": ""
            },
            "colorscale": [
             [
              0,
              "#0d0887"
             ],
             [
              0.1111111111111111,
              "#46039f"
             ],
             [
              0.2222222222222222,
              "#7201a8"
             ],
             [
              0.3333333333333333,
              "#9c179e"
             ],
             [
              0.4444444444444444,
              "#bd3786"
             ],
             [
              0.5555555555555556,
              "#d8576b"
             ],
             [
              0.6666666666666666,
              "#ed7953"
             ],
             [
              0.7777777777777778,
              "#fb9f3a"
             ],
             [
              0.8888888888888888,
              "#fdca26"
             ],
             [
              1,
              "#f0f921"
             ]
            ],
            "type": "contour"
           }
          ],
          "contourcarpet": [
           {
            "colorbar": {
             "outlinewidth": 0,
             "ticks": ""
            },
            "type": "contourcarpet"
           }
          ],
          "heatmap": [
           {
            "colorbar": {
             "outlinewidth": 0,
             "ticks": ""
            },
            "colorscale": [
             [
              0,
              "#0d0887"
             ],
             [
              0.1111111111111111,
              "#46039f"
             ],
             [
              0.2222222222222222,
              "#7201a8"
             ],
             [
              0.3333333333333333,
              "#9c179e"
             ],
             [
              0.4444444444444444,
              "#bd3786"
             ],
             [
              0.5555555555555556,
              "#d8576b"
             ],
             [
              0.6666666666666666,
              "#ed7953"
             ],
             [
              0.7777777777777778,
              "#fb9f3a"
             ],
             [
              0.8888888888888888,
              "#fdca26"
             ],
             [
              1,
              "#f0f921"
             ]
            ],
            "type": "heatmap"
           }
          ],
          "heatmapgl": [
           {
            "colorbar": {
             "outlinewidth": 0,
             "ticks": ""
            },
            "colorscale": [
             [
              0,
              "#0d0887"
             ],
             [
              0.1111111111111111,
              "#46039f"
             ],
             [
              0.2222222222222222,
              "#7201a8"
             ],
             [
              0.3333333333333333,
              "#9c179e"
             ],
             [
              0.4444444444444444,
              "#bd3786"
             ],
             [
              0.5555555555555556,
              "#d8576b"
             ],
             [
              0.6666666666666666,
              "#ed7953"
             ],
             [
              0.7777777777777778,
              "#fb9f3a"
             ],
             [
              0.8888888888888888,
              "#fdca26"
             ],
             [
              1,
              "#f0f921"
             ]
            ],
            "type": "heatmapgl"
           }
          ],
          "histogram": [
           {
            "marker": {
             "pattern": {
              "fillmode": "overlay",
              "size": 10,
              "solidity": 0.2
             }
            },
            "type": "histogram"
           }
          ],
          "histogram2d": [
           {
            "colorbar": {
             "outlinewidth": 0,
             "ticks": ""
            },
            "colorscale": [
             [
              0,
              "#0d0887"
             ],
             [
              0.1111111111111111,
              "#46039f"
             ],
             [
              0.2222222222222222,
              "#7201a8"
             ],
             [
              0.3333333333333333,
              "#9c179e"
             ],
             [
              0.4444444444444444,
              "#bd3786"
             ],
             [
              0.5555555555555556,
              "#d8576b"
             ],
             [
              0.6666666666666666,
              "#ed7953"
             ],
             [
              0.7777777777777778,
              "#fb9f3a"
             ],
             [
              0.8888888888888888,
              "#fdca26"
             ],
             [
              1,
              "#f0f921"
             ]
            ],
            "type": "histogram2d"
           }
          ],
          "histogram2dcontour": [
           {
            "colorbar": {
             "outlinewidth": 0,
             "ticks": ""
            },
            "colorscale": [
             [
              0,
              "#0d0887"
             ],
             [
              0.1111111111111111,
              "#46039f"
             ],
             [
              0.2222222222222222,
              "#7201a8"
             ],
             [
              0.3333333333333333,
              "#9c179e"
             ],
             [
              0.4444444444444444,
              "#bd3786"
             ],
             [
              0.5555555555555556,
              "#d8576b"
             ],
             [
              0.6666666666666666,
              "#ed7953"
             ],
             [
              0.7777777777777778,
              "#fb9f3a"
             ],
             [
              0.8888888888888888,
              "#fdca26"
             ],
             [
              1,
              "#f0f921"
             ]
            ],
            "type": "histogram2dcontour"
           }
          ],
          "mesh3d": [
           {
            "colorbar": {
             "outlinewidth": 0,
             "ticks": ""
            },
            "type": "mesh3d"
           }
          ],
          "parcoords": [
           {
            "line": {
             "colorbar": {
              "outlinewidth": 0,
              "ticks": ""
             }
            },
            "type": "parcoords"
           }
          ],
          "pie": [
           {
            "automargin": true,
            "type": "pie"
           }
          ],
          "scatter": [
           {
            "fillpattern": {
             "fillmode": "overlay",
             "size": 10,
             "solidity": 0.2
            },
            "type": "scatter"
           }
          ],
          "scatter3d": [
           {
            "line": {
             "colorbar": {
              "outlinewidth": 0,
              "ticks": ""
             }
            },
            "marker": {
             "colorbar": {
              "outlinewidth": 0,
              "ticks": ""
             }
            },
            "type": "scatter3d"
           }
          ],
          "scattercarpet": [
           {
            "marker": {
             "colorbar": {
              "outlinewidth": 0,
              "ticks": ""
             }
            },
            "type": "scattercarpet"
           }
          ],
          "scattergeo": [
           {
            "marker": {
             "colorbar": {
              "outlinewidth": 0,
              "ticks": ""
             }
            },
            "type": "scattergeo"
           }
          ],
          "scattergl": [
           {
            "marker": {
             "colorbar": {
              "outlinewidth": 0,
              "ticks": ""
             }
            },
            "type": "scattergl"
           }
          ],
          "scattermapbox": [
           {
            "marker": {
             "colorbar": {
              "outlinewidth": 0,
              "ticks": ""
             }
            },
            "type": "scattermapbox"
           }
          ],
          "scatterpolar": [
           {
            "marker": {
             "colorbar": {
              "outlinewidth": 0,
              "ticks": ""
             }
            },
            "type": "scatterpolar"
           }
          ],
          "scatterpolargl": [
           {
            "marker": {
             "colorbar": {
              "outlinewidth": 0,
              "ticks": ""
             }
            },
            "type": "scatterpolargl"
           }
          ],
          "scatterternary": [
           {
            "marker": {
             "colorbar": {
              "outlinewidth": 0,
              "ticks": ""
             }
            },
            "type": "scatterternary"
           }
          ],
          "surface": [
           {
            "colorbar": {
             "outlinewidth": 0,
             "ticks": ""
            },
            "colorscale": [
             [
              0,
              "#0d0887"
             ],
             [
              0.1111111111111111,
              "#46039f"
             ],
             [
              0.2222222222222222,
              "#7201a8"
             ],
             [
              0.3333333333333333,
              "#9c179e"
             ],
             [
              0.4444444444444444,
              "#bd3786"
             ],
             [
              0.5555555555555556,
              "#d8576b"
             ],
             [
              0.6666666666666666,
              "#ed7953"
             ],
             [
              0.7777777777777778,
              "#fb9f3a"
             ],
             [
              0.8888888888888888,
              "#fdca26"
             ],
             [
              1,
              "#f0f921"
             ]
            ],
            "type": "surface"
           }
          ],
          "table": [
           {
            "cells": {
             "fill": {
              "color": "#EBF0F8"
             },
             "line": {
              "color": "white"
             }
            },
            "header": {
             "fill": {
              "color": "#C8D4E3"
             },
             "line": {
              "color": "white"
             }
            },
            "type": "table"
           }
          ]
         },
         "layout": {
          "annotationdefaults": {
           "arrowcolor": "#2a3f5f",
           "arrowhead": 0,
           "arrowwidth": 1
          },
          "autotypenumbers": "strict",
          "coloraxis": {
           "colorbar": {
            "outlinewidth": 0,
            "ticks": ""
           }
          },
          "colorscale": {
           "diverging": [
            [
             0,
             "#8e0152"
            ],
            [
             0.1,
             "#c51b7d"
            ],
            [
             0.2,
             "#de77ae"
            ],
            [
             0.3,
             "#f1b6da"
            ],
            [
             0.4,
             "#fde0ef"
            ],
            [
             0.5,
             "#f7f7f7"
            ],
            [
             0.6,
             "#e6f5d0"
            ],
            [
             0.7,
             "#b8e186"
            ],
            [
             0.8,
             "#7fbc41"
            ],
            [
             0.9,
             "#4d9221"
            ],
            [
             1,
             "#276419"
            ]
           ],
           "sequential": [
            [
             0,
             "#0d0887"
            ],
            [
             0.1111111111111111,
             "#46039f"
            ],
            [
             0.2222222222222222,
             "#7201a8"
            ],
            [
             0.3333333333333333,
             "#9c179e"
            ],
            [
             0.4444444444444444,
             "#bd3786"
            ],
            [
             0.5555555555555556,
             "#d8576b"
            ],
            [
             0.6666666666666666,
             "#ed7953"
            ],
            [
             0.7777777777777778,
             "#fb9f3a"
            ],
            [
             0.8888888888888888,
             "#fdca26"
            ],
            [
             1,
             "#f0f921"
            ]
           ],
           "sequentialminus": [
            [
             0,
             "#0d0887"
            ],
            [
             0.1111111111111111,
             "#46039f"
            ],
            [
             0.2222222222222222,
             "#7201a8"
            ],
            [
             0.3333333333333333,
             "#9c179e"
            ],
            [
             0.4444444444444444,
             "#bd3786"
            ],
            [
             0.5555555555555556,
             "#d8576b"
            ],
            [
             0.6666666666666666,
             "#ed7953"
            ],
            [
             0.7777777777777778,
             "#fb9f3a"
            ],
            [
             0.8888888888888888,
             "#fdca26"
            ],
            [
             1,
             "#f0f921"
            ]
           ]
          },
          "colorway": [
           "#636efa",
           "#EF553B",
           "#00cc96",
           "#ab63fa",
           "#FFA15A",
           "#19d3f3",
           "#FF6692",
           "#B6E880",
           "#FF97FF",
           "#FECB52"
          ],
          "font": {
           "color": "#2a3f5f"
          },
          "geo": {
           "bgcolor": "white",
           "lakecolor": "white",
           "landcolor": "#E5ECF6",
           "showlakes": true,
           "showland": true,
           "subunitcolor": "white"
          },
          "hoverlabel": {
           "align": "left"
          },
          "hovermode": "closest",
          "mapbox": {
           "style": "light"
          },
          "paper_bgcolor": "white",
          "plot_bgcolor": "#E5ECF6",
          "polar": {
           "angularaxis": {
            "gridcolor": "white",
            "linecolor": "white",
            "ticks": ""
           },
           "bgcolor": "#E5ECF6",
           "radialaxis": {
            "gridcolor": "white",
            "linecolor": "white",
            "ticks": ""
           }
          },
          "scene": {
           "xaxis": {
            "backgroundcolor": "#E5ECF6",
            "gridcolor": "white",
            "gridwidth": 2,
            "linecolor": "white",
            "showbackground": true,
            "ticks": "",
            "zerolinecolor": "white"
           },
           "yaxis": {
            "backgroundcolor": "#E5ECF6",
            "gridcolor": "white",
            "gridwidth": 2,
            "linecolor": "white",
            "showbackground": true,
            "ticks": "",
            "zerolinecolor": "white"
           },
           "zaxis": {
            "backgroundcolor": "#E5ECF6",
            "gridcolor": "white",
            "gridwidth": 2,
            "linecolor": "white",
            "showbackground": true,
            "ticks": "",
            "zerolinecolor": "white"
           }
          },
          "shapedefaults": {
           "line": {
            "color": "#2a3f5f"
           }
          },
          "ternary": {
           "aaxis": {
            "gridcolor": "white",
            "linecolor": "white",
            "ticks": ""
           },
           "baxis": {
            "gridcolor": "white",
            "linecolor": "white",
            "ticks": ""
           },
           "bgcolor": "#E5ECF6",
           "caxis": {
            "gridcolor": "white",
            "linecolor": "white",
            "ticks": ""
           }
          },
          "title": {
           "x": 0.05
          },
          "xaxis": {
           "automargin": true,
           "gridcolor": "white",
           "linecolor": "white",
           "ticks": "",
           "title": {
            "standoff": 15
           },
           "zerolinecolor": "white",
           "zerolinewidth": 2
          },
          "yaxis": {
           "automargin": true,
           "gridcolor": "white",
           "linecolor": "white",
           "ticks": "",
           "title": {
            "standoff": 15
           },
           "zerolinecolor": "white",
           "zerolinewidth": 2
          }
         }
        },
        "title": {
         "text": "Corrélation entre le nombre de personnes formées et les évolutions"
        },
        "updatemenus": [
         {
          "buttons": [
           {
            "args": [
             {
              "visible": [
               true,
               true,
               true,
               true,
               false,
               false,
               false,
               false
              ]
             },
             {
              "title": "Corrélation pour l'évolution : Exécution vers Maîtrise"
             }
            ],
            "label": "Exécution vers Maîtrise",
            "method": "update"
           },
           {
            "args": [
             {
              "visible": [
               false,
               false,
               false,
               false,
               true,
               true,
               true,
               true
              ]
             },
             {
              "title": "Corrélation pour l'évolution : Maîtrise vers Cadre"
             }
            ],
            "label": "Maîtrise vers Cadre",
            "method": "update"
           }
          ],
          "direction": "down",
          "showactive": true,
          "x": 1.35,
          "xanchor": "right",
          "y": 1.1,
          "yanchor": "top"
         }
        ],
        "xaxis": {
         "anchor": "y",
         "domain": [
          0,
          0.98
         ],
         "title": {
          "text": "Année"
         }
        },
        "xaxis2": {
         "anchor": "y2",
         "domain": [
          0,
          0.98
         ],
         "matches": "x",
         "showticklabels": false
        },
        "yaxis": {
         "anchor": "x",
         "domain": [
          0,
          0.485
         ],
         "title": {
          "text": "Valeur"
         }
        },
        "yaxis2": {
         "anchor": "x2",
         "domain": [
          0.515,
          1
         ],
         "matches": "y",
         "title": {
          "text": "Valeur"
         }
        }
       }
      }
     },
     "metadata": {},
     "output_type": "display_data"
    }
   ],
   "source": [
    "import pandas as pd\n",
    "import plotly.express as px\n",
    "\n",
    "# Transformer les données en format long\n",
    "df_long = df1_2.melt(\n",
    "    id_vars=['Année', 'Evolution', 'Genre'], \n",
    "    value_vars=['Nombre Evolutions', 'Population formee'], \n",
    "    var_name='Type de Valeur', \n",
    "    value_name='Valeur'\n",
    ")\n",
    "\n",
    "# Créer le graphique\n",
    "fig = px.line(\n",
    "    df_long,\n",
    "    x='Année',\n",
    "    y='Valeur',\n",
    "    color='Evolution',  # Couleurs différenciées par évolution\n",
    "    line_dash='Type de Valeur',  # Style de ligne différencié par type de valeur\n",
    "    facet_row='Genre',  # Séparer les graphiques pour Femme (haut) et Homme (bas)\n",
    "    title=\"Corrélation entre le nombre de personnes formées et les évolutions\",\n",
    "    labels={'Valeur': 'Valeur', 'Année': 'Année', 'Type de Valeur': 'Type'},\n",
    "    height=800\n",
    ")\n",
    "\n",
    "# Définir les options du menu déroulant\n",
    "dropdown_buttons = [\n",
    "    dict(label=\"Exécution vers Maîtrise\",\n",
    "         method=\"update\",\n",
    "         args=[{\"visible\": ['Exécution vers Maîtrise' in trace.name for trace in fig.data]},\n",
    "               {\"title\": \"Corrélation pour l'évolution : Exécution vers Maîtrise\"}]),\n",
    "    dict(label=\"Maîtrise vers Cadre\",\n",
    "         method=\"update\",\n",
    "         args=[{\"visible\": ['Maîtrise vers Cadre' in trace.name for trace in fig.data]},\n",
    "               {\"title\": \"Corrélation pour l'évolution : Maîtrise vers Cadre\"}])\n",
    "]\n",
    "\n",
    "# Initialiser les courbes visibles pour \"Exécution vers Maîtrise\" (par défaut)\n",
    "default_visible = ['Exécution vers Maîtrise' in trace.name for trace in fig.data]\n",
    "fig.for_each_trace(lambda trace: trace.update(visible='legendonly'))  # Masquer toutes les traces par défaut\n",
    "for trace, visible in zip(fig.data, default_visible):\n",
    "    trace.visible = True if visible else 'legendonly'\n",
    "\n",
    "# Mettre à jour la mise en page pour inclure le menu déroulant\n",
    "fig.update_layout(\n",
    "    updatemenus=[\n",
    "        dict(\n",
    "            buttons=dropdown_buttons,\n",
    "            direction=\"down\",\n",
    "            showactive=True,\n",
    "            x=1.35,  # Position horizontale\n",
    "            xanchor=\"right\",\n",
    "            y=1.1,  # Position verticale\n",
    "            yanchor=\"top\"\n",
    "        )\n",
    "    ],\n",
    "    legend_title=\"Évolution et Type de Valeur\"\n",
    ")\n",
    "\n",
    "# Afficher le graphique\n",
    "fig.show()"
   ]
  },
  {
   "cell_type": "markdown",
   "metadata": {},
   "source": [
    "#### 3) Impact des conditions de travail sur l’absentéisme ET LES DE;ISSIONS####"
   ]
  },
  {
   "cell_type": "markdown",
   "metadata": {},
   "source": [
    "nuage de points\n"
   ]
  },
  {
   "cell_type": "code",
   "execution_count": 140,
   "metadata": {},
   "outputs": [
    {
     "data": {
      "text/html": [
       "<div>\n",
       "<style scoped>\n",
       "    .dataframe tbody tr th:only-of-type {\n",
       "        vertical-align: middle;\n",
       "    }\n",
       "\n",
       "    .dataframe tbody tr th {\n",
       "        vertical-align: top;\n",
       "    }\n",
       "\n",
       "    .dataframe thead th {\n",
       "        text-align: right;\n",
       "    }\n",
       "</style>\n",
       "<table border=\"1\" class=\"dataframe\">\n",
       "  <thead>\n",
       "    <tr style=\"text-align: right;\">\n",
       "      <th></th>\n",
       "      <th>Année</th>\n",
       "      <th>Collège</th>\n",
       "      <th>Total des heures d'arret maladie</th>\n",
       "    </tr>\n",
       "  </thead>\n",
       "  <tbody>\n",
       "    <tr>\n",
       "      <th>0</th>\n",
       "      <td>2017</td>\n",
       "      <td>Cadre</td>\n",
       "      <td>1081209.0</td>\n",
       "    </tr>\n",
       "    <tr>\n",
       "      <th>1</th>\n",
       "      <td>2017</td>\n",
       "      <td>Exécution</td>\n",
       "      <td>756905.0</td>\n",
       "    </tr>\n",
       "    <tr>\n",
       "      <th>2</th>\n",
       "      <td>2017</td>\n",
       "      <td>Maîtrise</td>\n",
       "      <td>2330284.0</td>\n",
       "    </tr>\n",
       "    <tr>\n",
       "      <th>3</th>\n",
       "      <td>2018</td>\n",
       "      <td>Cadre</td>\n",
       "      <td>1118943.0</td>\n",
       "    </tr>\n",
       "    <tr>\n",
       "      <th>4</th>\n",
       "      <td>2018</td>\n",
       "      <td>Exécution</td>\n",
       "      <td>702581.0</td>\n",
       "    </tr>\n",
       "    <tr>\n",
       "      <th>5</th>\n",
       "      <td>2018</td>\n",
       "      <td>Maîtrise</td>\n",
       "      <td>2288034.0</td>\n",
       "    </tr>\n",
       "    <tr>\n",
       "      <th>6</th>\n",
       "      <td>2019</td>\n",
       "      <td>Cadre</td>\n",
       "      <td>1110863.0</td>\n",
       "    </tr>\n",
       "    <tr>\n",
       "      <th>7</th>\n",
       "      <td>2019</td>\n",
       "      <td>Exécution</td>\n",
       "      <td>582413.0</td>\n",
       "    </tr>\n",
       "    <tr>\n",
       "      <th>8</th>\n",
       "      <td>2019</td>\n",
       "      <td>Maîtrise</td>\n",
       "      <td>2191619.0</td>\n",
       "    </tr>\n",
       "    <tr>\n",
       "      <th>9</th>\n",
       "      <td>2020</td>\n",
       "      <td>Cadre</td>\n",
       "      <td>1073816.0</td>\n",
       "    </tr>\n",
       "    <tr>\n",
       "      <th>10</th>\n",
       "      <td>2020</td>\n",
       "      <td>Exécution</td>\n",
       "      <td>474054.0</td>\n",
       "    </tr>\n",
       "    <tr>\n",
       "      <th>11</th>\n",
       "      <td>2020</td>\n",
       "      <td>Maîtrise</td>\n",
       "      <td>2049466.0</td>\n",
       "    </tr>\n",
       "    <tr>\n",
       "      <th>12</th>\n",
       "      <td>2021</td>\n",
       "      <td>Cadre</td>\n",
       "      <td>1133519.0</td>\n",
       "    </tr>\n",
       "    <tr>\n",
       "      <th>13</th>\n",
       "      <td>2021</td>\n",
       "      <td>Exécution</td>\n",
       "      <td>514709.0</td>\n",
       "    </tr>\n",
       "    <tr>\n",
       "      <th>14</th>\n",
       "      <td>2021</td>\n",
       "      <td>Maîtrise</td>\n",
       "      <td>2107507.0</td>\n",
       "    </tr>\n",
       "    <tr>\n",
       "      <th>15</th>\n",
       "      <td>2022</td>\n",
       "      <td>Cadre</td>\n",
       "      <td>1271907.0</td>\n",
       "    </tr>\n",
       "    <tr>\n",
       "      <th>16</th>\n",
       "      <td>2022</td>\n",
       "      <td>Exécution</td>\n",
       "      <td>501590.0</td>\n",
       "    </tr>\n",
       "    <tr>\n",
       "      <th>17</th>\n",
       "      <td>2022</td>\n",
       "      <td>Maîtrise</td>\n",
       "      <td>2277935.0</td>\n",
       "    </tr>\n",
       "    <tr>\n",
       "      <th>18</th>\n",
       "      <td>2023</td>\n",
       "      <td>Cadre</td>\n",
       "      <td>1182319.0</td>\n",
       "    </tr>\n",
       "    <tr>\n",
       "      <th>19</th>\n",
       "      <td>2023</td>\n",
       "      <td>Exécution</td>\n",
       "      <td>395846.0</td>\n",
       "    </tr>\n",
       "    <tr>\n",
       "      <th>20</th>\n",
       "      <td>2023</td>\n",
       "      <td>Maîtrise</td>\n",
       "      <td>1966648.0</td>\n",
       "    </tr>\n",
       "  </tbody>\n",
       "</table>\n",
       "</div>"
      ],
      "text/plain": [
       "    Année    Collège  Total des heures d'arret maladie\n",
       "0    2017      Cadre                         1081209.0\n",
       "1    2017  Exécution                          756905.0\n",
       "2    2017   Maîtrise                         2330284.0\n",
       "3    2018      Cadre                         1118943.0\n",
       "4    2018  Exécution                          702581.0\n",
       "5    2018   Maîtrise                         2288034.0\n",
       "6    2019      Cadre                         1110863.0\n",
       "7    2019  Exécution                          582413.0\n",
       "8    2019   Maîtrise                         2191619.0\n",
       "9    2020      Cadre                         1073816.0\n",
       "10   2020  Exécution                          474054.0\n",
       "11   2020   Maîtrise                         2049466.0\n",
       "12   2021      Cadre                         1133519.0\n",
       "13   2021  Exécution                          514709.0\n",
       "14   2021   Maîtrise                         2107507.0\n",
       "15   2022      Cadre                         1271907.0\n",
       "16   2022  Exécution                          501590.0\n",
       "17   2022   Maîtrise                         2277935.0\n",
       "18   2023      Cadre                         1182319.0\n",
       "19   2023  Exécution                          395846.0\n",
       "20   2023   Maîtrise                         1966648.0"
      ]
     },
     "execution_count": 140,
     "metadata": {},
     "output_type": "execute_result"
    }
   ],
   "source": [
    "maladie = pd.read_csv(\"data/absences.csv\", delimiter=\";\")\n",
    "maladie = maladie[maladie[\"Type de contrat\"]==\"Statutaires\"]\n",
    "drop = ['Perimètre juridique', 'Perimètre spatial',\n",
    "       'Spatial perimeter', 'Indicator',\n",
    "       'Type of contract', 'Employee category', 'Gender',\n",
    "       'Unit', 'Type de contrat', 'Unité', 'Chapitre du bilan social', 'Genre']\n",
    "maladie = maladie.drop(columns=drop)\n",
    "maladie = maladie[maladie[\"Indicateur\"] == \"Absence pour maladie\"]\n",
    "maladie = maladie.groupby([\"Année\", \"Collège\", \"Indicateur\"]).sum().reset_index()\n",
    "maladie = maladie.rename(columns={'Valeur': 'Total des heures d\\'arret maladie'})\n",
    "maladie = maladie.drop(columns=['Indicateur'])\n",
    "maladie"
   ]
  },
  {
   "cell_type": "code",
   "execution_count": 138,
   "metadata": {},
   "outputs": [
    {
     "data": {
      "text/html": [
       "<div>\n",
       "<style scoped>\n",
       "    .dataframe tbody tr th:only-of-type {\n",
       "        vertical-align: middle;\n",
       "    }\n",
       "\n",
       "    .dataframe tbody tr th {\n",
       "        vertical-align: top;\n",
       "    }\n",
       "\n",
       "    .dataframe thead th {\n",
       "        text-align: right;\n",
       "    }\n",
       "</style>\n",
       "<table border=\"1\" class=\"dataframe\">\n",
       "  <thead>\n",
       "    <tr style=\"text-align: right;\">\n",
       "      <th></th>\n",
       "      <th>Année</th>\n",
       "      <th>Collège</th>\n",
       "      <th>Total des heures de congés</th>\n",
       "    </tr>\n",
       "  </thead>\n",
       "  <tbody>\n",
       "    <tr>\n",
       "      <th>0</th>\n",
       "      <td>2017</td>\n",
       "      <td>Cadre</td>\n",
       "      <td>327130.0</td>\n",
       "    </tr>\n",
       "    <tr>\n",
       "      <th>1</th>\n",
       "      <td>2017</td>\n",
       "      <td>Exécution</td>\n",
       "      <td>71491.0</td>\n",
       "    </tr>\n",
       "    <tr>\n",
       "      <th>2</th>\n",
       "      <td>2017</td>\n",
       "      <td>Maîtrise</td>\n",
       "      <td>362252.0</td>\n",
       "    </tr>\n",
       "    <tr>\n",
       "      <th>3</th>\n",
       "      <td>2018</td>\n",
       "      <td>Cadre</td>\n",
       "      <td>350507.0</td>\n",
       "    </tr>\n",
       "    <tr>\n",
       "      <th>4</th>\n",
       "      <td>2018</td>\n",
       "      <td>Exécution</td>\n",
       "      <td>69055.0</td>\n",
       "    </tr>\n",
       "    <tr>\n",
       "      <th>5</th>\n",
       "      <td>2018</td>\n",
       "      <td>Maîtrise</td>\n",
       "      <td>370494.0</td>\n",
       "    </tr>\n",
       "    <tr>\n",
       "      <th>6</th>\n",
       "      <td>2019</td>\n",
       "      <td>Cadre</td>\n",
       "      <td>270791.0</td>\n",
       "    </tr>\n",
       "    <tr>\n",
       "      <th>7</th>\n",
       "      <td>2019</td>\n",
       "      <td>Exécution</td>\n",
       "      <td>51543.0</td>\n",
       "    </tr>\n",
       "    <tr>\n",
       "      <th>8</th>\n",
       "      <td>2019</td>\n",
       "      <td>Maîtrise</td>\n",
       "      <td>311058.0</td>\n",
       "    </tr>\n",
       "    <tr>\n",
       "      <th>9</th>\n",
       "      <td>2020</td>\n",
       "      <td>Cadre</td>\n",
       "      <td>235808.0</td>\n",
       "    </tr>\n",
       "    <tr>\n",
       "      <th>10</th>\n",
       "      <td>2020</td>\n",
       "      <td>Exécution</td>\n",
       "      <td>41014.0</td>\n",
       "    </tr>\n",
       "    <tr>\n",
       "      <th>11</th>\n",
       "      <td>2020</td>\n",
       "      <td>Maîtrise</td>\n",
       "      <td>272459.0</td>\n",
       "    </tr>\n",
       "    <tr>\n",
       "      <th>12</th>\n",
       "      <td>2021</td>\n",
       "      <td>Cadre</td>\n",
       "      <td>238688.0</td>\n",
       "    </tr>\n",
       "    <tr>\n",
       "      <th>13</th>\n",
       "      <td>2021</td>\n",
       "      <td>Exécution</td>\n",
       "      <td>41404.0</td>\n",
       "    </tr>\n",
       "    <tr>\n",
       "      <th>14</th>\n",
       "      <td>2021</td>\n",
       "      <td>Maîtrise</td>\n",
       "      <td>288599.0</td>\n",
       "    </tr>\n",
       "    <tr>\n",
       "      <th>15</th>\n",
       "      <td>2022</td>\n",
       "      <td>Cadre</td>\n",
       "      <td>235781.0</td>\n",
       "    </tr>\n",
       "    <tr>\n",
       "      <th>16</th>\n",
       "      <td>2022</td>\n",
       "      <td>Exécution</td>\n",
       "      <td>37738.0</td>\n",
       "    </tr>\n",
       "    <tr>\n",
       "      <th>17</th>\n",
       "      <td>2022</td>\n",
       "      <td>Maîtrise</td>\n",
       "      <td>288809.0</td>\n",
       "    </tr>\n",
       "    <tr>\n",
       "      <th>18</th>\n",
       "      <td>2023</td>\n",
       "      <td>Cadre</td>\n",
       "      <td>240549.0</td>\n",
       "    </tr>\n",
       "    <tr>\n",
       "      <th>19</th>\n",
       "      <td>2023</td>\n",
       "      <td>Exécution</td>\n",
       "      <td>38840.0</td>\n",
       "    </tr>\n",
       "    <tr>\n",
       "      <th>20</th>\n",
       "      <td>2023</td>\n",
       "      <td>Maîtrise</td>\n",
       "      <td>278008.0</td>\n",
       "    </tr>\n",
       "  </tbody>\n",
       "</table>\n",
       "</div>"
      ],
      "text/plain": [
       "    Année    Collège  Total des heures de congés\n",
       "0    2017      Cadre                    327130.0\n",
       "1    2017  Exécution                     71491.0\n",
       "2    2017   Maîtrise                    362252.0\n",
       "3    2018      Cadre                    350507.0\n",
       "4    2018  Exécution                     69055.0\n",
       "5    2018   Maîtrise                    370494.0\n",
       "6    2019      Cadre                    270791.0\n",
       "7    2019  Exécution                     51543.0\n",
       "8    2019   Maîtrise                    311058.0\n",
       "9    2020      Cadre                    235808.0\n",
       "10   2020  Exécution                     41014.0\n",
       "11   2020   Maîtrise                    272459.0\n",
       "12   2021      Cadre                    238688.0\n",
       "13   2021  Exécution                     41404.0\n",
       "14   2021   Maîtrise                    288599.0\n",
       "15   2022      Cadre                    235781.0\n",
       "16   2022  Exécution                     37738.0\n",
       "17   2022   Maîtrise                    288809.0\n",
       "18   2023      Cadre                    240549.0\n",
       "19   2023  Exécution                     38840.0\n",
       "20   2023   Maîtrise                    278008.0"
      ]
     },
     "execution_count": 138,
     "metadata": {},
     "output_type": "execute_result"
    }
   ],
   "source": [
    "vacances = pd.read_csv(\"data/absences.csv\", delimiter=\";\")\n",
    "vacances = vacances[vacances[\"Type de contrat\"]==\"Statutaires\"]\n",
    "drop = ['Perimètre juridique', 'Perimètre spatial',\n",
    "       'Spatial perimeter', 'Indicator',\n",
    "       'Type of contract', 'Employee category', 'Gender',\n",
    "       'Unit', 'Type de contrat', 'Chapitre du bilan social', 'Genre']\n",
    "vacances = vacances.drop(columns=drop)\n",
    "vacances = vacances[vacances[\"Indicateur\"] == \"Absence pour congés autorisés\"]\n",
    "vacances = vacances.groupby([\"Année\", \"Collège\", \"Indicateur\", \"Unité\"]).sum().reset_index()\n",
    "vacances = vacances.rename(columns={'Valeur': 'Total des heures de congés'})\n",
    "vacances = vacances.drop(columns=['Indicateur', 'Unité'])\n",
    "vacances"
   ]
  },
  {
   "cell_type": "code",
   "execution_count": 142,
   "metadata": {},
   "outputs": [
    {
     "data": {
      "text/html": [
       "<div>\n",
       "<style scoped>\n",
       "    .dataframe tbody tr th:only-of-type {\n",
       "        vertical-align: middle;\n",
       "    }\n",
       "\n",
       "    .dataframe tbody tr th {\n",
       "        vertical-align: top;\n",
       "    }\n",
       "\n",
       "    .dataframe thead th {\n",
       "        text-align: right;\n",
       "    }\n",
       "</style>\n",
       "<table border=\"1\" class=\"dataframe\">\n",
       "  <thead>\n",
       "    <tr style=\"text-align: right;\">\n",
       "      <th></th>\n",
       "      <th>Année</th>\n",
       "      <th>Collège</th>\n",
       "      <th>Total des heures d'arret maladie</th>\n",
       "      <th>Total des heures de congés</th>\n",
       "    </tr>\n",
       "  </thead>\n",
       "  <tbody>\n",
       "    <tr>\n",
       "      <th>0</th>\n",
       "      <td>2017</td>\n",
       "      <td>Cadre</td>\n",
       "      <td>1081209.0</td>\n",
       "      <td>327130.0</td>\n",
       "    </tr>\n",
       "    <tr>\n",
       "      <th>1</th>\n",
       "      <td>2017</td>\n",
       "      <td>Exécution</td>\n",
       "      <td>756905.0</td>\n",
       "      <td>71491.0</td>\n",
       "    </tr>\n",
       "    <tr>\n",
       "      <th>2</th>\n",
       "      <td>2017</td>\n",
       "      <td>Maîtrise</td>\n",
       "      <td>2330284.0</td>\n",
       "      <td>362252.0</td>\n",
       "    </tr>\n",
       "    <tr>\n",
       "      <th>3</th>\n",
       "      <td>2018</td>\n",
       "      <td>Cadre</td>\n",
       "      <td>1118943.0</td>\n",
       "      <td>350507.0</td>\n",
       "    </tr>\n",
       "    <tr>\n",
       "      <th>4</th>\n",
       "      <td>2018</td>\n",
       "      <td>Exécution</td>\n",
       "      <td>702581.0</td>\n",
       "      <td>69055.0</td>\n",
       "    </tr>\n",
       "    <tr>\n",
       "      <th>5</th>\n",
       "      <td>2018</td>\n",
       "      <td>Maîtrise</td>\n",
       "      <td>2288034.0</td>\n",
       "      <td>370494.0</td>\n",
       "    </tr>\n",
       "    <tr>\n",
       "      <th>6</th>\n",
       "      <td>2019</td>\n",
       "      <td>Cadre</td>\n",
       "      <td>1110863.0</td>\n",
       "      <td>270791.0</td>\n",
       "    </tr>\n",
       "    <tr>\n",
       "      <th>7</th>\n",
       "      <td>2019</td>\n",
       "      <td>Exécution</td>\n",
       "      <td>582413.0</td>\n",
       "      <td>51543.0</td>\n",
       "    </tr>\n",
       "    <tr>\n",
       "      <th>8</th>\n",
       "      <td>2019</td>\n",
       "      <td>Maîtrise</td>\n",
       "      <td>2191619.0</td>\n",
       "      <td>311058.0</td>\n",
       "    </tr>\n",
       "    <tr>\n",
       "      <th>9</th>\n",
       "      <td>2020</td>\n",
       "      <td>Cadre</td>\n",
       "      <td>1073816.0</td>\n",
       "      <td>235808.0</td>\n",
       "    </tr>\n",
       "    <tr>\n",
       "      <th>10</th>\n",
       "      <td>2020</td>\n",
       "      <td>Exécution</td>\n",
       "      <td>474054.0</td>\n",
       "      <td>41014.0</td>\n",
       "    </tr>\n",
       "    <tr>\n",
       "      <th>11</th>\n",
       "      <td>2020</td>\n",
       "      <td>Maîtrise</td>\n",
       "      <td>2049466.0</td>\n",
       "      <td>272459.0</td>\n",
       "    </tr>\n",
       "    <tr>\n",
       "      <th>12</th>\n",
       "      <td>2021</td>\n",
       "      <td>Cadre</td>\n",
       "      <td>1133519.0</td>\n",
       "      <td>238688.0</td>\n",
       "    </tr>\n",
       "    <tr>\n",
       "      <th>13</th>\n",
       "      <td>2021</td>\n",
       "      <td>Exécution</td>\n",
       "      <td>514709.0</td>\n",
       "      <td>41404.0</td>\n",
       "    </tr>\n",
       "    <tr>\n",
       "      <th>14</th>\n",
       "      <td>2021</td>\n",
       "      <td>Maîtrise</td>\n",
       "      <td>2107507.0</td>\n",
       "      <td>288599.0</td>\n",
       "    </tr>\n",
       "    <tr>\n",
       "      <th>15</th>\n",
       "      <td>2022</td>\n",
       "      <td>Cadre</td>\n",
       "      <td>1271907.0</td>\n",
       "      <td>235781.0</td>\n",
       "    </tr>\n",
       "    <tr>\n",
       "      <th>16</th>\n",
       "      <td>2022</td>\n",
       "      <td>Exécution</td>\n",
       "      <td>501590.0</td>\n",
       "      <td>37738.0</td>\n",
       "    </tr>\n",
       "    <tr>\n",
       "      <th>17</th>\n",
       "      <td>2022</td>\n",
       "      <td>Maîtrise</td>\n",
       "      <td>2277935.0</td>\n",
       "      <td>288809.0</td>\n",
       "    </tr>\n",
       "    <tr>\n",
       "      <th>18</th>\n",
       "      <td>2023</td>\n",
       "      <td>Cadre</td>\n",
       "      <td>1182319.0</td>\n",
       "      <td>240549.0</td>\n",
       "    </tr>\n",
       "    <tr>\n",
       "      <th>19</th>\n",
       "      <td>2023</td>\n",
       "      <td>Exécution</td>\n",
       "      <td>395846.0</td>\n",
       "      <td>38840.0</td>\n",
       "    </tr>\n",
       "    <tr>\n",
       "      <th>20</th>\n",
       "      <td>2023</td>\n",
       "      <td>Maîtrise</td>\n",
       "      <td>1966648.0</td>\n",
       "      <td>278008.0</td>\n",
       "    </tr>\n",
       "  </tbody>\n",
       "</table>\n",
       "</div>"
      ],
      "text/plain": [
       "    Année    Collège  Total des heures d'arret maladie  \\\n",
       "0    2017      Cadre                         1081209.0   \n",
       "1    2017  Exécution                          756905.0   \n",
       "2    2017   Maîtrise                         2330284.0   \n",
       "3    2018      Cadre                         1118943.0   \n",
       "4    2018  Exécution                          702581.0   \n",
       "5    2018   Maîtrise                         2288034.0   \n",
       "6    2019      Cadre                         1110863.0   \n",
       "7    2019  Exécution                          582413.0   \n",
       "8    2019   Maîtrise                         2191619.0   \n",
       "9    2020      Cadre                         1073816.0   \n",
       "10   2020  Exécution                          474054.0   \n",
       "11   2020   Maîtrise                         2049466.0   \n",
       "12   2021      Cadre                         1133519.0   \n",
       "13   2021  Exécution                          514709.0   \n",
       "14   2021   Maîtrise                         2107507.0   \n",
       "15   2022      Cadre                         1271907.0   \n",
       "16   2022  Exécution                          501590.0   \n",
       "17   2022   Maîtrise                         2277935.0   \n",
       "18   2023      Cadre                         1182319.0   \n",
       "19   2023  Exécution                          395846.0   \n",
       "20   2023   Maîtrise                         1966648.0   \n",
       "\n",
       "    Total des heures de congés  \n",
       "0                     327130.0  \n",
       "1                      71491.0  \n",
       "2                     362252.0  \n",
       "3                     350507.0  \n",
       "4                      69055.0  \n",
       "5                     370494.0  \n",
       "6                     270791.0  \n",
       "7                      51543.0  \n",
       "8                     311058.0  \n",
       "9                     235808.0  \n",
       "10                     41014.0  \n",
       "11                    272459.0  \n",
       "12                    238688.0  \n",
       "13                     41404.0  \n",
       "14                    288599.0  \n",
       "15                    235781.0  \n",
       "16                     37738.0  \n",
       "17                    288809.0  \n",
       "18                    240549.0  \n",
       "19                     38840.0  \n",
       "20                    278008.0  "
      ]
     },
     "execution_count": 142,
     "metadata": {},
     "output_type": "execute_result"
    }
   ],
   "source": [
    "df3 = pd.merge(maladie, vacances, on=['Année','Collège'], how='inner')"
   ]
  },
  {
   "cell_type": "code",
   "execution_count": 155,
   "metadata": {},
   "outputs": [
    {
     "data": {
      "application/vnd.plotly.v1+json": {
       "config": {
        "plotlyServerURL": "https://plot.ly"
       },
       "data": [
        {
         "hovertemplate": "Collège=Cadre<br>Total des heures de congés=%{x}<br>Total des heures d'arret maladie=%{y}<extra></extra>",
         "legendgroup": "Cadre",
         "marker": {
          "color": "#636efa",
          "symbol": "circle"
         },
         "mode": "markers",
         "name": "Cadre",
         "orientation": "v",
         "showlegend": true,
         "type": "scatter",
         "x": [
          327130,
          350507,
          270791,
          235808,
          238688,
          235781,
          240549
         ],
         "xaxis": "x",
         "y": [
          1081209,
          1118943,
          1110863,
          1073816,
          1133519,
          1271907,
          1182319
         ],
         "yaxis": "y"
        },
        {
         "hovertemplate": "Collège=Exécution<br>Total des heures de congés=%{x}<br>Total des heures d'arret maladie=%{y}<extra></extra>",
         "legendgroup": "Exécution",
         "marker": {
          "color": "#EF553B",
          "symbol": "circle"
         },
         "mode": "markers",
         "name": "Exécution",
         "orientation": "v",
         "showlegend": true,
         "type": "scatter",
         "x": [
          71491,
          69055,
          51543,
          41014,
          41404,
          37738,
          38840
         ],
         "xaxis": "x2",
         "y": [
          756905,
          702581,
          582413,
          474054,
          514709,
          501590,
          395846
         ],
         "yaxis": "y2"
        },
        {
         "hovertemplate": "Collège=Maîtrise<br>Total des heures de congés=%{x}<br>Total des heures d'arret maladie=%{y}<extra></extra>",
         "legendgroup": "Maîtrise",
         "marker": {
          "color": "#00cc96",
          "symbol": "circle"
         },
         "mode": "markers",
         "name": "Maîtrise",
         "orientation": "v",
         "showlegend": true,
         "type": "scatter",
         "x": [
          362252,
          370494,
          311058,
          272459,
          288599,
          288809,
          278008
         ],
         "xaxis": "x3",
         "y": [
          2330284,
          2288034,
          2191619,
          2049466,
          2107507,
          2277935,
          1966648
         ],
         "yaxis": "y3"
        }
       ],
       "layout": {
        "annotations": [
         {
          "font": {},
          "showarrow": false,
          "text": "Collège=Cadre",
          "x": 0.15999999999999998,
          "xanchor": "center",
          "xref": "paper",
          "y": 1,
          "yanchor": "bottom",
          "yref": "paper"
         },
         {
          "font": {},
          "showarrow": false,
          "text": "Collège=Exécution",
          "x": 0.49999999999999994,
          "xanchor": "center",
          "xref": "paper",
          "y": 1,
          "yanchor": "bottom",
          "yref": "paper"
         },
         {
          "font": {},
          "showarrow": false,
          "text": "Collège=Maîtrise",
          "x": 0.8399999999999999,
          "xanchor": "center",
          "xref": "paper",
          "y": 1,
          "yanchor": "bottom",
          "yref": "paper"
         }
        ],
        "legend": {
         "title": {
          "text": "Collège"
         },
         "tracegroupgap": 0
        },
        "template": {
         "data": {
          "bar": [
           {
            "error_x": {
             "color": "#2a3f5f"
            },
            "error_y": {
             "color": "#2a3f5f"
            },
            "marker": {
             "line": {
              "color": "#E5ECF6",
              "width": 0.5
             },
             "pattern": {
              "fillmode": "overlay",
              "size": 10,
              "solidity": 0.2
             }
            },
            "type": "bar"
           }
          ],
          "barpolar": [
           {
            "marker": {
             "line": {
              "color": "#E5ECF6",
              "width": 0.5
             },
             "pattern": {
              "fillmode": "overlay",
              "size": 10,
              "solidity": 0.2
             }
            },
            "type": "barpolar"
           }
          ],
          "carpet": [
           {
            "aaxis": {
             "endlinecolor": "#2a3f5f",
             "gridcolor": "white",
             "linecolor": "white",
             "minorgridcolor": "white",
             "startlinecolor": "#2a3f5f"
            },
            "baxis": {
             "endlinecolor": "#2a3f5f",
             "gridcolor": "white",
             "linecolor": "white",
             "minorgridcolor": "white",
             "startlinecolor": "#2a3f5f"
            },
            "type": "carpet"
           }
          ],
          "choropleth": [
           {
            "colorbar": {
             "outlinewidth": 0,
             "ticks": ""
            },
            "type": "choropleth"
           }
          ],
          "contour": [
           {
            "colorbar": {
             "outlinewidth": 0,
             "ticks": ""
            },
            "colorscale": [
             [
              0,
              "#0d0887"
             ],
             [
              0.1111111111111111,
              "#46039f"
             ],
             [
              0.2222222222222222,
              "#7201a8"
             ],
             [
              0.3333333333333333,
              "#9c179e"
             ],
             [
              0.4444444444444444,
              "#bd3786"
             ],
             [
              0.5555555555555556,
              "#d8576b"
             ],
             [
              0.6666666666666666,
              "#ed7953"
             ],
             [
              0.7777777777777778,
              "#fb9f3a"
             ],
             [
              0.8888888888888888,
              "#fdca26"
             ],
             [
              1,
              "#f0f921"
             ]
            ],
            "type": "contour"
           }
          ],
          "contourcarpet": [
           {
            "colorbar": {
             "outlinewidth": 0,
             "ticks": ""
            },
            "type": "contourcarpet"
           }
          ],
          "heatmap": [
           {
            "colorbar": {
             "outlinewidth": 0,
             "ticks": ""
            },
            "colorscale": [
             [
              0,
              "#0d0887"
             ],
             [
              0.1111111111111111,
              "#46039f"
             ],
             [
              0.2222222222222222,
              "#7201a8"
             ],
             [
              0.3333333333333333,
              "#9c179e"
             ],
             [
              0.4444444444444444,
              "#bd3786"
             ],
             [
              0.5555555555555556,
              "#d8576b"
             ],
             [
              0.6666666666666666,
              "#ed7953"
             ],
             [
              0.7777777777777778,
              "#fb9f3a"
             ],
             [
              0.8888888888888888,
              "#fdca26"
             ],
             [
              1,
              "#f0f921"
             ]
            ],
            "type": "heatmap"
           }
          ],
          "heatmapgl": [
           {
            "colorbar": {
             "outlinewidth": 0,
             "ticks": ""
            },
            "colorscale": [
             [
              0,
              "#0d0887"
             ],
             [
              0.1111111111111111,
              "#46039f"
             ],
             [
              0.2222222222222222,
              "#7201a8"
             ],
             [
              0.3333333333333333,
              "#9c179e"
             ],
             [
              0.4444444444444444,
              "#bd3786"
             ],
             [
              0.5555555555555556,
              "#d8576b"
             ],
             [
              0.6666666666666666,
              "#ed7953"
             ],
             [
              0.7777777777777778,
              "#fb9f3a"
             ],
             [
              0.8888888888888888,
              "#fdca26"
             ],
             [
              1,
              "#f0f921"
             ]
            ],
            "type": "heatmapgl"
           }
          ],
          "histogram": [
           {
            "marker": {
             "pattern": {
              "fillmode": "overlay",
              "size": 10,
              "solidity": 0.2
             }
            },
            "type": "histogram"
           }
          ],
          "histogram2d": [
           {
            "colorbar": {
             "outlinewidth": 0,
             "ticks": ""
            },
            "colorscale": [
             [
              0,
              "#0d0887"
             ],
             [
              0.1111111111111111,
              "#46039f"
             ],
             [
              0.2222222222222222,
              "#7201a8"
             ],
             [
              0.3333333333333333,
              "#9c179e"
             ],
             [
              0.4444444444444444,
              "#bd3786"
             ],
             [
              0.5555555555555556,
              "#d8576b"
             ],
             [
              0.6666666666666666,
              "#ed7953"
             ],
             [
              0.7777777777777778,
              "#fb9f3a"
             ],
             [
              0.8888888888888888,
              "#fdca26"
             ],
             [
              1,
              "#f0f921"
             ]
            ],
            "type": "histogram2d"
           }
          ],
          "histogram2dcontour": [
           {
            "colorbar": {
             "outlinewidth": 0,
             "ticks": ""
            },
            "colorscale": [
             [
              0,
              "#0d0887"
             ],
             [
              0.1111111111111111,
              "#46039f"
             ],
             [
              0.2222222222222222,
              "#7201a8"
             ],
             [
              0.3333333333333333,
              "#9c179e"
             ],
             [
              0.4444444444444444,
              "#bd3786"
             ],
             [
              0.5555555555555556,
              "#d8576b"
             ],
             [
              0.6666666666666666,
              "#ed7953"
             ],
             [
              0.7777777777777778,
              "#fb9f3a"
             ],
             [
              0.8888888888888888,
              "#fdca26"
             ],
             [
              1,
              "#f0f921"
             ]
            ],
            "type": "histogram2dcontour"
           }
          ],
          "mesh3d": [
           {
            "colorbar": {
             "outlinewidth": 0,
             "ticks": ""
            },
            "type": "mesh3d"
           }
          ],
          "parcoords": [
           {
            "line": {
             "colorbar": {
              "outlinewidth": 0,
              "ticks": ""
             }
            },
            "type": "parcoords"
           }
          ],
          "pie": [
           {
            "automargin": true,
            "type": "pie"
           }
          ],
          "scatter": [
           {
            "fillpattern": {
             "fillmode": "overlay",
             "size": 10,
             "solidity": 0.2
            },
            "type": "scatter"
           }
          ],
          "scatter3d": [
           {
            "line": {
             "colorbar": {
              "outlinewidth": 0,
              "ticks": ""
             }
            },
            "marker": {
             "colorbar": {
              "outlinewidth": 0,
              "ticks": ""
             }
            },
            "type": "scatter3d"
           }
          ],
          "scattercarpet": [
           {
            "marker": {
             "colorbar": {
              "outlinewidth": 0,
              "ticks": ""
             }
            },
            "type": "scattercarpet"
           }
          ],
          "scattergeo": [
           {
            "marker": {
             "colorbar": {
              "outlinewidth": 0,
              "ticks": ""
             }
            },
            "type": "scattergeo"
           }
          ],
          "scattergl": [
           {
            "marker": {
             "colorbar": {
              "outlinewidth": 0,
              "ticks": ""
             }
            },
            "type": "scattergl"
           }
          ],
          "scattermapbox": [
           {
            "marker": {
             "colorbar": {
              "outlinewidth": 0,
              "ticks": ""
             }
            },
            "type": "scattermapbox"
           }
          ],
          "scatterpolar": [
           {
            "marker": {
             "colorbar": {
              "outlinewidth": 0,
              "ticks": ""
             }
            },
            "type": "scatterpolar"
           }
          ],
          "scatterpolargl": [
           {
            "marker": {
             "colorbar": {
              "outlinewidth": 0,
              "ticks": ""
             }
            },
            "type": "scatterpolargl"
           }
          ],
          "scatterternary": [
           {
            "marker": {
             "colorbar": {
              "outlinewidth": 0,
              "ticks": ""
             }
            },
            "type": "scatterternary"
           }
          ],
          "surface": [
           {
            "colorbar": {
             "outlinewidth": 0,
             "ticks": ""
            },
            "colorscale": [
             [
              0,
              "#0d0887"
             ],
             [
              0.1111111111111111,
              "#46039f"
             ],
             [
              0.2222222222222222,
              "#7201a8"
             ],
             [
              0.3333333333333333,
              "#9c179e"
             ],
             [
              0.4444444444444444,
              "#bd3786"
             ],
             [
              0.5555555555555556,
              "#d8576b"
             ],
             [
              0.6666666666666666,
              "#ed7953"
             ],
             [
              0.7777777777777778,
              "#fb9f3a"
             ],
             [
              0.8888888888888888,
              "#fdca26"
             ],
             [
              1,
              "#f0f921"
             ]
            ],
            "type": "surface"
           }
          ],
          "table": [
           {
            "cells": {
             "fill": {
              "color": "#EBF0F8"
             },
             "line": {
              "color": "white"
             }
            },
            "header": {
             "fill": {
              "color": "#C8D4E3"
             },
             "line": {
              "color": "white"
             }
            },
            "type": "table"
           }
          ]
         },
         "layout": {
          "annotationdefaults": {
           "arrowcolor": "#2a3f5f",
           "arrowhead": 0,
           "arrowwidth": 1
          },
          "autotypenumbers": "strict",
          "coloraxis": {
           "colorbar": {
            "outlinewidth": 0,
            "ticks": ""
           }
          },
          "colorscale": {
           "diverging": [
            [
             0,
             "#8e0152"
            ],
            [
             0.1,
             "#c51b7d"
            ],
            [
             0.2,
             "#de77ae"
            ],
            [
             0.3,
             "#f1b6da"
            ],
            [
             0.4,
             "#fde0ef"
            ],
            [
             0.5,
             "#f7f7f7"
            ],
            [
             0.6,
             "#e6f5d0"
            ],
            [
             0.7,
             "#b8e186"
            ],
            [
             0.8,
             "#7fbc41"
            ],
            [
             0.9,
             "#4d9221"
            ],
            [
             1,
             "#276419"
            ]
           ],
           "sequential": [
            [
             0,
             "#0d0887"
            ],
            [
             0.1111111111111111,
             "#46039f"
            ],
            [
             0.2222222222222222,
             "#7201a8"
            ],
            [
             0.3333333333333333,
             "#9c179e"
            ],
            [
             0.4444444444444444,
             "#bd3786"
            ],
            [
             0.5555555555555556,
             "#d8576b"
            ],
            [
             0.6666666666666666,
             "#ed7953"
            ],
            [
             0.7777777777777778,
             "#fb9f3a"
            ],
            [
             0.8888888888888888,
             "#fdca26"
            ],
            [
             1,
             "#f0f921"
            ]
           ],
           "sequentialminus": [
            [
             0,
             "#0d0887"
            ],
            [
             0.1111111111111111,
             "#46039f"
            ],
            [
             0.2222222222222222,
             "#7201a8"
            ],
            [
             0.3333333333333333,
             "#9c179e"
            ],
            [
             0.4444444444444444,
             "#bd3786"
            ],
            [
             0.5555555555555556,
             "#d8576b"
            ],
            [
             0.6666666666666666,
             "#ed7953"
            ],
            [
             0.7777777777777778,
             "#fb9f3a"
            ],
            [
             0.8888888888888888,
             "#fdca26"
            ],
            [
             1,
             "#f0f921"
            ]
           ]
          },
          "colorway": [
           "#636efa",
           "#EF553B",
           "#00cc96",
           "#ab63fa",
           "#FFA15A",
           "#19d3f3",
           "#FF6692",
           "#B6E880",
           "#FF97FF",
           "#FECB52"
          ],
          "font": {
           "color": "#2a3f5f"
          },
          "geo": {
           "bgcolor": "white",
           "lakecolor": "white",
           "landcolor": "#E5ECF6",
           "showlakes": true,
           "showland": true,
           "subunitcolor": "white"
          },
          "hoverlabel": {
           "align": "left"
          },
          "hovermode": "closest",
          "mapbox": {
           "style": "light"
          },
          "paper_bgcolor": "white",
          "plot_bgcolor": "#E5ECF6",
          "polar": {
           "angularaxis": {
            "gridcolor": "white",
            "linecolor": "white",
            "ticks": ""
           },
           "bgcolor": "#E5ECF6",
           "radialaxis": {
            "gridcolor": "white",
            "linecolor": "white",
            "ticks": ""
           }
          },
          "scene": {
           "xaxis": {
            "backgroundcolor": "#E5ECF6",
            "gridcolor": "white",
            "gridwidth": 2,
            "linecolor": "white",
            "showbackground": true,
            "ticks": "",
            "zerolinecolor": "white"
           },
           "yaxis": {
            "backgroundcolor": "#E5ECF6",
            "gridcolor": "white",
            "gridwidth": 2,
            "linecolor": "white",
            "showbackground": true,
            "ticks": "",
            "zerolinecolor": "white"
           },
           "zaxis": {
            "backgroundcolor": "#E5ECF6",
            "gridcolor": "white",
            "gridwidth": 2,
            "linecolor": "white",
            "showbackground": true,
            "ticks": "",
            "zerolinecolor": "white"
           }
          },
          "shapedefaults": {
           "line": {
            "color": "#2a3f5f"
           }
          },
          "ternary": {
           "aaxis": {
            "gridcolor": "white",
            "linecolor": "white",
            "ticks": ""
           },
           "baxis": {
            "gridcolor": "white",
            "linecolor": "white",
            "ticks": ""
           },
           "bgcolor": "#E5ECF6",
           "caxis": {
            "gridcolor": "white",
            "linecolor": "white",
            "ticks": ""
           }
          },
          "title": {
           "x": 0.05
          },
          "xaxis": {
           "automargin": true,
           "gridcolor": "white",
           "linecolor": "white",
           "ticks": "",
           "title": {
            "standoff": 15
           },
           "zerolinecolor": "white",
           "zerolinewidth": 2
          },
          "yaxis": {
           "automargin": true,
           "gridcolor": "white",
           "linecolor": "white",
           "ticks": "",
           "title": {
            "standoff": 15
           },
           "zerolinecolor": "white",
           "zerolinewidth": 2
          }
         }
        },
        "title": {
         "text": "Nuage de points : Heures de congés vs Heures d'arrêt maladie"
        },
        "xaxis": {
         "anchor": "y",
         "domain": [
          0,
          0.31999999999999995
         ],
         "title": {
          "text": "Total des heures de congés"
         }
        },
        "xaxis2": {
         "anchor": "y2",
         "domain": [
          0.33999999999999997,
          0.6599999999999999
         ],
         "matches": "x",
         "title": {
          "text": "Total des heures de congés"
         }
        },
        "xaxis3": {
         "anchor": "y3",
         "domain": [
          0.6799999999999999,
          0.9999999999999999
         ],
         "matches": "x",
         "title": {
          "text": "Total des heures de congés"
         }
        },
        "yaxis": {
         "anchor": "x",
         "domain": [
          0,
          1
         ],
         "title": {
          "text": "Total des heures d'arret maladie"
         }
        },
        "yaxis2": {
         "anchor": "x2",
         "domain": [
          0,
          1
         ],
         "matches": "y",
         "showticklabels": false
        },
        "yaxis3": {
         "anchor": "x3",
         "domain": [
          0,
          1
         ],
         "matches": "y",
         "showticklabels": false
        }
       }
      }
     },
     "metadata": {},
     "output_type": "display_data"
    }
   ],
   "source": [
    "# Créer le nuage de points\n",
    "fig = px.scatter(\n",
    "    df3,\n",
    "    x=\"Total des heures de congés\",\n",
    "    y=\"Total des heures d'arret maladie\",\n",
    "    facet_col=\"Collège\",\n",
    "    color=\"Collège\",\n",
    "    title=\"Nuage de points : Heures de congés vs Heures d'arrêt maladie\",\n",
    "    labels={\"Heures de congés\": \"Heures de congés\", \"Heures d'arrêt maladie\": \"Heures d'arrêt maladie\"},\n",
    ")\n",
    "\n",
    "# Afficher le graphique\n",
    "fig.show()"
   ]
  },
  {
   "cell_type": "markdown",
   "metadata": {},
   "source": [
    "#### 4) Focus sur les salariés non-statuaires ####"
   ]
  },
  {
   "cell_type": "markdown",
   "metadata": {},
   "source": [
    "https://ufpi.reference-syndicale.fr/2017/06/stop-aux-cdi-non-statutaires-a-tous-les-etages/"
   ]
  },
  {
   "cell_type": "markdown",
   "metadata": {},
   "source": [
    "un grqphiaue qvec deux courbes et une liste de choix en fonction"
   ]
  },
  {
   "cell_type": "code",
   "execution_count": 154,
   "metadata": {},
   "outputs": [
    {
     "data": {
      "text/html": [
       "<div>\n",
       "<style scoped>\n",
       "    .dataframe tbody tr th:only-of-type {\n",
       "        vertical-align: middle;\n",
       "    }\n",
       "\n",
       "    .dataframe tbody tr th {\n",
       "        vertical-align: top;\n",
       "    }\n",
       "\n",
       "    .dataframe thead th {\n",
       "        text-align: right;\n",
       "    }\n",
       "</style>\n",
       "<table border=\"1\" class=\"dataframe\">\n",
       "  <thead>\n",
       "    <tr style=\"text-align: right;\">\n",
       "      <th></th>\n",
       "      <th>Année</th>\n",
       "      <th>Type de contrat</th>\n",
       "      <th>Collège</th>\n",
       "      <th>Salaire mensuel brut moyen (€)</th>\n",
       "    </tr>\n",
       "  </thead>\n",
       "  <tbody>\n",
       "    <tr>\n",
       "      <th>0</th>\n",
       "      <td>2017</td>\n",
       "      <td>Non statutaire CDD</td>\n",
       "      <td>Cadre</td>\n",
       "      <td>6807.0</td>\n",
       "    </tr>\n",
       "    <tr>\n",
       "      <th>1</th>\n",
       "      <td>2017</td>\n",
       "      <td>Non statutaire CDD</td>\n",
       "      <td>Execution</td>\n",
       "      <td>2319.0</td>\n",
       "    </tr>\n",
       "    <tr>\n",
       "      <th>2</th>\n",
       "      <td>2017</td>\n",
       "      <td>Non statutaire CDD</td>\n",
       "      <td>Maitrise</td>\n",
       "      <td>2673.0</td>\n",
       "    </tr>\n",
       "    <tr>\n",
       "      <th>3</th>\n",
       "      <td>2017</td>\n",
       "      <td>Non statutaire CDI</td>\n",
       "      <td>Cadre</td>\n",
       "      <td>21809.0</td>\n",
       "    </tr>\n",
       "    <tr>\n",
       "      <th>4</th>\n",
       "      <td>2017</td>\n",
       "      <td>Non statutaire CDI</td>\n",
       "      <td>Execution</td>\n",
       "      <td>2492.0</td>\n",
       "    </tr>\n",
       "    <tr>\n",
       "      <th>5</th>\n",
       "      <td>2017</td>\n",
       "      <td>Non statutaire CDI</td>\n",
       "      <td>Maitrise</td>\n",
       "      <td>7094.0</td>\n",
       "    </tr>\n",
       "    <tr>\n",
       "      <th>6</th>\n",
       "      <td>2017</td>\n",
       "      <td>Statutaire</td>\n",
       "      <td>Cadre</td>\n",
       "      <td>12933.0</td>\n",
       "    </tr>\n",
       "    <tr>\n",
       "      <th>7</th>\n",
       "      <td>2017</td>\n",
       "      <td>Statutaire</td>\n",
       "      <td>Execution</td>\n",
       "      <td>5534.0</td>\n",
       "    </tr>\n",
       "    <tr>\n",
       "      <th>8</th>\n",
       "      <td>2017</td>\n",
       "      <td>Statutaire</td>\n",
       "      <td>Maitrise</td>\n",
       "      <td>7443.0</td>\n",
       "    </tr>\n",
       "    <tr>\n",
       "      <th>9</th>\n",
       "      <td>2018</td>\n",
       "      <td>Non statutaire CDD</td>\n",
       "      <td>Cadre</td>\n",
       "      <td>6455.0</td>\n",
       "    </tr>\n",
       "  </tbody>\n",
       "</table>\n",
       "</div>"
      ],
      "text/plain": [
       "   Année     Type de contrat    Collège  Salaire mensuel brut moyen (€)\n",
       "0   2017  Non statutaire CDD      Cadre                          6807.0\n",
       "1   2017  Non statutaire CDD  Execution                          2319.0\n",
       "2   2017  Non statutaire CDD   Maitrise                          2673.0\n",
       "3   2017  Non statutaire CDI      Cadre                         21809.0\n",
       "4   2017  Non statutaire CDI  Execution                          2492.0\n",
       "5   2017  Non statutaire CDI   Maitrise                          7094.0\n",
       "6   2017          Statutaire      Cadre                         12933.0\n",
       "7   2017          Statutaire  Execution                          5534.0\n",
       "8   2017          Statutaire   Maitrise                          7443.0\n",
       "9   2018  Non statutaire CDD      Cadre                          6455.0"
      ]
     },
     "execution_count": 154,
     "metadata": {},
     "output_type": "execute_result"
    }
   ],
   "source": [
    "statut = pd.read_csv(\"data/promotion.csv\", delimiter=\";\")\n",
    "statut = statut[statut['Indicateur']=='Rémunération mensuelle moyenne brute']\n",
    "statut = statut[statut[\"Plage M3E\"].isna()]\n",
    "statut = statut.drop(columns=['Perimètre juridique', 'Perimètre spatial',\n",
    "       'Spatial perimeter', 'Indicateur', 'Indicator',\n",
    "       'Type of contract', 'Employee category', 'Plage M3E',\n",
    "       'M3E classification', 'Gender', 'Unité', 'Unit',\n",
    "       'Chapitre du bilan social'])\n",
    "statut = statut.groupby([\"Année\", \"Type de contrat\", \"Collège\"])[\"Valeur\"].sum().reset_index()\n",
    "statut = statut.rename(columns={'Valeur': 'Salaire mensuel brut moyen (€)'})\n",
    "statut.head(10)"
   ]
  },
  {
   "cell_type": "code",
   "execution_count": 108,
   "metadata": {},
   "outputs": [
    {
     "data": {
      "application/vnd.plotly.v1+json": {
       "config": {
        "plotlyServerURL": "https://plot.ly"
       },
       "data": [
        {
         "hovertemplate": "Type de contrat=Non statutaire CDD<br>Collège=Cadre<br>Année=%{x}<br>Salaire mensuel brut moyen (€)=%{y}<extra></extra>",
         "legendgroup": "Non statutaire CDD",
         "line": {
          "color": "#636efa",
          "dash": "solid"
         },
         "marker": {
          "symbol": "circle"
         },
         "mode": "lines",
         "name": "Non statutaire CDD",
         "orientation": "v",
         "showlegend": true,
         "type": "scatter",
         "x": [
          2017,
          2018,
          2019,
          2020,
          2021,
          2022,
          2023
         ],
         "xaxis": "x",
         "y": [
          6807,
          6455,
          6583,
          6570,
          6550,
          6815,
          6847
         ],
         "yaxis": "y"
        },
        {
         "hovertemplate": "Type de contrat=Non statutaire CDD<br>Collège=Execution<br>Année=%{x}<br>Salaire mensuel brut moyen (€)=%{y}<extra></extra>",
         "legendgroup": "Non statutaire CDD",
         "line": {
          "color": "#636efa",
          "dash": "solid"
         },
         "marker": {
          "symbol": "circle"
         },
         "mode": "lines",
         "name": "Non statutaire CDD",
         "orientation": "v",
         "showlegend": false,
         "type": "scatter",
         "x": [
          2017,
          2018,
          2019,
          2020,
          2021,
          2022,
          2023
         ],
         "xaxis": "x",
         "y": [
          2319,
          2295,
          2330,
          2278,
          2248,
          2326,
          2449
         ],
         "yaxis": "y"
        },
        {
         "hovertemplate": "Type de contrat=Non statutaire CDD<br>Collège=Maitrise<br>Année=%{x}<br>Salaire mensuel brut moyen (€)=%{y}<extra></extra>",
         "legendgroup": "Non statutaire CDD",
         "line": {
          "color": "#636efa",
          "dash": "solid"
         },
         "marker": {
          "symbol": "circle"
         },
         "mode": "lines",
         "name": "Non statutaire CDD",
         "orientation": "v",
         "showlegend": false,
         "type": "scatter",
         "x": [
          2017,
          2018,
          2019,
          2020,
          2021,
          2022,
          2023
         ],
         "xaxis": "x",
         "y": [
          2673,
          2706,
          2755,
          2719,
          2757,
          2855,
          3038
         ],
         "yaxis": "y"
        },
        {
         "hovertemplate": "Type de contrat=Non statutaire CDI<br>Collège=Cadre<br>Année=%{x}<br>Salaire mensuel brut moyen (€)=%{y}<extra></extra>",
         "legendgroup": "Non statutaire CDI",
         "line": {
          "color": "#EF553B",
          "dash": "solid"
         },
         "marker": {
          "symbol": "circle"
         },
         "mode": "lines",
         "name": "Non statutaire CDI",
         "orientation": "v",
         "showlegend": true,
         "type": "scatter",
         "x": [
          2017,
          2018,
          2019,
          2020,
          2021,
          2022,
          2023
         ],
         "xaxis": "x",
         "y": [
          21809,
          22204,
          20895,
          19968,
          20223,
          21263,
          20544
         ],
         "yaxis": "y"
        },
        {
         "hovertemplate": "Type de contrat=Non statutaire CDI<br>Collège=Execution<br>Année=%{x}<br>Salaire mensuel brut moyen (€)=%{y}<extra></extra>",
         "legendgroup": "Non statutaire CDI",
         "line": {
          "color": "#EF553B",
          "dash": "solid"
         },
         "marker": {
          "symbol": "circle"
         },
         "mode": "lines",
         "name": "Non statutaire CDI",
         "orientation": "v",
         "showlegend": false,
         "type": "scatter",
         "x": [
          2017,
          2018,
          2019,
          2020,
          2021,
          2022,
          2023
         ],
         "xaxis": "x",
         "y": [
          2492,
          2215,
          2945,
          5855,
          6904,
          0,
          0
         ],
         "yaxis": "y"
        },
        {
         "hovertemplate": "Type de contrat=Non statutaire CDI<br>Collège=Maitrise<br>Année=%{x}<br>Salaire mensuel brut moyen (€)=%{y}<extra></extra>",
         "legendgroup": "Non statutaire CDI",
         "line": {
          "color": "#EF553B",
          "dash": "solid"
         },
         "marker": {
          "symbol": "circle"
         },
         "mode": "lines",
         "name": "Non statutaire CDI",
         "orientation": "v",
         "showlegend": false,
         "type": "scatter",
         "x": [
          2017,
          2018,
          2019,
          2020,
          2021,
          2022,
          2023
         ],
         "xaxis": "x",
         "y": [
          7094,
          7297,
          6962,
          6745,
          6950,
          7136,
          7596
         ],
         "yaxis": "y"
        },
        {
         "hovertemplate": "Type de contrat=Statutaire<br>Collège=Cadre<br>Année=%{x}<br>Salaire mensuel brut moyen (€)=%{y}<extra></extra>",
         "legendgroup": "Statutaire",
         "line": {
          "color": "#00cc96",
          "dash": "solid"
         },
         "marker": {
          "symbol": "circle"
         },
         "mode": "lines",
         "name": "Statutaire",
         "orientation": "v",
         "showlegend": true,
         "type": "scatter",
         "x": [
          2017,
          2018,
          2019,
          2020,
          2021,
          2022,
          2023
         ],
         "xaxis": "x",
         "y": [
          12933,
          13190,
          13210,
          13299,
          13286,
          14034,
          15017
         ],
         "yaxis": "y"
        },
        {
         "hovertemplate": "Type de contrat=Statutaire<br>Collège=Execution<br>Année=%{x}<br>Salaire mensuel brut moyen (€)=%{y}<extra></extra>",
         "legendgroup": "Statutaire",
         "line": {
          "color": "#00cc96",
          "dash": "solid"
         },
         "marker": {
          "symbol": "circle"
         },
         "mode": "lines",
         "name": "Statutaire",
         "orientation": "v",
         "showlegend": false,
         "type": "scatter",
         "x": [
          2017,
          2018,
          2019,
          2020,
          2021,
          2022,
          2023
         ],
         "xaxis": "x",
         "y": [
          5534,
          5841,
          6027,
          6056,
          6164,
          6562,
          7184
         ],
         "yaxis": "y"
        },
        {
         "hovertemplate": "Type de contrat=Statutaire<br>Collège=Maitrise<br>Année=%{x}<br>Salaire mensuel brut moyen (€)=%{y}<extra></extra>",
         "legendgroup": "Statutaire",
         "line": {
          "color": "#00cc96",
          "dash": "solid"
         },
         "marker": {
          "symbol": "circle"
         },
         "mode": "lines",
         "name": "Statutaire",
         "orientation": "v",
         "showlegend": false,
         "type": "scatter",
         "x": [
          2017,
          2018,
          2019,
          2020,
          2021,
          2022,
          2023
         ],
         "xaxis": "x",
         "y": [
          7443,
          7732,
          7869,
          7909,
          7988,
          8434,
          9269
         ],
         "yaxis": "y"
        }
       ],
       "layout": {
        "legend": {
         "title": {
          "text": "Type de contrat"
         },
         "tracegroupgap": 0
        },
        "template": {
         "data": {
          "bar": [
           {
            "error_x": {
             "color": "#2a3f5f"
            },
            "error_y": {
             "color": "#2a3f5f"
            },
            "marker": {
             "line": {
              "color": "#E5ECF6",
              "width": 0.5
             },
             "pattern": {
              "fillmode": "overlay",
              "size": 10,
              "solidity": 0.2
             }
            },
            "type": "bar"
           }
          ],
          "barpolar": [
           {
            "marker": {
             "line": {
              "color": "#E5ECF6",
              "width": 0.5
             },
             "pattern": {
              "fillmode": "overlay",
              "size": 10,
              "solidity": 0.2
             }
            },
            "type": "barpolar"
           }
          ],
          "carpet": [
           {
            "aaxis": {
             "endlinecolor": "#2a3f5f",
             "gridcolor": "white",
             "linecolor": "white",
             "minorgridcolor": "white",
             "startlinecolor": "#2a3f5f"
            },
            "baxis": {
             "endlinecolor": "#2a3f5f",
             "gridcolor": "white",
             "linecolor": "white",
             "minorgridcolor": "white",
             "startlinecolor": "#2a3f5f"
            },
            "type": "carpet"
           }
          ],
          "choropleth": [
           {
            "colorbar": {
             "outlinewidth": 0,
             "ticks": ""
            },
            "type": "choropleth"
           }
          ],
          "contour": [
           {
            "colorbar": {
             "outlinewidth": 0,
             "ticks": ""
            },
            "colorscale": [
             [
              0,
              "#0d0887"
             ],
             [
              0.1111111111111111,
              "#46039f"
             ],
             [
              0.2222222222222222,
              "#7201a8"
             ],
             [
              0.3333333333333333,
              "#9c179e"
             ],
             [
              0.4444444444444444,
              "#bd3786"
             ],
             [
              0.5555555555555556,
              "#d8576b"
             ],
             [
              0.6666666666666666,
              "#ed7953"
             ],
             [
              0.7777777777777778,
              "#fb9f3a"
             ],
             [
              0.8888888888888888,
              "#fdca26"
             ],
             [
              1,
              "#f0f921"
             ]
            ],
            "type": "contour"
           }
          ],
          "contourcarpet": [
           {
            "colorbar": {
             "outlinewidth": 0,
             "ticks": ""
            },
            "type": "contourcarpet"
           }
          ],
          "heatmap": [
           {
            "colorbar": {
             "outlinewidth": 0,
             "ticks": ""
            },
            "colorscale": [
             [
              0,
              "#0d0887"
             ],
             [
              0.1111111111111111,
              "#46039f"
             ],
             [
              0.2222222222222222,
              "#7201a8"
             ],
             [
              0.3333333333333333,
              "#9c179e"
             ],
             [
              0.4444444444444444,
              "#bd3786"
             ],
             [
              0.5555555555555556,
              "#d8576b"
             ],
             [
              0.6666666666666666,
              "#ed7953"
             ],
             [
              0.7777777777777778,
              "#fb9f3a"
             ],
             [
              0.8888888888888888,
              "#fdca26"
             ],
             [
              1,
              "#f0f921"
             ]
            ],
            "type": "heatmap"
           }
          ],
          "heatmapgl": [
           {
            "colorbar": {
             "outlinewidth": 0,
             "ticks": ""
            },
            "colorscale": [
             [
              0,
              "#0d0887"
             ],
             [
              0.1111111111111111,
              "#46039f"
             ],
             [
              0.2222222222222222,
              "#7201a8"
             ],
             [
              0.3333333333333333,
              "#9c179e"
             ],
             [
              0.4444444444444444,
              "#bd3786"
             ],
             [
              0.5555555555555556,
              "#d8576b"
             ],
             [
              0.6666666666666666,
              "#ed7953"
             ],
             [
              0.7777777777777778,
              "#fb9f3a"
             ],
             [
              0.8888888888888888,
              "#fdca26"
             ],
             [
              1,
              "#f0f921"
             ]
            ],
            "type": "heatmapgl"
           }
          ],
          "histogram": [
           {
            "marker": {
             "pattern": {
              "fillmode": "overlay",
              "size": 10,
              "solidity": 0.2
             }
            },
            "type": "histogram"
           }
          ],
          "histogram2d": [
           {
            "colorbar": {
             "outlinewidth": 0,
             "ticks": ""
            },
            "colorscale": [
             [
              0,
              "#0d0887"
             ],
             [
              0.1111111111111111,
              "#46039f"
             ],
             [
              0.2222222222222222,
              "#7201a8"
             ],
             [
              0.3333333333333333,
              "#9c179e"
             ],
             [
              0.4444444444444444,
              "#bd3786"
             ],
             [
              0.5555555555555556,
              "#d8576b"
             ],
             [
              0.6666666666666666,
              "#ed7953"
             ],
             [
              0.7777777777777778,
              "#fb9f3a"
             ],
             [
              0.8888888888888888,
              "#fdca26"
             ],
             [
              1,
              "#f0f921"
             ]
            ],
            "type": "histogram2d"
           }
          ],
          "histogram2dcontour": [
           {
            "colorbar": {
             "outlinewidth": 0,
             "ticks": ""
            },
            "colorscale": [
             [
              0,
              "#0d0887"
             ],
             [
              0.1111111111111111,
              "#46039f"
             ],
             [
              0.2222222222222222,
              "#7201a8"
             ],
             [
              0.3333333333333333,
              "#9c179e"
             ],
             [
              0.4444444444444444,
              "#bd3786"
             ],
             [
              0.5555555555555556,
              "#d8576b"
             ],
             [
              0.6666666666666666,
              "#ed7953"
             ],
             [
              0.7777777777777778,
              "#fb9f3a"
             ],
             [
              0.8888888888888888,
              "#fdca26"
             ],
             [
              1,
              "#f0f921"
             ]
            ],
            "type": "histogram2dcontour"
           }
          ],
          "mesh3d": [
           {
            "colorbar": {
             "outlinewidth": 0,
             "ticks": ""
            },
            "type": "mesh3d"
           }
          ],
          "parcoords": [
           {
            "line": {
             "colorbar": {
              "outlinewidth": 0,
              "ticks": ""
             }
            },
            "type": "parcoords"
           }
          ],
          "pie": [
           {
            "automargin": true,
            "type": "pie"
           }
          ],
          "scatter": [
           {
            "fillpattern": {
             "fillmode": "overlay",
             "size": 10,
             "solidity": 0.2
            },
            "type": "scatter"
           }
          ],
          "scatter3d": [
           {
            "line": {
             "colorbar": {
              "outlinewidth": 0,
              "ticks": ""
             }
            },
            "marker": {
             "colorbar": {
              "outlinewidth": 0,
              "ticks": ""
             }
            },
            "type": "scatter3d"
           }
          ],
          "scattercarpet": [
           {
            "marker": {
             "colorbar": {
              "outlinewidth": 0,
              "ticks": ""
             }
            },
            "type": "scattercarpet"
           }
          ],
          "scattergeo": [
           {
            "marker": {
             "colorbar": {
              "outlinewidth": 0,
              "ticks": ""
             }
            },
            "type": "scattergeo"
           }
          ],
          "scattergl": [
           {
            "marker": {
             "colorbar": {
              "outlinewidth": 0,
              "ticks": ""
             }
            },
            "type": "scattergl"
           }
          ],
          "scattermapbox": [
           {
            "marker": {
             "colorbar": {
              "outlinewidth": 0,
              "ticks": ""
             }
            },
            "type": "scattermapbox"
           }
          ],
          "scatterpolar": [
           {
            "marker": {
             "colorbar": {
              "outlinewidth": 0,
              "ticks": ""
             }
            },
            "type": "scatterpolar"
           }
          ],
          "scatterpolargl": [
           {
            "marker": {
             "colorbar": {
              "outlinewidth": 0,
              "ticks": ""
             }
            },
            "type": "scatterpolargl"
           }
          ],
          "scatterternary": [
           {
            "marker": {
             "colorbar": {
              "outlinewidth": 0,
              "ticks": ""
             }
            },
            "type": "scatterternary"
           }
          ],
          "surface": [
           {
            "colorbar": {
             "outlinewidth": 0,
             "ticks": ""
            },
            "colorscale": [
             [
              0,
              "#0d0887"
             ],
             [
              0.1111111111111111,
              "#46039f"
             ],
             [
              0.2222222222222222,
              "#7201a8"
             ],
             [
              0.3333333333333333,
              "#9c179e"
             ],
             [
              0.4444444444444444,
              "#bd3786"
             ],
             [
              0.5555555555555556,
              "#d8576b"
             ],
             [
              0.6666666666666666,
              "#ed7953"
             ],
             [
              0.7777777777777778,
              "#fb9f3a"
             ],
             [
              0.8888888888888888,
              "#fdca26"
             ],
             [
              1,
              "#f0f921"
             ]
            ],
            "type": "surface"
           }
          ],
          "table": [
           {
            "cells": {
             "fill": {
              "color": "#EBF0F8"
             },
             "line": {
              "color": "white"
             }
            },
            "header": {
             "fill": {
              "color": "#C8D4E3"
             },
             "line": {
              "color": "white"
             }
            },
            "type": "table"
           }
          ]
         },
         "layout": {
          "annotationdefaults": {
           "arrowcolor": "#2a3f5f",
           "arrowhead": 0,
           "arrowwidth": 1
          },
          "autotypenumbers": "strict",
          "coloraxis": {
           "colorbar": {
            "outlinewidth": 0,
            "ticks": ""
           }
          },
          "colorscale": {
           "diverging": [
            [
             0,
             "#8e0152"
            ],
            [
             0.1,
             "#c51b7d"
            ],
            [
             0.2,
             "#de77ae"
            ],
            [
             0.3,
             "#f1b6da"
            ],
            [
             0.4,
             "#fde0ef"
            ],
            [
             0.5,
             "#f7f7f7"
            ],
            [
             0.6,
             "#e6f5d0"
            ],
            [
             0.7,
             "#b8e186"
            ],
            [
             0.8,
             "#7fbc41"
            ],
            [
             0.9,
             "#4d9221"
            ],
            [
             1,
             "#276419"
            ]
           ],
           "sequential": [
            [
             0,
             "#0d0887"
            ],
            [
             0.1111111111111111,
             "#46039f"
            ],
            [
             0.2222222222222222,
             "#7201a8"
            ],
            [
             0.3333333333333333,
             "#9c179e"
            ],
            [
             0.4444444444444444,
             "#bd3786"
            ],
            [
             0.5555555555555556,
             "#d8576b"
            ],
            [
             0.6666666666666666,
             "#ed7953"
            ],
            [
             0.7777777777777778,
             "#fb9f3a"
            ],
            [
             0.8888888888888888,
             "#fdca26"
            ],
            [
             1,
             "#f0f921"
            ]
           ],
           "sequentialminus": [
            [
             0,
             "#0d0887"
            ],
            [
             0.1111111111111111,
             "#46039f"
            ],
            [
             0.2222222222222222,
             "#7201a8"
            ],
            [
             0.3333333333333333,
             "#9c179e"
            ],
            [
             0.4444444444444444,
             "#bd3786"
            ],
            [
             0.5555555555555556,
             "#d8576b"
            ],
            [
             0.6666666666666666,
             "#ed7953"
            ],
            [
             0.7777777777777778,
             "#fb9f3a"
            ],
            [
             0.8888888888888888,
             "#fdca26"
            ],
            [
             1,
             "#f0f921"
            ]
           ]
          },
          "colorway": [
           "#636efa",
           "#EF553B",
           "#00cc96",
           "#ab63fa",
           "#FFA15A",
           "#19d3f3",
           "#FF6692",
           "#B6E880",
           "#FF97FF",
           "#FECB52"
          ],
          "font": {
           "color": "#2a3f5f"
          },
          "geo": {
           "bgcolor": "white",
           "lakecolor": "white",
           "landcolor": "#E5ECF6",
           "showlakes": true,
           "showland": true,
           "subunitcolor": "white"
          },
          "hoverlabel": {
           "align": "left"
          },
          "hovermode": "closest",
          "mapbox": {
           "style": "light"
          },
          "paper_bgcolor": "white",
          "plot_bgcolor": "#E5ECF6",
          "polar": {
           "angularaxis": {
            "gridcolor": "white",
            "linecolor": "white",
            "ticks": ""
           },
           "bgcolor": "#E5ECF6",
           "radialaxis": {
            "gridcolor": "white",
            "linecolor": "white",
            "ticks": ""
           }
          },
          "scene": {
           "xaxis": {
            "backgroundcolor": "#E5ECF6",
            "gridcolor": "white",
            "gridwidth": 2,
            "linecolor": "white",
            "showbackground": true,
            "ticks": "",
            "zerolinecolor": "white"
           },
           "yaxis": {
            "backgroundcolor": "#E5ECF6",
            "gridcolor": "white",
            "gridwidth": 2,
            "linecolor": "white",
            "showbackground": true,
            "ticks": "",
            "zerolinecolor": "white"
           },
           "zaxis": {
            "backgroundcolor": "#E5ECF6",
            "gridcolor": "white",
            "gridwidth": 2,
            "linecolor": "white",
            "showbackground": true,
            "ticks": "",
            "zerolinecolor": "white"
           }
          },
          "shapedefaults": {
           "line": {
            "color": "#2a3f5f"
           }
          },
          "ternary": {
           "aaxis": {
            "gridcolor": "white",
            "linecolor": "white",
            "ticks": ""
           },
           "baxis": {
            "gridcolor": "white",
            "linecolor": "white",
            "ticks": ""
           },
           "bgcolor": "#E5ECF6",
           "caxis": {
            "gridcolor": "white",
            "linecolor": "white",
            "ticks": ""
           }
          },
          "title": {
           "x": 0.05
          },
          "xaxis": {
           "automargin": true,
           "gridcolor": "white",
           "linecolor": "white",
           "ticks": "",
           "title": {
            "standoff": 15
           },
           "zerolinecolor": "white",
           "zerolinewidth": 2
          },
          "yaxis": {
           "automargin": true,
           "gridcolor": "white",
           "linecolor": "white",
           "ticks": "",
           "title": {
            "standoff": 15
           },
           "zerolinecolor": "white",
           "zerolinewidth": 2
          }
         }
        },
        "title": {
         "text": "Salaire par année et type de contrat"
        },
        "updatemenus": [
         {
          "buttons": [
           {
            "args": [
             {
              "visible": [
               true,
               false,
               false,
               true,
               false,
               false,
               true,
               false,
               false,
               true,
               false,
               false,
               true,
               false,
               false,
               true,
               false,
               false,
               true,
               false,
               false,
               true,
               false,
               false,
               true,
               false,
               false,
               true,
               false,
               false,
               true,
               false,
               false,
               true,
               false,
               false,
               true,
               false,
               false,
               true,
               false,
               false,
               true,
               false,
               false,
               true,
               false,
               false,
               true,
               false,
               false,
               true,
               false,
               false,
               true,
               false,
               false,
               true,
               false,
               false,
               true,
               false,
               false
              ]
             },
             {
              "title": "Collège: Cadre"
             }
            ],
            "label": "Cadre",
            "method": "update"
           },
           {
            "args": [
             {
              "visible": [
               false,
               true,
               false,
               false,
               true,
               false,
               false,
               true,
               false,
               false,
               true,
               false,
               false,
               true,
               false,
               false,
               true,
               false,
               false,
               true,
               false,
               false,
               true,
               false,
               false,
               true,
               false,
               false,
               true,
               false,
               false,
               true,
               false,
               false,
               true,
               false,
               false,
               true,
               false,
               false,
               true,
               false,
               false,
               true,
               false,
               false,
               true,
               false,
               false,
               true,
               false,
               false,
               true,
               false,
               false,
               true,
               false,
               false,
               true,
               false,
               false,
               true,
               false
              ]
             },
             {
              "title": "Collège: Execution"
             }
            ],
            "label": "Execution",
            "method": "update"
           },
           {
            "args": [
             {
              "visible": [
               false,
               false,
               true,
               false,
               false,
               true,
               false,
               false,
               true,
               false,
               false,
               true,
               false,
               false,
               true,
               false,
               false,
               true,
               false,
               false,
               true,
               false,
               false,
               true,
               false,
               false,
               true,
               false,
               false,
               true,
               false,
               false,
               true,
               false,
               false,
               true,
               false,
               false,
               true,
               false,
               false,
               true,
               false,
               false,
               true,
               false,
               false,
               true,
               false,
               false,
               true,
               false,
               false,
               true,
               false,
               false,
               true,
               false,
               false,
               true,
               false,
               false,
               true
              ]
             },
             {
              "title": "Collège: Maitrise"
             }
            ],
            "label": "Maitrise",
            "method": "update"
           }
          ],
          "direction": "down",
          "showactive": true,
          "x": 0.1,
          "y": 1.15
         }
        ],
        "xaxis": {
         "anchor": "y",
         "domain": [
          0,
          1
         ],
         "title": {
          "text": "Année"
         }
        },
        "yaxis": {
         "anchor": "x",
         "domain": [
          0,
          1
         ],
         "title": {
          "text": "Salaire mensuel brut moyen (€)"
         }
        }
       }
      }
     },
     "metadata": {},
     "output_type": "display_data"
    }
   ],
   "source": [
    "# Créer le graphique avec une liste de sélection pour le Collège\n",
    "fig = px.line(\n",
    "    statut,\n",
    "    x=\"Année\",\n",
    "    y=\"Salaire mensuel brut moyen (€)\",\n",
    "    color=\"Type de contrat\",\n",
    "    line_group=\"Collège\",\n",
    "    title=\"Salaire par année et type de contrat\",\n",
    "    labels={\"Salaire\": \"Salaire (€)\", \"Année\": \"Année\"},\n",
    ")\n",
    "\n",
    "# Ajouter une liste de sélection (Filtre interactif)\n",
    "fig.update_layout(\n",
    "    updatemenus=[\n",
    "        dict(\n",
    "            buttons=[\n",
    "                dict(\n",
    "                    label=college,\n",
    "                    method=\"update\",\n",
    "                    args=[{\"visible\": statut[\"Collège\"] == college}, {\"title\": f\"Collège: {college}\"}],\n",
    "                )\n",
    "                for college in statut[\"Collège\"].unique()\n",
    "            ],\n",
    "            direction=\"down\",\n",
    "            showactive=True,\n",
    "            x=0.1,\n",
    "            y=1.15,\n",
    "        )\n",
    "    ]\n",
    ")\n",
    "\n",
    "fig.show()"
   ]
  }
 ],
 "metadata": {
  "kernelspec": {
   "display_name": "Python 3",
   "language": "python",
   "name": "python3"
  },
  "language_info": {
   "codemirror_mode": {
    "name": "ipython",
    "version": 3
   },
   "file_extension": ".py",
   "mimetype": "text/x-python",
   "name": "python",
   "nbconvert_exporter": "python",
   "pygments_lexer": "ipython3",
   "version": "3.9.6"
  }
 },
 "nbformat": 4,
 "nbformat_minor": 2
}
