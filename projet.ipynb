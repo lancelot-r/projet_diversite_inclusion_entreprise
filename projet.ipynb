{
 "cells": [
  {
   "cell_type": "markdown",
   "metadata": {},
   "source": [
    "# Projet Diversité et inclusion en entreprise #"
   ]
  },
  {
   "cell_type": "markdown",
   "metadata": {},
   "source": [
    "**Problématique : Comment les différents aspects sociaux et professionnels (rémunération, formation, conditions de travail, handicap, absentéisme, etc.) influencent-ils la structure et l’évolution des effectifs d’EDF SA sur une période donnée ?**"
   ]
  },
  {
   "cell_type": "markdown",
   "metadata": {},
   "source": [
    "*Respect de la PEP-8*"
   ]
  },
  {
   "cell_type": "code",
   "execution_count": 33,
   "metadata": {},
   "outputs": [
    {
     "name": "stdout",
     "output_type": "stream",
     "text": [
      "The pycodestyle_magic extension is already loaded. To reload it, use:\n",
      "  %reload_ext pycodestyle_magic\n"
     ]
    }
   ],
   "source": [
    "%load_ext pycodestyle_magic\n",
    "%pycodestyle_on"
   ]
  },
  {
   "cell_type": "code",
   "execution_count": 2,
   "metadata": {},
   "outputs": [],
   "source": [
    "import pandas as pd"
   ]
  },
  {
   "cell_type": "markdown",
   "metadata": {},
   "source": [
    "#### 1) Comparaison de l'ecart salarial homme/femme selon l'annee ####"
   ]
  },
  {
   "cell_type": "code",
   "execution_count": 75,
   "metadata": {},
   "outputs": [
    {
     "data": {
      "text/html": [
       "<div>\n",
       "<style scoped>\n",
       "    .dataframe tbody tr th:only-of-type {\n",
       "        vertical-align: middle;\n",
       "    }\n",
       "\n",
       "    .dataframe tbody tr th {\n",
       "        vertical-align: top;\n",
       "    }\n",
       "\n",
       "    .dataframe thead th {\n",
       "        text-align: right;\n",
       "    }\n",
       "</style>\n",
       "<table border=\"1\" class=\"dataframe\">\n",
       "  <thead>\n",
       "    <tr style=\"text-align: right;\">\n",
       "      <th></th>\n",
       "      <th>Année</th>\n",
       "      <th>Collège</th>\n",
       "      <th>Genre</th>\n",
       "      <th>Salaire mensuel moyen brut</th>\n",
       "    </tr>\n",
       "  </thead>\n",
       "  <tbody>\n",
       "    <tr>\n",
       "      <th>6</th>\n",
       "      <td>2023</td>\n",
       "      <td>Cadre</td>\n",
       "      <td>Femme</td>\n",
       "      <td>7175.0</td>\n",
       "    </tr>\n",
       "    <tr>\n",
       "      <th>7</th>\n",
       "      <td>2023</td>\n",
       "      <td>Maitrise</td>\n",
       "      <td>Homme</td>\n",
       "      <td>4990.0</td>\n",
       "    </tr>\n",
       "    <tr>\n",
       "      <th>46</th>\n",
       "      <td>2023</td>\n",
       "      <td>Maitrise</td>\n",
       "      <td>Femme</td>\n",
       "      <td>4279.0</td>\n",
       "    </tr>\n",
       "    <tr>\n",
       "      <th>47</th>\n",
       "      <td>2023</td>\n",
       "      <td>Execution</td>\n",
       "      <td>Homme</td>\n",
       "      <td>3894.0</td>\n",
       "    </tr>\n",
       "    <tr>\n",
       "      <th>48</th>\n",
       "      <td>2023</td>\n",
       "      <td>Execution</td>\n",
       "      <td>Femme</td>\n",
       "      <td>3290.0</td>\n",
       "    </tr>\n",
       "    <tr>\n",
       "      <th>60</th>\n",
       "      <td>2023</td>\n",
       "      <td>Cadre</td>\n",
       "      <td>Homme</td>\n",
       "      <td>7842.0</td>\n",
       "    </tr>\n",
       "    <tr>\n",
       "      <th>74</th>\n",
       "      <td>2022</td>\n",
       "      <td>Maitrise</td>\n",
       "      <td>Homme</td>\n",
       "      <td>4521.0</td>\n",
       "    </tr>\n",
       "    <tr>\n",
       "      <th>99</th>\n",
       "      <td>2022</td>\n",
       "      <td>Cadre</td>\n",
       "      <td>Homme</td>\n",
       "      <td>7353.0</td>\n",
       "    </tr>\n",
       "    <tr>\n",
       "      <th>100</th>\n",
       "      <td>2022</td>\n",
       "      <td>Maitrise</td>\n",
       "      <td>Femme</td>\n",
       "      <td>3913.0</td>\n",
       "    </tr>\n",
       "    <tr>\n",
       "      <th>101</th>\n",
       "      <td>2022</td>\n",
       "      <td>Execution</td>\n",
       "      <td>Homme</td>\n",
       "      <td>3546.0</td>\n",
       "    </tr>\n",
       "    <tr>\n",
       "      <th>102</th>\n",
       "      <td>2022</td>\n",
       "      <td>Execution</td>\n",
       "      <td>Femme</td>\n",
       "      <td>3016.0</td>\n",
       "    </tr>\n",
       "    <tr>\n",
       "      <th>119</th>\n",
       "      <td>2022</td>\n",
       "      <td>Cadre</td>\n",
       "      <td>Femme</td>\n",
       "      <td>6681.0</td>\n",
       "    </tr>\n",
       "    <tr>\n",
       "      <th>138</th>\n",
       "      <td>2021</td>\n",
       "      <td>Execution</td>\n",
       "      <td>Homme</td>\n",
       "      <td>3335.0</td>\n",
       "    </tr>\n",
       "    <tr>\n",
       "      <th>160</th>\n",
       "      <td>2021</td>\n",
       "      <td>Cadre</td>\n",
       "      <td>Femme</td>\n",
       "      <td>6303.0</td>\n",
       "    </tr>\n",
       "    <tr>\n",
       "      <th>161</th>\n",
       "      <td>2021</td>\n",
       "      <td>Maitrise</td>\n",
       "      <td>Homme</td>\n",
       "      <td>4291.0</td>\n",
       "    </tr>\n",
       "    <tr>\n",
       "      <th>162</th>\n",
       "      <td>2021</td>\n",
       "      <td>Maitrise</td>\n",
       "      <td>Femme</td>\n",
       "      <td>3697.0</td>\n",
       "    </tr>\n",
       "    <tr>\n",
       "      <th>163</th>\n",
       "      <td>2021</td>\n",
       "      <td>Execution</td>\n",
       "      <td>Femme</td>\n",
       "      <td>2829.0</td>\n",
       "    </tr>\n",
       "    <tr>\n",
       "      <th>190</th>\n",
       "      <td>2021</td>\n",
       "      <td>Cadre</td>\n",
       "      <td>Homme</td>\n",
       "      <td>6983.0</td>\n",
       "    </tr>\n",
       "    <tr>\n",
       "      <th>209</th>\n",
       "      <td>2020</td>\n",
       "      <td>Cadre</td>\n",
       "      <td>Homme</td>\n",
       "      <td>7019.0</td>\n",
       "    </tr>\n",
       "    <tr>\n",
       "      <th>210</th>\n",
       "      <td>2020</td>\n",
       "      <td>Maitrise</td>\n",
       "      <td>Homme</td>\n",
       "      <td>4225.0</td>\n",
       "    </tr>\n",
       "    <tr>\n",
       "      <th>223</th>\n",
       "      <td>2020</td>\n",
       "      <td>Execution</td>\n",
       "      <td>Femme</td>\n",
       "      <td>2797.0</td>\n",
       "    </tr>\n",
       "    <tr>\n",
       "      <th>240</th>\n",
       "      <td>2020</td>\n",
       "      <td>Execution</td>\n",
       "      <td>Homme</td>\n",
       "      <td>3259.0</td>\n",
       "    </tr>\n",
       "    <tr>\n",
       "      <th>268</th>\n",
       "      <td>2020</td>\n",
       "      <td>Cadre</td>\n",
       "      <td>Femme</td>\n",
       "      <td>6280.0</td>\n",
       "    </tr>\n",
       "    <tr>\n",
       "      <th>269</th>\n",
       "      <td>2020</td>\n",
       "      <td>Maitrise</td>\n",
       "      <td>Femme</td>\n",
       "      <td>3684.0</td>\n",
       "    </tr>\n",
       "    <tr>\n",
       "      <th>277</th>\n",
       "      <td>2019</td>\n",
       "      <td>Cadre</td>\n",
       "      <td>Homme</td>\n",
       "      <td>6994.0</td>\n",
       "    </tr>\n",
       "    <tr>\n",
       "      <th>289</th>\n",
       "      <td>2019</td>\n",
       "      <td>Cadre</td>\n",
       "      <td>Femme</td>\n",
       "      <td>6216.0</td>\n",
       "    </tr>\n",
       "    <tr>\n",
       "      <th>290</th>\n",
       "      <td>2019</td>\n",
       "      <td>Maitrise</td>\n",
       "      <td>Femme</td>\n",
       "      <td>3647.0</td>\n",
       "    </tr>\n",
       "    <tr>\n",
       "      <th>317</th>\n",
       "      <td>2019</td>\n",
       "      <td>Maitrise</td>\n",
       "      <td>Homme</td>\n",
       "      <td>4222.0</td>\n",
       "    </tr>\n",
       "    <tr>\n",
       "      <th>331</th>\n",
       "      <td>2019</td>\n",
       "      <td>Execution</td>\n",
       "      <td>Homme</td>\n",
       "      <td>3262.0</td>\n",
       "    </tr>\n",
       "    <tr>\n",
       "      <th>332</th>\n",
       "      <td>2019</td>\n",
       "      <td>Execution</td>\n",
       "      <td>Femme</td>\n",
       "      <td>2765.0</td>\n",
       "    </tr>\n",
       "    <tr>\n",
       "      <th>378</th>\n",
       "      <td>2018</td>\n",
       "      <td>Execution</td>\n",
       "      <td>Homme</td>\n",
       "      <td>3160.0</td>\n",
       "    </tr>\n",
       "    <tr>\n",
       "      <th>386</th>\n",
       "      <td>2018</td>\n",
       "      <td>Cadre</td>\n",
       "      <td>Femme</td>\n",
       "      <td>6180.0</td>\n",
       "    </tr>\n",
       "    <tr>\n",
       "      <th>387</th>\n",
       "      <td>2018</td>\n",
       "      <td>Execution</td>\n",
       "      <td>Femme</td>\n",
       "      <td>2681.0</td>\n",
       "    </tr>\n",
       "    <tr>\n",
       "      <th>399</th>\n",
       "      <td>2018</td>\n",
       "      <td>Cadre</td>\n",
       "      <td>Homme</td>\n",
       "      <td>7010.0</td>\n",
       "    </tr>\n",
       "    <tr>\n",
       "      <th>400</th>\n",
       "      <td>2018</td>\n",
       "      <td>Maitrise</td>\n",
       "      <td>Homme</td>\n",
       "      <td>4151.0</td>\n",
       "    </tr>\n",
       "    <tr>\n",
       "      <th>401</th>\n",
       "      <td>2018</td>\n",
       "      <td>Maitrise</td>\n",
       "      <td>Femme</td>\n",
       "      <td>3581.0</td>\n",
       "    </tr>\n",
       "    <tr>\n",
       "      <th>412</th>\n",
       "      <td>2017</td>\n",
       "      <td>Cadre</td>\n",
       "      <td>Femme</td>\n",
       "      <td>6002.0</td>\n",
       "    </tr>\n",
       "    <tr>\n",
       "      <th>429</th>\n",
       "      <td>2017</td>\n",
       "      <td>Cadre</td>\n",
       "      <td>Homme</td>\n",
       "      <td>6931.0</td>\n",
       "    </tr>\n",
       "    <tr>\n",
       "      <th>430</th>\n",
       "      <td>2017</td>\n",
       "      <td>Maitrise</td>\n",
       "      <td>Homme</td>\n",
       "      <td>3965.0</td>\n",
       "    </tr>\n",
       "    <tr>\n",
       "      <th>441</th>\n",
       "      <td>2017</td>\n",
       "      <td>Maitrise</td>\n",
       "      <td>Femme</td>\n",
       "      <td>3478.0</td>\n",
       "    </tr>\n",
       "    <tr>\n",
       "      <th>455</th>\n",
       "      <td>2017</td>\n",
       "      <td>Execution</td>\n",
       "      <td>Homme</td>\n",
       "      <td>2986.0</td>\n",
       "    </tr>\n",
       "    <tr>\n",
       "      <th>468</th>\n",
       "      <td>2017</td>\n",
       "      <td>Execution</td>\n",
       "      <td>Femme</td>\n",
       "      <td>2548.0</td>\n",
       "    </tr>\n",
       "  </tbody>\n",
       "</table>\n",
       "</div>"
      ],
      "text/plain": [
       "     Année    Collège  Genre  Salaire mensuel moyen brut\n",
       "6     2023      Cadre  Femme                      7175.0\n",
       "7     2023   Maitrise  Homme                      4990.0\n",
       "46    2023   Maitrise  Femme                      4279.0\n",
       "47    2023  Execution  Homme                      3894.0\n",
       "48    2023  Execution  Femme                      3290.0\n",
       "60    2023      Cadre  Homme                      7842.0\n",
       "74    2022   Maitrise  Homme                      4521.0\n",
       "99    2022      Cadre  Homme                      7353.0\n",
       "100   2022   Maitrise  Femme                      3913.0\n",
       "101   2022  Execution  Homme                      3546.0\n",
       "102   2022  Execution  Femme                      3016.0\n",
       "119   2022      Cadre  Femme                      6681.0\n",
       "138   2021  Execution  Homme                      3335.0\n",
       "160   2021      Cadre  Femme                      6303.0\n",
       "161   2021   Maitrise  Homme                      4291.0\n",
       "162   2021   Maitrise  Femme                      3697.0\n",
       "163   2021  Execution  Femme                      2829.0\n",
       "190   2021      Cadre  Homme                      6983.0\n",
       "209   2020      Cadre  Homme                      7019.0\n",
       "210   2020   Maitrise  Homme                      4225.0\n",
       "223   2020  Execution  Femme                      2797.0\n",
       "240   2020  Execution  Homme                      3259.0\n",
       "268   2020      Cadre  Femme                      6280.0\n",
       "269   2020   Maitrise  Femme                      3684.0\n",
       "277   2019      Cadre  Homme                      6994.0\n",
       "289   2019      Cadre  Femme                      6216.0\n",
       "290   2019   Maitrise  Femme                      3647.0\n",
       "317   2019   Maitrise  Homme                      4222.0\n",
       "331   2019  Execution  Homme                      3262.0\n",
       "332   2019  Execution  Femme                      2765.0\n",
       "378   2018  Execution  Homme                      3160.0\n",
       "386   2018      Cadre  Femme                      6180.0\n",
       "387   2018  Execution  Femme                      2681.0\n",
       "399   2018      Cadre  Homme                      7010.0\n",
       "400   2018   Maitrise  Homme                      4151.0\n",
       "401   2018   Maitrise  Femme                      3581.0\n",
       "412   2017      Cadre  Femme                      6002.0\n",
       "429   2017      Cadre  Homme                      6931.0\n",
       "430   2017   Maitrise  Homme                      3965.0\n",
       "441   2017   Maitrise  Femme                      3478.0\n",
       "455   2017  Execution  Homme                      2986.0\n",
       "468   2017  Execution  Femme                      2548.0"
      ]
     },
     "execution_count": 75,
     "metadata": {},
     "output_type": "execute_result"
    }
   ],
   "source": [
    "salaire = pd.read_csv(\"data/promotion.csv\", delimiter=\";\")\n",
    "salaire = salaire[salaire['Type de contrat']==\"Statutaire\"]\n",
    "salaire = salaire[salaire['Indicateur']=='Rémunération mensuelle moyenne brute']\n",
    "salaire = salaire[(salaire['Collège']=='Cadre') | (salaire['Collège']=='Maitrise') | (salaire['Collège']=='Execution')]\n",
    "salaire = salaire.drop(columns=['Perimètre juridique', 'Perimètre spatial',\n",
    "       'Spatial perimeter', 'Indicateur', 'Indicator', 'Type de contrat',\n",
    "       'Type of contract', 'Employee category', 'Plage M3E',\n",
    "       'M3E classification', 'Gender', 'Unité', 'Unit',\n",
    "       'Chapitre du bilan social'])\n",
    "salaire = salaire.rename(columns={'Valeur': 'Salaire mensuel moyen brut'})\n",
    "salaire"
   ]
  },
  {
   "cell_type": "markdown",
   "metadata": {},
   "source": [
    "#### 2) Corrélation entre formation et promotions ####"
   ]
  },
  {
   "cell_type": "markdown",
   "metadata": {},
   "source": [
    "Ici, nous allons analyser l'effet des formations (nombre d'heures, nombre d'employés ayant été upgrade) avec une petite comparaison entre hommes et femmes"
   ]
  },
  {
   "cell_type": "markdown",
   "metadata": {},
   "source": [
    "Graphique 1 : "
   ]
  },
  {
   "cell_type": "code",
   "execution_count": 8,
   "metadata": {},
   "outputs": [],
   "source": [
    "promotion = pd.read_csv(\"data/promotion.csv\", delimiter=\";\")\n",
    "promotion = promotion[promotion[\"Indicateur\"]==\"Promotions dans un collège supérieur\"]\n",
    "promotion = promotion[promotion[\"Type de contrat\"]==\"Statutaire\"]\n",
    "drop = ['Perimètre juridique', 'Unité', 'Perimètre spatial',\n",
    "       'Spatial perimeter', 'Indicator',\n",
    "       'Type of contract', 'Employee category', 'Plage M3E',\n",
    "       'M3E classification', 'Gender', 'Unit',\n",
    "       'Chapitre du bilan social', 'Type de contrat', 'Indicateur']\n",
    "promotion = promotion.drop(columns=drop)\n",
    "promotion = promotion.groupby([\"Année\", \"Collège\", \"Genre\"]).sum().reset_index()\n",
    "promotion = promotion.rename(columns={'Collège': 'Evolution'})\n",
    "promotion['Collège'] = 'Exécution'\n",
    "promotion.loc[promotion['Evolution'] == 'Maîtrise vers Cadre', 'Collège'] = 'Maitrise'"
   ]
  },
  {
   "cell_type": "code",
   "execution_count": 9,
   "metadata": {},
   "outputs": [],
   "source": [
    "formation = pd.read_csv(\"data/formation.csv\", delimiter = \";\")\n",
    "formation = formation[(formation[\"Collège\"] == \"Maitrise\") | (formation[\"Collège\"] == \"Exécution\")]\n",
    "formation = formation[formation[\"Indicateur\"] == \"Salariés ayant suivi au moins un stage\"]\n",
    "drop = ['Perimètre juridique', 'Unité', 'Perimètre spatial',\n",
    "       'Spatial perimeter', 'Indicator',\n",
    "       'Employee category', 'Plage M3E', 'M3E classification',\n",
    "       'Gender', 'Unit', 'Chapitre du bilan social']\n",
    "formation = formation.drop(columns=drop)"
   ]
  },
  {
   "cell_type": "code",
   "execution_count": 10,
   "metadata": {},
   "outputs": [],
   "source": [
    "df1_2 = pd.merge(promotion, formation, on=['Année','Collège','Genre'], how='inner')\n",
    "df1_2 = df1_2.rename(columns={'Valeur_x': 'Nombre Evolutions'})\n",
    "df1_2 = df1_2.rename(columns={'Valeur_y': 'Population formee'})"
   ]
  },
  {
   "cell_type": "code",
   "execution_count": 87,
   "metadata": {},
   "outputs": [
    {
     "data": {
      "application/vnd.plotly.v1+json": {
       "config": {
        "plotlyServerURL": "https://plot.ly"
       },
       "data": [
        {
         "hovertemplate": "Evolution=Exécution vers Maîtrise<br>Type=Nombre Evolutions<br>Genre=Femme<br>Année=%{x}<br>Valeur=%{y}<extra></extra>",
         "legendgroup": "Exécution vers Maîtrise, Nombre Evolutions",
         "line": {
          "color": "#636efa",
          "dash": "solid"
         },
         "marker": {
          "symbol": "circle"
         },
         "mode": "lines",
         "name": "Exécution vers Maîtrise, Nombre Evolutions",
         "orientation": "v",
         "showlegend": true,
         "type": "scatter",
         "visible": true,
         "x": [
          2017,
          2018,
          2019,
          2020,
          2021,
          2022,
          2023
         ],
         "xaxis": "x2",
         "y": [
          118,
          103,
          132,
          99,
          97,
          104,
          117
         ],
         "yaxis": "y2"
        },
        {
         "hovertemplate": "Evolution=Exécution vers Maîtrise<br>Type=Nombre Evolutions<br>Genre=Homme<br>Année=%{x}<br>Valeur=%{y}<extra></extra>",
         "legendgroup": "Exécution vers Maîtrise, Nombre Evolutions",
         "line": {
          "color": "#636efa",
          "dash": "solid"
         },
         "marker": {
          "symbol": "circle"
         },
         "mode": "lines",
         "name": "Exécution vers Maîtrise, Nombre Evolutions",
         "orientation": "v",
         "showlegend": false,
         "type": "scatter",
         "visible": true,
         "x": [
          2017,
          2018,
          2019,
          2020,
          2021,
          2022,
          2023
         ],
         "xaxis": "x",
         "y": [
          269,
          251,
          339,
          302,
          235,
          235,
          249
         ],
         "yaxis": "y"
        },
        {
         "hovertemplate": "Evolution=Exécution vers Maîtrise<br>Type=Population formee<br>Genre=Femme<br>Année=%{x}<br>Valeur=%{y}<extra></extra>",
         "legendgroup": "Exécution vers Maîtrise, Population formee",
         "line": {
          "color": "#636efa",
          "dash": "dot"
         },
         "marker": {
          "symbol": "circle"
         },
         "mode": "lines",
         "name": "Exécution vers Maîtrise, Population formee",
         "orientation": "v",
         "showlegend": true,
         "type": "scatter",
         "visible": true,
         "x": [
          2017,
          2018,
          2019,
          2020,
          2021,
          2022,
          2023
         ],
         "xaxis": "x2",
         "y": [
          2508,
          2334,
          1670,
          1474,
          1396,
          1323,
          1375
         ],
         "yaxis": "y2"
        },
        {
         "hovertemplate": "Evolution=Exécution vers Maîtrise<br>Type=Population formee<br>Genre=Homme<br>Année=%{x}<br>Valeur=%{y}<extra></extra>",
         "legendgroup": "Exécution vers Maîtrise, Population formee",
         "line": {
          "color": "#636efa",
          "dash": "dot"
         },
         "marker": {
          "symbol": "circle"
         },
         "mode": "lines",
         "name": "Exécution vers Maîtrise, Population formee",
         "orientation": "v",
         "showlegend": false,
         "type": "scatter",
         "visible": true,
         "x": [
          2017,
          2018,
          2019,
          2020,
          2021,
          2022,
          2023
         ],
         "xaxis": "x",
         "y": [
          3620,
          3550,
          2888,
          2437,
          2606,
          2838,
          3315
         ],
         "yaxis": "y"
        },
        {
         "hovertemplate": "Evolution=Maîtrise vers Cadre<br>Type=Nombre Evolutions<br>Genre=Femme<br>Année=%{x}<br>Valeur=%{y}<extra></extra>",
         "legendgroup": "Maîtrise vers Cadre, Nombre Evolutions",
         "line": {
          "color": "#EF553B",
          "dash": "solid"
         },
         "marker": {
          "symbol": "circle"
         },
         "mode": "lines",
         "name": "Maîtrise vers Cadre, Nombre Evolutions",
         "orientation": "v",
         "showlegend": true,
         "type": "scatter",
         "visible": "legendonly",
         "x": [
          2017,
          2018,
          2019,
          2020,
          2021,
          2022,
          2023
         ],
         "xaxis": "x2",
         "y": [
          152,
          165,
          178,
          159,
          127,
          152,
          172
         ],
         "yaxis": "y2"
        },
        {
         "hovertemplate": "Evolution=Maîtrise vers Cadre<br>Type=Nombre Evolutions<br>Genre=Homme<br>Année=%{x}<br>Valeur=%{y}<extra></extra>",
         "legendgroup": "Maîtrise vers Cadre, Nombre Evolutions",
         "line": {
          "color": "#EF553B",
          "dash": "solid"
         },
         "marker": {
          "symbol": "circle"
         },
         "mode": "lines",
         "name": "Maîtrise vers Cadre, Nombre Evolutions",
         "orientation": "v",
         "showlegend": false,
         "type": "scatter",
         "visible": "legendonly",
         "x": [
          2017,
          2018,
          2019,
          2020,
          2021,
          2022,
          2023
         ],
         "xaxis": "x",
         "y": [
          445,
          441,
          446,
          361,
          383,
          394,
          465
         ],
         "yaxis": "y"
        },
        {
         "hovertemplate": "Evolution=Maîtrise vers Cadre<br>Type=Population formee<br>Genre=Femme<br>Année=%{x}<br>Valeur=%{y}<extra></extra>",
         "legendgroup": "Maîtrise vers Cadre, Population formee",
         "line": {
          "color": "#EF553B",
          "dash": "dot"
         },
         "marker": {
          "symbol": "circle"
         },
         "mode": "lines",
         "name": "Maîtrise vers Cadre, Population formee",
         "orientation": "v",
         "showlegend": true,
         "type": "scatter",
         "visible": "legendonly",
         "x": [
          2017,
          2018,
          2019,
          2020,
          2021,
          2022,
          2023
         ],
         "xaxis": "x2",
         "y": [
          8103,
          7683,
          6832,
          5240,
          5811,
          5656,
          5618
         ],
         "yaxis": "y2"
        },
        {
         "hovertemplate": "Evolution=Maîtrise vers Cadre<br>Type=Population formee<br>Genre=Homme<br>Année=%{x}<br>Valeur=%{y}<extra></extra>",
         "legendgroup": "Maîtrise vers Cadre, Population formee",
         "line": {
          "color": "#EF553B",
          "dash": "dot"
         },
         "marker": {
          "symbol": "circle"
         },
         "mode": "lines",
         "name": "Maîtrise vers Cadre, Population formee",
         "orientation": "v",
         "showlegend": false,
         "type": "scatter",
         "visible": "legendonly",
         "x": [
          2017,
          2018,
          2019,
          2020,
          2021,
          2022,
          2023
         ],
         "xaxis": "x",
         "y": [
          20045,
          19607,
          18773,
          17046,
          17983,
          18289,
          18665
         ],
         "yaxis": "y"
        }
       ],
       "layout": {
        "annotations": [
         {
          "font": {},
          "showarrow": false,
          "text": "Genre=Homme",
          "textangle": 90,
          "x": 0.98,
          "xanchor": "left",
          "xref": "paper",
          "y": 0.2425,
          "yanchor": "middle",
          "yref": "paper"
         },
         {
          "font": {},
          "showarrow": false,
          "text": "Genre=Femme",
          "textangle": 90,
          "x": 0.98,
          "xanchor": "left",
          "xref": "paper",
          "y": 0.7575000000000001,
          "yanchor": "middle",
          "yref": "paper"
         }
        ],
        "height": 800,
        "legend": {
         "title": {
          "text": "Évolution et Type de Valeur"
         },
         "tracegroupgap": 0
        },
        "template": {
         "data": {
          "bar": [
           {
            "error_x": {
             "color": "#2a3f5f"
            },
            "error_y": {
             "color": "#2a3f5f"
            },
            "marker": {
             "line": {
              "color": "#E5ECF6",
              "width": 0.5
             },
             "pattern": {
              "fillmode": "overlay",
              "size": 10,
              "solidity": 0.2
             }
            },
            "type": "bar"
           }
          ],
          "barpolar": [
           {
            "marker": {
             "line": {
              "color": "#E5ECF6",
              "width": 0.5
             },
             "pattern": {
              "fillmode": "overlay",
              "size": 10,
              "solidity": 0.2
             }
            },
            "type": "barpolar"
           }
          ],
          "carpet": [
           {
            "aaxis": {
             "endlinecolor": "#2a3f5f",
             "gridcolor": "white",
             "linecolor": "white",
             "minorgridcolor": "white",
             "startlinecolor": "#2a3f5f"
            },
            "baxis": {
             "endlinecolor": "#2a3f5f",
             "gridcolor": "white",
             "linecolor": "white",
             "minorgridcolor": "white",
             "startlinecolor": "#2a3f5f"
            },
            "type": "carpet"
           }
          ],
          "choropleth": [
           {
            "colorbar": {
             "outlinewidth": 0,
             "ticks": ""
            },
            "type": "choropleth"
           }
          ],
          "contour": [
           {
            "colorbar": {
             "outlinewidth": 0,
             "ticks": ""
            },
            "colorscale": [
             [
              0,
              "#0d0887"
             ],
             [
              0.1111111111111111,
              "#46039f"
             ],
             [
              0.2222222222222222,
              "#7201a8"
             ],
             [
              0.3333333333333333,
              "#9c179e"
             ],
             [
              0.4444444444444444,
              "#bd3786"
             ],
             [
              0.5555555555555556,
              "#d8576b"
             ],
             [
              0.6666666666666666,
              "#ed7953"
             ],
             [
              0.7777777777777778,
              "#fb9f3a"
             ],
             [
              0.8888888888888888,
              "#fdca26"
             ],
             [
              1,
              "#f0f921"
             ]
            ],
            "type": "contour"
           }
          ],
          "contourcarpet": [
           {
            "colorbar": {
             "outlinewidth": 0,
             "ticks": ""
            },
            "type": "contourcarpet"
           }
          ],
          "heatmap": [
           {
            "colorbar": {
             "outlinewidth": 0,
             "ticks": ""
            },
            "colorscale": [
             [
              0,
              "#0d0887"
             ],
             [
              0.1111111111111111,
              "#46039f"
             ],
             [
              0.2222222222222222,
              "#7201a8"
             ],
             [
              0.3333333333333333,
              "#9c179e"
             ],
             [
              0.4444444444444444,
              "#bd3786"
             ],
             [
              0.5555555555555556,
              "#d8576b"
             ],
             [
              0.6666666666666666,
              "#ed7953"
             ],
             [
              0.7777777777777778,
              "#fb9f3a"
             ],
             [
              0.8888888888888888,
              "#fdca26"
             ],
             [
              1,
              "#f0f921"
             ]
            ],
            "type": "heatmap"
           }
          ],
          "heatmapgl": [
           {
            "colorbar": {
             "outlinewidth": 0,
             "ticks": ""
            },
            "colorscale": [
             [
              0,
              "#0d0887"
             ],
             [
              0.1111111111111111,
              "#46039f"
             ],
             [
              0.2222222222222222,
              "#7201a8"
             ],
             [
              0.3333333333333333,
              "#9c179e"
             ],
             [
              0.4444444444444444,
              "#bd3786"
             ],
             [
              0.5555555555555556,
              "#d8576b"
             ],
             [
              0.6666666666666666,
              "#ed7953"
             ],
             [
              0.7777777777777778,
              "#fb9f3a"
             ],
             [
              0.8888888888888888,
              "#fdca26"
             ],
             [
              1,
              "#f0f921"
             ]
            ],
            "type": "heatmapgl"
           }
          ],
          "histogram": [
           {
            "marker": {
             "pattern": {
              "fillmode": "overlay",
              "size": 10,
              "solidity": 0.2
             }
            },
            "type": "histogram"
           }
          ],
          "histogram2d": [
           {
            "colorbar": {
             "outlinewidth": 0,
             "ticks": ""
            },
            "colorscale": [
             [
              0,
              "#0d0887"
             ],
             [
              0.1111111111111111,
              "#46039f"
             ],
             [
              0.2222222222222222,
              "#7201a8"
             ],
             [
              0.3333333333333333,
              "#9c179e"
             ],
             [
              0.4444444444444444,
              "#bd3786"
             ],
             [
              0.5555555555555556,
              "#d8576b"
             ],
             [
              0.6666666666666666,
              "#ed7953"
             ],
             [
              0.7777777777777778,
              "#fb9f3a"
             ],
             [
              0.8888888888888888,
              "#fdca26"
             ],
             [
              1,
              "#f0f921"
             ]
            ],
            "type": "histogram2d"
           }
          ],
          "histogram2dcontour": [
           {
            "colorbar": {
             "outlinewidth": 0,
             "ticks": ""
            },
            "colorscale": [
             [
              0,
              "#0d0887"
             ],
             [
              0.1111111111111111,
              "#46039f"
             ],
             [
              0.2222222222222222,
              "#7201a8"
             ],
             [
              0.3333333333333333,
              "#9c179e"
             ],
             [
              0.4444444444444444,
              "#bd3786"
             ],
             [
              0.5555555555555556,
              "#d8576b"
             ],
             [
              0.6666666666666666,
              "#ed7953"
             ],
             [
              0.7777777777777778,
              "#fb9f3a"
             ],
             [
              0.8888888888888888,
              "#fdca26"
             ],
             [
              1,
              "#f0f921"
             ]
            ],
            "type": "histogram2dcontour"
           }
          ],
          "mesh3d": [
           {
            "colorbar": {
             "outlinewidth": 0,
             "ticks": ""
            },
            "type": "mesh3d"
           }
          ],
          "parcoords": [
           {
            "line": {
             "colorbar": {
              "outlinewidth": 0,
              "ticks": ""
             }
            },
            "type": "parcoords"
           }
          ],
          "pie": [
           {
            "automargin": true,
            "type": "pie"
           }
          ],
          "scatter": [
           {
            "fillpattern": {
             "fillmode": "overlay",
             "size": 10,
             "solidity": 0.2
            },
            "type": "scatter"
           }
          ],
          "scatter3d": [
           {
            "line": {
             "colorbar": {
              "outlinewidth": 0,
              "ticks": ""
             }
            },
            "marker": {
             "colorbar": {
              "outlinewidth": 0,
              "ticks": ""
             }
            },
            "type": "scatter3d"
           }
          ],
          "scattercarpet": [
           {
            "marker": {
             "colorbar": {
              "outlinewidth": 0,
              "ticks": ""
             }
            },
            "type": "scattercarpet"
           }
          ],
          "scattergeo": [
           {
            "marker": {
             "colorbar": {
              "outlinewidth": 0,
              "ticks": ""
             }
            },
            "type": "scattergeo"
           }
          ],
          "scattergl": [
           {
            "marker": {
             "colorbar": {
              "outlinewidth": 0,
              "ticks": ""
             }
            },
            "type": "scattergl"
           }
          ],
          "scattermapbox": [
           {
            "marker": {
             "colorbar": {
              "outlinewidth": 0,
              "ticks": ""
             }
            },
            "type": "scattermapbox"
           }
          ],
          "scatterpolar": [
           {
            "marker": {
             "colorbar": {
              "outlinewidth": 0,
              "ticks": ""
             }
            },
            "type": "scatterpolar"
           }
          ],
          "scatterpolargl": [
           {
            "marker": {
             "colorbar": {
              "outlinewidth": 0,
              "ticks": ""
             }
            },
            "type": "scatterpolargl"
           }
          ],
          "scatterternary": [
           {
            "marker": {
             "colorbar": {
              "outlinewidth": 0,
              "ticks": ""
             }
            },
            "type": "scatterternary"
           }
          ],
          "surface": [
           {
            "colorbar": {
             "outlinewidth": 0,
             "ticks": ""
            },
            "colorscale": [
             [
              0,
              "#0d0887"
             ],
             [
              0.1111111111111111,
              "#46039f"
             ],
             [
              0.2222222222222222,
              "#7201a8"
             ],
             [
              0.3333333333333333,
              "#9c179e"
             ],
             [
              0.4444444444444444,
              "#bd3786"
             ],
             [
              0.5555555555555556,
              "#d8576b"
             ],
             [
              0.6666666666666666,
              "#ed7953"
             ],
             [
              0.7777777777777778,
              "#fb9f3a"
             ],
             [
              0.8888888888888888,
              "#fdca26"
             ],
             [
              1,
              "#f0f921"
             ]
            ],
            "type": "surface"
           }
          ],
          "table": [
           {
            "cells": {
             "fill": {
              "color": "#EBF0F8"
             },
             "line": {
              "color": "white"
             }
            },
            "header": {
             "fill": {
              "color": "#C8D4E3"
             },
             "line": {
              "color": "white"
             }
            },
            "type": "table"
           }
          ]
         },
         "layout": {
          "annotationdefaults": {
           "arrowcolor": "#2a3f5f",
           "arrowhead": 0,
           "arrowwidth": 1
          },
          "autotypenumbers": "strict",
          "coloraxis": {
           "colorbar": {
            "outlinewidth": 0,
            "ticks": ""
           }
          },
          "colorscale": {
           "diverging": [
            [
             0,
             "#8e0152"
            ],
            [
             0.1,
             "#c51b7d"
            ],
            [
             0.2,
             "#de77ae"
            ],
            [
             0.3,
             "#f1b6da"
            ],
            [
             0.4,
             "#fde0ef"
            ],
            [
             0.5,
             "#f7f7f7"
            ],
            [
             0.6,
             "#e6f5d0"
            ],
            [
             0.7,
             "#b8e186"
            ],
            [
             0.8,
             "#7fbc41"
            ],
            [
             0.9,
             "#4d9221"
            ],
            [
             1,
             "#276419"
            ]
           ],
           "sequential": [
            [
             0,
             "#0d0887"
            ],
            [
             0.1111111111111111,
             "#46039f"
            ],
            [
             0.2222222222222222,
             "#7201a8"
            ],
            [
             0.3333333333333333,
             "#9c179e"
            ],
            [
             0.4444444444444444,
             "#bd3786"
            ],
            [
             0.5555555555555556,
             "#d8576b"
            ],
            [
             0.6666666666666666,
             "#ed7953"
            ],
            [
             0.7777777777777778,
             "#fb9f3a"
            ],
            [
             0.8888888888888888,
             "#fdca26"
            ],
            [
             1,
             "#f0f921"
            ]
           ],
           "sequentialminus": [
            [
             0,
             "#0d0887"
            ],
            [
             0.1111111111111111,
             "#46039f"
            ],
            [
             0.2222222222222222,
             "#7201a8"
            ],
            [
             0.3333333333333333,
             "#9c179e"
            ],
            [
             0.4444444444444444,
             "#bd3786"
            ],
            [
             0.5555555555555556,
             "#d8576b"
            ],
            [
             0.6666666666666666,
             "#ed7953"
            ],
            [
             0.7777777777777778,
             "#fb9f3a"
            ],
            [
             0.8888888888888888,
             "#fdca26"
            ],
            [
             1,
             "#f0f921"
            ]
           ]
          },
          "colorway": [
           "#636efa",
           "#EF553B",
           "#00cc96",
           "#ab63fa",
           "#FFA15A",
           "#19d3f3",
           "#FF6692",
           "#B6E880",
           "#FF97FF",
           "#FECB52"
          ],
          "font": {
           "color": "#2a3f5f"
          },
          "geo": {
           "bgcolor": "white",
           "lakecolor": "white",
           "landcolor": "#E5ECF6",
           "showlakes": true,
           "showland": true,
           "subunitcolor": "white"
          },
          "hoverlabel": {
           "align": "left"
          },
          "hovermode": "closest",
          "mapbox": {
           "style": "light"
          },
          "paper_bgcolor": "white",
          "plot_bgcolor": "#E5ECF6",
          "polar": {
           "angularaxis": {
            "gridcolor": "white",
            "linecolor": "white",
            "ticks": ""
           },
           "bgcolor": "#E5ECF6",
           "radialaxis": {
            "gridcolor": "white",
            "linecolor": "white",
            "ticks": ""
           }
          },
          "scene": {
           "xaxis": {
            "backgroundcolor": "#E5ECF6",
            "gridcolor": "white",
            "gridwidth": 2,
            "linecolor": "white",
            "showbackground": true,
            "ticks": "",
            "zerolinecolor": "white"
           },
           "yaxis": {
            "backgroundcolor": "#E5ECF6",
            "gridcolor": "white",
            "gridwidth": 2,
            "linecolor": "white",
            "showbackground": true,
            "ticks": "",
            "zerolinecolor": "white"
           },
           "zaxis": {
            "backgroundcolor": "#E5ECF6",
            "gridcolor": "white",
            "gridwidth": 2,
            "linecolor": "white",
            "showbackground": true,
            "ticks": "",
            "zerolinecolor": "white"
           }
          },
          "shapedefaults": {
           "line": {
            "color": "#2a3f5f"
           }
          },
          "ternary": {
           "aaxis": {
            "gridcolor": "white",
            "linecolor": "white",
            "ticks": ""
           },
           "baxis": {
            "gridcolor": "white",
            "linecolor": "white",
            "ticks": ""
           },
           "bgcolor": "#E5ECF6",
           "caxis": {
            "gridcolor": "white",
            "linecolor": "white",
            "ticks": ""
           }
          },
          "title": {
           "x": 0.05
          },
          "xaxis": {
           "automargin": true,
           "gridcolor": "white",
           "linecolor": "white",
           "ticks": "",
           "title": {
            "standoff": 15
           },
           "zerolinecolor": "white",
           "zerolinewidth": 2
          },
          "yaxis": {
           "automargin": true,
           "gridcolor": "white",
           "linecolor": "white",
           "ticks": "",
           "title": {
            "standoff": 15
           },
           "zerolinecolor": "white",
           "zerolinewidth": 2
          }
         }
        },
        "title": {
         "text": "Corrélation entre le nombre de personnes formées et les évolutions"
        },
        "updatemenus": [
         {
          "buttons": [
           {
            "args": [
             {
              "visible": [
               true,
               true,
               true,
               true,
               false,
               false,
               false,
               false
              ]
             },
             {
              "title": "Corrélation pour l'évolution : Exécution vers Maîtrise"
             }
            ],
            "label": "Exécution vers Maîtrise",
            "method": "update"
           },
           {
            "args": [
             {
              "visible": [
               false,
               false,
               false,
               false,
               true,
               true,
               true,
               true
              ]
             },
             {
              "title": "Corrélation pour l'évolution : Maîtrise vers Cadre"
             }
            ],
            "label": "Maîtrise vers Cadre",
            "method": "update"
           }
          ],
          "direction": "down",
          "showactive": true,
          "x": 1.35,
          "xanchor": "right",
          "y": 1.1,
          "yanchor": "top"
         }
        ],
        "xaxis": {
         "anchor": "y",
         "domain": [
          0,
          0.98
         ],
         "title": {
          "text": "Année"
         }
        },
        "xaxis2": {
         "anchor": "y2",
         "domain": [
          0,
          0.98
         ],
         "matches": "x",
         "showticklabels": false
        },
        "yaxis": {
         "anchor": "x",
         "domain": [
          0,
          0.485
         ],
         "title": {
          "text": "Valeur"
         }
        },
        "yaxis2": {
         "anchor": "x2",
         "domain": [
          0.515,
          1
         ],
         "matches": "y",
         "title": {
          "text": "Valeur"
         }
        }
       }
      }
     },
     "metadata": {},
     "output_type": "display_data"
    }
   ],
   "source": [
    "import pandas as pd\n",
    "import plotly.express as px\n",
    "\n",
    "# Transformer les données en format long\n",
    "df_long = df1_2.melt(\n",
    "    id_vars=['Année', 'Evolution', 'Genre'], \n",
    "    value_vars=['Nombre Evolutions', 'Population formee'], \n",
    "    var_name='Type de Valeur', \n",
    "    value_name='Valeur'\n",
    ")\n",
    "\n",
    "# Créer le graphique\n",
    "fig = px.line(\n",
    "    df_long,\n",
    "    x='Année',\n",
    "    y='Valeur',\n",
    "    color='Evolution',  # Couleurs différenciées par évolution\n",
    "    line_dash='Type de Valeur',  # Style de ligne différencié par type de valeur\n",
    "    facet_row='Genre',  # Séparer les graphiques pour Femme (haut) et Homme (bas)\n",
    "    title=\"Corrélation entre le nombre de personnes formées et les évolutions\",\n",
    "    labels={'Valeur': 'Valeur', 'Année': 'Année', 'Type de Valeur': 'Type'},\n",
    "    height=800\n",
    ")\n",
    "\n",
    "# Définir les options du menu déroulant\n",
    "dropdown_buttons = [\n",
    "    dict(label=\"Exécution vers Maîtrise\",\n",
    "         method=\"update\",\n",
    "         args=[{\"visible\": ['Exécution vers Maîtrise' in trace.name for trace in fig.data]},\n",
    "               {\"title\": \"Corrélation pour l'évolution : Exécution vers Maîtrise\"}]),\n",
    "    dict(label=\"Maîtrise vers Cadre\",\n",
    "         method=\"update\",\n",
    "         args=[{\"visible\": ['Maîtrise vers Cadre' in trace.name for trace in fig.data]},\n",
    "               {\"title\": \"Corrélation pour l'évolution : Maîtrise vers Cadre\"}])\n",
    "]\n",
    "\n",
    "# Initialiser les courbes visibles pour \"Exécution vers Maîtrise\" (par défaut)\n",
    "default_visible = ['Exécution vers Maîtrise' in trace.name for trace in fig.data]\n",
    "fig.for_each_trace(lambda trace: trace.update(visible='legendonly'))  # Masquer toutes les traces par défaut\n",
    "for trace, visible in zip(fig.data, default_visible):\n",
    "    trace.visible = True if visible else 'legendonly'\n",
    "\n",
    "# Mettre à jour la mise en page pour inclure le menu déroulant\n",
    "fig.update_layout(\n",
    "    updatemenus=[\n",
    "        dict(\n",
    "            buttons=dropdown_buttons,\n",
    "            direction=\"down\",\n",
    "            showactive=True,\n",
    "            x=1.35,  # Position horizontale\n",
    "            xanchor=\"right\",\n",
    "            y=1.1,  # Position verticale\n",
    "            yanchor=\"top\"\n",
    "        )\n",
    "    ],\n",
    "    legend_title=\"Évolution et Type de Valeur\"\n",
    ")\n",
    "\n",
    "# Afficher le graphique\n",
    "fig.show()"
   ]
  },
  {
   "cell_type": "markdown",
   "metadata": {},
   "source": [
    "#### 3) Impact des conditions de travail sur l’absentéisme ET LES DE;ISSIONS####"
   ]
  },
  {
   "cell_type": "markdown",
   "metadata": {},
   "source": [
    "nuage de points\n"
   ]
  },
  {
   "cell_type": "code",
   "execution_count": 113,
   "metadata": {},
   "outputs": [
    {
     "data": {
      "text/html": [
       "<div>\n",
       "<style scoped>\n",
       "    .dataframe tbody tr th:only-of-type {\n",
       "        vertical-align: middle;\n",
       "    }\n",
       "\n",
       "    .dataframe tbody tr th {\n",
       "        vertical-align: top;\n",
       "    }\n",
       "\n",
       "    .dataframe thead th {\n",
       "        text-align: right;\n",
       "    }\n",
       "</style>\n",
       "<table border=\"1\" class=\"dataframe\">\n",
       "  <thead>\n",
       "    <tr style=\"text-align: right;\">\n",
       "      <th></th>\n",
       "      <th>Année</th>\n",
       "      <th>Collège</th>\n",
       "      <th>Indicateur</th>\n",
       "      <th>Unité</th>\n",
       "      <th>Valeur</th>\n",
       "    </tr>\n",
       "  </thead>\n",
       "  <tbody>\n",
       "    <tr>\n",
       "      <th>0</th>\n",
       "      <td>2017</td>\n",
       "      <td>Cadre</td>\n",
       "      <td>Absence pour maladie</td>\n",
       "      <td>heures</td>\n",
       "      <td>1081209.0</td>\n",
       "    </tr>\n",
       "    <tr>\n",
       "      <th>1</th>\n",
       "      <td>2017</td>\n",
       "      <td>Exécution</td>\n",
       "      <td>Absence pour maladie</td>\n",
       "      <td>heures</td>\n",
       "      <td>756905.0</td>\n",
       "    </tr>\n",
       "    <tr>\n",
       "      <th>2</th>\n",
       "      <td>2017</td>\n",
       "      <td>Maîtrise</td>\n",
       "      <td>Absence pour maladie</td>\n",
       "      <td>heures</td>\n",
       "      <td>2330284.0</td>\n",
       "    </tr>\n",
       "    <tr>\n",
       "      <th>3</th>\n",
       "      <td>2018</td>\n",
       "      <td>Cadre</td>\n",
       "      <td>Absence pour maladie</td>\n",
       "      <td>heures</td>\n",
       "      <td>1118943.0</td>\n",
       "    </tr>\n",
       "    <tr>\n",
       "      <th>4</th>\n",
       "      <td>2018</td>\n",
       "      <td>Exécution</td>\n",
       "      <td>Absence pour maladie</td>\n",
       "      <td>heures</td>\n",
       "      <td>702581.0</td>\n",
       "    </tr>\n",
       "    <tr>\n",
       "      <th>5</th>\n",
       "      <td>2018</td>\n",
       "      <td>Maîtrise</td>\n",
       "      <td>Absence pour maladie</td>\n",
       "      <td>heures</td>\n",
       "      <td>2288034.0</td>\n",
       "    </tr>\n",
       "    <tr>\n",
       "      <th>6</th>\n",
       "      <td>2019</td>\n",
       "      <td>Cadre</td>\n",
       "      <td>Absence pour maladie</td>\n",
       "      <td>heures</td>\n",
       "      <td>1110863.0</td>\n",
       "    </tr>\n",
       "    <tr>\n",
       "      <th>7</th>\n",
       "      <td>2019</td>\n",
       "      <td>Exécution</td>\n",
       "      <td>Absence pour maladie</td>\n",
       "      <td>heures</td>\n",
       "      <td>582413.0</td>\n",
       "    </tr>\n",
       "    <tr>\n",
       "      <th>8</th>\n",
       "      <td>2019</td>\n",
       "      <td>Maîtrise</td>\n",
       "      <td>Absence pour maladie</td>\n",
       "      <td>heures</td>\n",
       "      <td>2191619.0</td>\n",
       "    </tr>\n",
       "    <tr>\n",
       "      <th>9</th>\n",
       "      <td>2020</td>\n",
       "      <td>Cadre</td>\n",
       "      <td>Absence pour maladie</td>\n",
       "      <td>heures</td>\n",
       "      <td>1073816.0</td>\n",
       "    </tr>\n",
       "    <tr>\n",
       "      <th>10</th>\n",
       "      <td>2020</td>\n",
       "      <td>Exécution</td>\n",
       "      <td>Absence pour maladie</td>\n",
       "      <td>heures</td>\n",
       "      <td>474054.0</td>\n",
       "    </tr>\n",
       "    <tr>\n",
       "      <th>11</th>\n",
       "      <td>2020</td>\n",
       "      <td>Maîtrise</td>\n",
       "      <td>Absence pour maladie</td>\n",
       "      <td>heures</td>\n",
       "      <td>2049466.0</td>\n",
       "    </tr>\n",
       "    <tr>\n",
       "      <th>12</th>\n",
       "      <td>2021</td>\n",
       "      <td>Cadre</td>\n",
       "      <td>Absence pour maladie</td>\n",
       "      <td>heures</td>\n",
       "      <td>1133519.0</td>\n",
       "    </tr>\n",
       "    <tr>\n",
       "      <th>13</th>\n",
       "      <td>2021</td>\n",
       "      <td>Exécution</td>\n",
       "      <td>Absence pour maladie</td>\n",
       "      <td>heures</td>\n",
       "      <td>514709.0</td>\n",
       "    </tr>\n",
       "    <tr>\n",
       "      <th>14</th>\n",
       "      <td>2021</td>\n",
       "      <td>Maîtrise</td>\n",
       "      <td>Absence pour maladie</td>\n",
       "      <td>heures</td>\n",
       "      <td>2107507.0</td>\n",
       "    </tr>\n",
       "    <tr>\n",
       "      <th>15</th>\n",
       "      <td>2022</td>\n",
       "      <td>Cadre</td>\n",
       "      <td>Absence pour maladie</td>\n",
       "      <td>heures</td>\n",
       "      <td>1271907.0</td>\n",
       "    </tr>\n",
       "    <tr>\n",
       "      <th>16</th>\n",
       "      <td>2022</td>\n",
       "      <td>Exécution</td>\n",
       "      <td>Absence pour maladie</td>\n",
       "      <td>heures</td>\n",
       "      <td>501590.0</td>\n",
       "    </tr>\n",
       "    <tr>\n",
       "      <th>17</th>\n",
       "      <td>2022</td>\n",
       "      <td>Maîtrise</td>\n",
       "      <td>Absence pour maladie</td>\n",
       "      <td>heures</td>\n",
       "      <td>2277935.0</td>\n",
       "    </tr>\n",
       "    <tr>\n",
       "      <th>18</th>\n",
       "      <td>2023</td>\n",
       "      <td>Cadre</td>\n",
       "      <td>Absence pour maladie</td>\n",
       "      <td>heures</td>\n",
       "      <td>1182319.0</td>\n",
       "    </tr>\n",
       "    <tr>\n",
       "      <th>19</th>\n",
       "      <td>2023</td>\n",
       "      <td>Exécution</td>\n",
       "      <td>Absence pour maladie</td>\n",
       "      <td>heures</td>\n",
       "      <td>395846.0</td>\n",
       "    </tr>\n",
       "    <tr>\n",
       "      <th>20</th>\n",
       "      <td>2023</td>\n",
       "      <td>Maîtrise</td>\n",
       "      <td>Absence pour maladie</td>\n",
       "      <td>heures</td>\n",
       "      <td>1966648.0</td>\n",
       "    </tr>\n",
       "  </tbody>\n",
       "</table>\n",
       "</div>"
      ],
      "text/plain": [
       "    Année    Collège            Indicateur   Unité     Valeur\n",
       "0    2017      Cadre  Absence pour maladie  heures  1081209.0\n",
       "1    2017  Exécution  Absence pour maladie  heures   756905.0\n",
       "2    2017   Maîtrise  Absence pour maladie  heures  2330284.0\n",
       "3    2018      Cadre  Absence pour maladie  heures  1118943.0\n",
       "4    2018  Exécution  Absence pour maladie  heures   702581.0\n",
       "5    2018   Maîtrise  Absence pour maladie  heures  2288034.0\n",
       "6    2019      Cadre  Absence pour maladie  heures  1110863.0\n",
       "7    2019  Exécution  Absence pour maladie  heures   582413.0\n",
       "8    2019   Maîtrise  Absence pour maladie  heures  2191619.0\n",
       "9    2020      Cadre  Absence pour maladie  heures  1073816.0\n",
       "10   2020  Exécution  Absence pour maladie  heures   474054.0\n",
       "11   2020   Maîtrise  Absence pour maladie  heures  2049466.0\n",
       "12   2021      Cadre  Absence pour maladie  heures  1133519.0\n",
       "13   2021  Exécution  Absence pour maladie  heures   514709.0\n",
       "14   2021   Maîtrise  Absence pour maladie  heures  2107507.0\n",
       "15   2022      Cadre  Absence pour maladie  heures  1271907.0\n",
       "16   2022  Exécution  Absence pour maladie  heures   501590.0\n",
       "17   2022   Maîtrise  Absence pour maladie  heures  2277935.0\n",
       "18   2023      Cadre  Absence pour maladie  heures  1182319.0\n",
       "19   2023  Exécution  Absence pour maladie  heures   395846.0\n",
       "20   2023   Maîtrise  Absence pour maladie  heures  1966648.0"
      ]
     },
     "execution_count": 113,
     "metadata": {},
     "output_type": "execute_result"
    },
    {
     "name": "stderr",
     "output_type": "stream",
     "text": [
      "2:69: E225 missing whitespace around operator\n",
      "2:80: E501 line too long (84 > 79 characters)\n",
      "4:8: E128 continuation line under-indented for visual indent\n",
      "5:8: E128 continuation line under-indented for visual indent\n",
      "6:8: E128 continuation line under-indented for visual indent\n",
      "8:80: E501 line too long (90 > 79 characters)\n",
      "9:80: E501 line too long (106 > 79 characters)\n"
     ]
    }
   ],
   "source": [
    "absence_maladie = pd.read_csv(\"data/absences.csv\", delimiter=\";\")\n",
    "absence_maladie = absence_maladie[absence_maladie[\"Type de contrat\"]==\"Statutaires\"]\n",
    "drop = ['Perimètre juridique', 'Perimètre spatial',\n",
    "       'Spatial perimeter', 'Indicator',\n",
    "       'Type of contract', 'Employee category', 'Gender',\n",
    "       'Unit', 'Type de contrat', 'Chapitre du bilan social', 'Genre']\n",
    "absence_maladie = absence_maladie.drop(columns=drop)\n",
    "absence_maladie = absence_maladie[absence_maladie[\"Indicateur\"] == \"Absence pour maladie\"]\n",
    "absence_maladie = absence_maladie.groupby([\"Année\", \"Collège\", \"Indicateur\", \"Unité\"]).sum().reset_index()\n",
    "absence_maladie"
   ]
  },
  {
   "cell_type": "code",
   "execution_count": 83,
   "metadata": {},
   "outputs": [
    {
     "data": {
      "text/html": [
       "<div>\n",
       "<style scoped>\n",
       "    .dataframe tbody tr th:only-of-type {\n",
       "        vertical-align: middle;\n",
       "    }\n",
       "\n",
       "    .dataframe tbody tr th {\n",
       "        vertical-align: top;\n",
       "    }\n",
       "\n",
       "    .dataframe thead th {\n",
       "        text-align: right;\n",
       "    }\n",
       "</style>\n",
       "<table border=\"1\" class=\"dataframe\">\n",
       "  <thead>\n",
       "    <tr style=\"text-align: right;\">\n",
       "      <th></th>\n",
       "      <th>Année</th>\n",
       "      <th>Collège</th>\n",
       "      <th>Total des heures de congés</th>\n",
       "    </tr>\n",
       "  </thead>\n",
       "  <tbody>\n",
       "    <tr>\n",
       "      <th>0</th>\n",
       "      <td>2017</td>\n",
       "      <td>Cadre</td>\n",
       "      <td>327130.0</td>\n",
       "    </tr>\n",
       "    <tr>\n",
       "      <th>1</th>\n",
       "      <td>2017</td>\n",
       "      <td>Exécution</td>\n",
       "      <td>71491.0</td>\n",
       "    </tr>\n",
       "    <tr>\n",
       "      <th>2</th>\n",
       "      <td>2017</td>\n",
       "      <td>Maîtrise</td>\n",
       "      <td>362252.0</td>\n",
       "    </tr>\n",
       "    <tr>\n",
       "      <th>3</th>\n",
       "      <td>2018</td>\n",
       "      <td>Cadre</td>\n",
       "      <td>350507.0</td>\n",
       "    </tr>\n",
       "    <tr>\n",
       "      <th>4</th>\n",
       "      <td>2018</td>\n",
       "      <td>Exécution</td>\n",
       "      <td>69055.0</td>\n",
       "    </tr>\n",
       "    <tr>\n",
       "      <th>5</th>\n",
       "      <td>2018</td>\n",
       "      <td>Maîtrise</td>\n",
       "      <td>370494.0</td>\n",
       "    </tr>\n",
       "    <tr>\n",
       "      <th>6</th>\n",
       "      <td>2019</td>\n",
       "      <td>Cadre</td>\n",
       "      <td>270791.0</td>\n",
       "    </tr>\n",
       "    <tr>\n",
       "      <th>7</th>\n",
       "      <td>2019</td>\n",
       "      <td>Exécution</td>\n",
       "      <td>51543.0</td>\n",
       "    </tr>\n",
       "    <tr>\n",
       "      <th>8</th>\n",
       "      <td>2019</td>\n",
       "      <td>Maîtrise</td>\n",
       "      <td>311058.0</td>\n",
       "    </tr>\n",
       "    <tr>\n",
       "      <th>9</th>\n",
       "      <td>2020</td>\n",
       "      <td>Cadre</td>\n",
       "      <td>235808.0</td>\n",
       "    </tr>\n",
       "    <tr>\n",
       "      <th>10</th>\n",
       "      <td>2020</td>\n",
       "      <td>Exécution</td>\n",
       "      <td>41014.0</td>\n",
       "    </tr>\n",
       "    <tr>\n",
       "      <th>11</th>\n",
       "      <td>2020</td>\n",
       "      <td>Maîtrise</td>\n",
       "      <td>272459.0</td>\n",
       "    </tr>\n",
       "    <tr>\n",
       "      <th>12</th>\n",
       "      <td>2021</td>\n",
       "      <td>Cadre</td>\n",
       "      <td>238688.0</td>\n",
       "    </tr>\n",
       "    <tr>\n",
       "      <th>13</th>\n",
       "      <td>2021</td>\n",
       "      <td>Exécution</td>\n",
       "      <td>41404.0</td>\n",
       "    </tr>\n",
       "    <tr>\n",
       "      <th>14</th>\n",
       "      <td>2021</td>\n",
       "      <td>Maîtrise</td>\n",
       "      <td>288599.0</td>\n",
       "    </tr>\n",
       "    <tr>\n",
       "      <th>15</th>\n",
       "      <td>2022</td>\n",
       "      <td>Cadre</td>\n",
       "      <td>235781.0</td>\n",
       "    </tr>\n",
       "    <tr>\n",
       "      <th>16</th>\n",
       "      <td>2022</td>\n",
       "      <td>Exécution</td>\n",
       "      <td>37738.0</td>\n",
       "    </tr>\n",
       "    <tr>\n",
       "      <th>17</th>\n",
       "      <td>2022</td>\n",
       "      <td>Maîtrise</td>\n",
       "      <td>288809.0</td>\n",
       "    </tr>\n",
       "    <tr>\n",
       "      <th>18</th>\n",
       "      <td>2023</td>\n",
       "      <td>Cadre</td>\n",
       "      <td>240549.0</td>\n",
       "    </tr>\n",
       "    <tr>\n",
       "      <th>19</th>\n",
       "      <td>2023</td>\n",
       "      <td>Exécution</td>\n",
       "      <td>38840.0</td>\n",
       "    </tr>\n",
       "    <tr>\n",
       "      <th>20</th>\n",
       "      <td>2023</td>\n",
       "      <td>Maîtrise</td>\n",
       "      <td>278008.0</td>\n",
       "    </tr>\n",
       "  </tbody>\n",
       "</table>\n",
       "</div>"
      ],
      "text/plain": [
       "    Année    Collège  Total des heures de congés\n",
       "0    2017      Cadre                    327130.0\n",
       "1    2017  Exécution                     71491.0\n",
       "2    2017   Maîtrise                    362252.0\n",
       "3    2018      Cadre                    350507.0\n",
       "4    2018  Exécution                     69055.0\n",
       "5    2018   Maîtrise                    370494.0\n",
       "6    2019      Cadre                    270791.0\n",
       "7    2019  Exécution                     51543.0\n",
       "8    2019   Maîtrise                    311058.0\n",
       "9    2020      Cadre                    235808.0\n",
       "10   2020  Exécution                     41014.0\n",
       "11   2020   Maîtrise                    272459.0\n",
       "12   2021      Cadre                    238688.0\n",
       "13   2021  Exécution                     41404.0\n",
       "14   2021   Maîtrise                    288599.0\n",
       "15   2022      Cadre                    235781.0\n",
       "16   2022  Exécution                     37738.0\n",
       "17   2022   Maîtrise                    288809.0\n",
       "18   2023      Cadre                    240549.0\n",
       "19   2023  Exécution                     38840.0\n",
       "20   2023   Maîtrise                    278008.0"
      ]
     },
     "execution_count": 83,
     "metadata": {},
     "output_type": "execute_result"
    }
   ],
   "source": [
    "vacances = pd.read_csv(\"data/absences.csv\", delimiter=\";\")\n",
    "vacances = vacances[vacances[\"Type de contrat\"]==\"Statutaires\"]\n",
    "drop = ['Perimètre juridique', 'Perimètre spatial',\n",
    "       'Spatial perimeter', 'Indicator',\n",
    "       'Type of contract', 'Employee category', 'Gender',\n",
    "       'Unit', 'Type de contrat', 'Chapitre du bilan social', 'Genre']\n",
    "vacances = vacances.drop(columns=drop)\n",
    "vacances = vacances[vacances[\"Indicateur\"] == \"Absence pour congés autorisés\"]\n",
    "vacances = vacances.groupby([\"Année\", \"Collège\", \"Indicateur\", \"Unité\"]).sum().reset_index()\n",
    "vacances = vacances.rename(columns={'Valeur': 'Total des heures de congés'})\n",
    "vacances = vacances.drop(columns=['Indicateur', 'Unité'])\n",
    "vacances"
   ]
  },
  {
   "cell_type": "code",
   "execution_count": 117,
   "metadata": {},
   "outputs": [
    {
     "data": {
      "text/html": [
       "<div>\n",
       "<style scoped>\n",
       "    .dataframe tbody tr th:only-of-type {\n",
       "        vertical-align: middle;\n",
       "    }\n",
       "\n",
       "    .dataframe tbody tr th {\n",
       "        vertical-align: top;\n",
       "    }\n",
       "\n",
       "    .dataframe thead th {\n",
       "        text-align: right;\n",
       "    }\n",
       "</style>\n",
       "<table border=\"1\" class=\"dataframe\">\n",
       "  <thead>\n",
       "    <tr style=\"text-align: right;\">\n",
       "      <th></th>\n",
       "      <th>Année</th>\n",
       "      <th>Indicateur</th>\n",
       "      <th>Tranche horaire</th>\n",
       "      <th>Collège</th>\n",
       "      <th>Genre</th>\n",
       "      <th>Valeur</th>\n",
       "      <th>Unité</th>\n",
       "    </tr>\n",
       "  </thead>\n",
       "  <tbody>\n",
       "    <tr>\n",
       "      <th>2</th>\n",
       "      <td>2023</td>\n",
       "      <td>Salariés à temps partiel en décembre</td>\n",
       "      <td>Moins de 20 heures</td>\n",
       "      <td>Maitrise</td>\n",
       "      <td>Homme</td>\n",
       "      <td>32.0</td>\n",
       "      <td>Nombre</td>\n",
       "    </tr>\n",
       "    <tr>\n",
       "      <th>5</th>\n",
       "      <td>2023</td>\n",
       "      <td>Salariés à temps partiel en décembre</td>\n",
       "      <td>De 20 heures à moins de 30 heures</td>\n",
       "      <td>Cadre</td>\n",
       "      <td>Homme</td>\n",
       "      <td>54.0</td>\n",
       "      <td>Nombre</td>\n",
       "    </tr>\n",
       "    <tr>\n",
       "      <th>6</th>\n",
       "      <td>2023</td>\n",
       "      <td>Salariés à temps partiel en décembre</td>\n",
       "      <td>De 20 heures à moins de 30 heures</td>\n",
       "      <td>Maitrise</td>\n",
       "      <td>Femme</td>\n",
       "      <td>330.0</td>\n",
       "      <td>Nombre</td>\n",
       "    </tr>\n",
       "    <tr>\n",
       "      <th>13</th>\n",
       "      <td>2023</td>\n",
       "      <td>Salariés en réduction collective du temps de t...</td>\n",
       "      <td>NaN</td>\n",
       "      <td>Cadre</td>\n",
       "      <td>Femme</td>\n",
       "      <td>91.0</td>\n",
       "      <td>Nombre</td>\n",
       "    </tr>\n",
       "    <tr>\n",
       "      <th>14</th>\n",
       "      <td>2023</td>\n",
       "      <td>Salariés en réduction collective du temps de t...</td>\n",
       "      <td>NaN</td>\n",
       "      <td>Maitrise</td>\n",
       "      <td>Femme</td>\n",
       "      <td>632.0</td>\n",
       "      <td>Nombre</td>\n",
       "    </tr>\n",
       "    <tr>\n",
       "      <th>...</th>\n",
       "      <td>...</td>\n",
       "      <td>...</td>\n",
       "      <td>...</td>\n",
       "      <td>...</td>\n",
       "      <td>...</td>\n",
       "      <td>...</td>\n",
       "      <td>...</td>\n",
       "    </tr>\n",
       "    <tr>\n",
       "      <th>667</th>\n",
       "      <td>2017</td>\n",
       "      <td>Salariés en réduction collective du temps de t...</td>\n",
       "      <td>NaN</td>\n",
       "      <td>Maitrise</td>\n",
       "      <td>Homme</td>\n",
       "      <td>938.0</td>\n",
       "      <td>Nombre</td>\n",
       "    </tr>\n",
       "    <tr>\n",
       "      <th>676</th>\n",
       "      <td>2017</td>\n",
       "      <td>Salariés à temps partiel en décembre</td>\n",
       "      <td>De 20 heures à moins de 30 heures</td>\n",
       "      <td>Maitrise</td>\n",
       "      <td>Homme</td>\n",
       "      <td>77.0</td>\n",
       "      <td>Nombre</td>\n",
       "    </tr>\n",
       "    <tr>\n",
       "      <th>680</th>\n",
       "      <td>2017</td>\n",
       "      <td>Salariés à temps partiel en décembre</td>\n",
       "      <td>De 30 heures à moins de 35 heures</td>\n",
       "      <td>Maitrise</td>\n",
       "      <td>Homme</td>\n",
       "      <td>189.0</td>\n",
       "      <td>Nombre</td>\n",
       "    </tr>\n",
       "    <tr>\n",
       "      <th>682</th>\n",
       "      <td>2017</td>\n",
       "      <td>Salariés en réduction collective du temps de t...</td>\n",
       "      <td>NaN</td>\n",
       "      <td>Cadre</td>\n",
       "      <td>Homme</td>\n",
       "      <td>239.0</td>\n",
       "      <td>Nombre</td>\n",
       "    </tr>\n",
       "    <tr>\n",
       "      <th>683</th>\n",
       "      <td>2017</td>\n",
       "      <td>Salariés en réduction collective du temps de t...</td>\n",
       "      <td>NaN</td>\n",
       "      <td>Maitrise</td>\n",
       "      <td>Femme</td>\n",
       "      <td>1065.0</td>\n",
       "      <td>Nombre</td>\n",
       "    </tr>\n",
       "  </tbody>\n",
       "</table>\n",
       "<p>168 rows × 7 columns</p>\n",
       "</div>"
      ],
      "text/plain": [
       "     Année                                         Indicateur  \\\n",
       "2     2023               Salariés à temps partiel en décembre   \n",
       "5     2023               Salariés à temps partiel en décembre   \n",
       "6     2023               Salariés à temps partiel en décembre   \n",
       "13    2023  Salariés en réduction collective du temps de t...   \n",
       "14    2023  Salariés en réduction collective du temps de t...   \n",
       "..     ...                                                ...   \n",
       "667   2017  Salariés en réduction collective du temps de t...   \n",
       "676   2017               Salariés à temps partiel en décembre   \n",
       "680   2017               Salariés à temps partiel en décembre   \n",
       "682   2017  Salariés en réduction collective du temps de t...   \n",
       "683   2017  Salariés en réduction collective du temps de t...   \n",
       "\n",
       "                       Tranche horaire   Collège  Genre  Valeur   Unité  \n",
       "2                   Moins de 20 heures  Maitrise  Homme    32.0  Nombre  \n",
       "5    De 20 heures à moins de 30 heures     Cadre  Homme    54.0  Nombre  \n",
       "6    De 20 heures à moins de 30 heures  Maitrise  Femme   330.0  Nombre  \n",
       "13                                 NaN     Cadre  Femme    91.0  Nombre  \n",
       "14                                 NaN  Maitrise  Femme   632.0  Nombre  \n",
       "..                                 ...       ...    ...     ...     ...  \n",
       "667                                NaN  Maitrise  Homme   938.0  Nombre  \n",
       "676  De 20 heures à moins de 30 heures  Maitrise  Homme    77.0  Nombre  \n",
       "680  De 30 heures à moins de 35 heures  Maitrise  Homme   189.0  Nombre  \n",
       "682                                NaN     Cadre  Homme   239.0  Nombre  \n",
       "683                                NaN  Maitrise  Femme  1065.0  Nombre  \n",
       "\n",
       "[168 rows x 7 columns]"
      ]
     },
     "execution_count": 117,
     "metadata": {},
     "output_type": "execute_result"
    },
    {
     "name": "stderr",
     "output_type": "stream",
     "text": [
      "1:66: E251 unexpected spaces around keyword / parameter equals\n",
      "1:68: E251 unexpected spaces around keyword / parameter equals\n",
      "2:54: E225 missing whitespace around operator\n"
     ]
    },
    {
     "name": "stderr",
     "output_type": "stream",
     "text": [
      "4:8: E128 continuation line under-indented for visual indent\n",
      "5:8: E128 continuation line under-indented for visual indent\n",
      "6:8: E128 continuation line under-indented for visual indent\n",
      "7:8: E128 continuation line under-indented for visual indent\n"
     ]
    }
   ],
   "source": [
    "conditions = pd.read_csv(\"data/working_conditions.csv\", delimiter = \";\")\n",
    "conditions = conditions[conditions[\"Type de contrat\"]==\"Statutaires\"]\n",
    "drop = ['Perimètre juridique', 'Perimètre spatial',\n",
    "       'Spatial perimeter', 'Indicator', 'Type de contrat',\n",
    "       'Type of contract', 'Time range',\n",
    "       'Employee category', 'Gender', 'Unit',\n",
    "       'Chapitre du bilan social']\n",
    "conditions = conditions.drop(columns=drop)\n",
    "conditions"
   ]
  },
  {
   "cell_type": "code",
   "execution_count": 84,
   "metadata": {},
   "outputs": [
    {
     "data": {
      "text/html": [
       "<div>\n",
       "<style scoped>\n",
       "    .dataframe tbody tr th:only-of-type {\n",
       "        vertical-align: middle;\n",
       "    }\n",
       "\n",
       "    .dataframe tbody tr th {\n",
       "        vertical-align: top;\n",
       "    }\n",
       "\n",
       "    .dataframe thead th {\n",
       "        text-align: right;\n",
       "    }\n",
       "</style>\n",
       "<table border=\"1\" class=\"dataframe\">\n",
       "  <thead>\n",
       "    <tr style=\"text-align: right;\">\n",
       "      <th></th>\n",
       "      <th>Année</th>\n",
       "      <th>Collège</th>\n",
       "      <th>Salaire mensuel brut moyen (€)</th>\n",
       "    </tr>\n",
       "  </thead>\n",
       "  <tbody>\n",
       "    <tr>\n",
       "      <th>0</th>\n",
       "      <td>2017</td>\n",
       "      <td>Cadre</td>\n",
       "      <td>41549.0</td>\n",
       "    </tr>\n",
       "    <tr>\n",
       "      <th>1</th>\n",
       "      <td>2017</td>\n",
       "      <td>Execution</td>\n",
       "      <td>10345.0</td>\n",
       "    </tr>\n",
       "    <tr>\n",
       "      <th>2</th>\n",
       "      <td>2017</td>\n",
       "      <td>Maitrise</td>\n",
       "      <td>17210.0</td>\n",
       "    </tr>\n",
       "    <tr>\n",
       "      <th>3</th>\n",
       "      <td>2018</td>\n",
       "      <td>Cadre</td>\n",
       "      <td>41849.0</td>\n",
       "    </tr>\n",
       "    <tr>\n",
       "      <th>4</th>\n",
       "      <td>2018</td>\n",
       "      <td>Execution</td>\n",
       "      <td>10351.0</td>\n",
       "    </tr>\n",
       "    <tr>\n",
       "      <th>5</th>\n",
       "      <td>2018</td>\n",
       "      <td>Maitrise</td>\n",
       "      <td>17735.0</td>\n",
       "    </tr>\n",
       "    <tr>\n",
       "      <th>6</th>\n",
       "      <td>2019</td>\n",
       "      <td>Cadre</td>\n",
       "      <td>40688.0</td>\n",
       "    </tr>\n",
       "    <tr>\n",
       "      <th>7</th>\n",
       "      <td>2019</td>\n",
       "      <td>Execution</td>\n",
       "      <td>11302.0</td>\n",
       "    </tr>\n",
       "    <tr>\n",
       "      <th>8</th>\n",
       "      <td>2019</td>\n",
       "      <td>Maitrise</td>\n",
       "      <td>17586.0</td>\n",
       "    </tr>\n",
       "    <tr>\n",
       "      <th>9</th>\n",
       "      <td>2020</td>\n",
       "      <td>Cadre</td>\n",
       "      <td>39837.0</td>\n",
       "    </tr>\n",
       "    <tr>\n",
       "      <th>10</th>\n",
       "      <td>2020</td>\n",
       "      <td>Execution</td>\n",
       "      <td>14189.0</td>\n",
       "    </tr>\n",
       "    <tr>\n",
       "      <th>11</th>\n",
       "      <td>2020</td>\n",
       "      <td>Maitrise</td>\n",
       "      <td>17373.0</td>\n",
       "    </tr>\n",
       "    <tr>\n",
       "      <th>12</th>\n",
       "      <td>2021</td>\n",
       "      <td>Cadre</td>\n",
       "      <td>40059.0</td>\n",
       "    </tr>\n",
       "    <tr>\n",
       "      <th>13</th>\n",
       "      <td>2021</td>\n",
       "      <td>Execution</td>\n",
       "      <td>15316.0</td>\n",
       "    </tr>\n",
       "    <tr>\n",
       "      <th>14</th>\n",
       "      <td>2021</td>\n",
       "      <td>Maitrise</td>\n",
       "      <td>17695.0</td>\n",
       "    </tr>\n",
       "    <tr>\n",
       "      <th>15</th>\n",
       "      <td>2022</td>\n",
       "      <td>Cadre</td>\n",
       "      <td>42112.0</td>\n",
       "    </tr>\n",
       "    <tr>\n",
       "      <th>16</th>\n",
       "      <td>2022</td>\n",
       "      <td>Execution</td>\n",
       "      <td>8888.0</td>\n",
       "    </tr>\n",
       "    <tr>\n",
       "      <th>17</th>\n",
       "      <td>2022</td>\n",
       "      <td>Maitrise</td>\n",
       "      <td>18425.0</td>\n",
       "    </tr>\n",
       "    <tr>\n",
       "      <th>18</th>\n",
       "      <td>2023</td>\n",
       "      <td>Cadre</td>\n",
       "      <td>42408.0</td>\n",
       "    </tr>\n",
       "    <tr>\n",
       "      <th>19</th>\n",
       "      <td>2023</td>\n",
       "      <td>Execution</td>\n",
       "      <td>9633.0</td>\n",
       "    </tr>\n",
       "    <tr>\n",
       "      <th>20</th>\n",
       "      <td>2023</td>\n",
       "      <td>Maitrise</td>\n",
       "      <td>19903.0</td>\n",
       "    </tr>\n",
       "  </tbody>\n",
       "</table>\n",
       "</div>"
      ],
      "text/plain": [
       "    Année    Collège  Salaire mensuel brut moyen (€)\n",
       "0    2017      Cadre                         41549.0\n",
       "1    2017  Execution                         10345.0\n",
       "2    2017   Maitrise                         17210.0\n",
       "3    2018      Cadre                         41849.0\n",
       "4    2018  Execution                         10351.0\n",
       "5    2018   Maitrise                         17735.0\n",
       "6    2019      Cadre                         40688.0\n",
       "7    2019  Execution                         11302.0\n",
       "8    2019   Maitrise                         17586.0\n",
       "9    2020      Cadre                         39837.0\n",
       "10   2020  Execution                         14189.0\n",
       "11   2020   Maitrise                         17373.0\n",
       "12   2021      Cadre                         40059.0\n",
       "13   2021  Execution                         15316.0\n",
       "14   2021   Maitrise                         17695.0\n",
       "15   2022      Cadre                         42112.0\n",
       "16   2022  Execution                          8888.0\n",
       "17   2022   Maitrise                         18425.0\n",
       "18   2023      Cadre                         42408.0\n",
       "19   2023  Execution                          9633.0\n",
       "20   2023   Maitrise                         19903.0"
      ]
     },
     "execution_count": 84,
     "metadata": {},
     "output_type": "execute_result"
    }
   ],
   "source": [
    "salaire = pd.read_csv(\"data/promotion.csv\", delimiter=\";\")\n",
    "salaire = salaire[salaire[\"Indicateur\"]==\"Rémunération mensuelle moyenne brute\"]\n",
    "drop = ['Perimètre juridique', 'Perimètre spatial',\n",
    "       'Spatial perimeter', 'Indicator',\n",
    "       'Type of contract', 'Employee category', 'Plage M3E',\n",
    "       'M3E classification', 'Gender', 'Unit',\n",
    "       'Chapitre du bilan social', 'Type de contrat', 'Genre']\n",
    "salaire = salaire.drop(columns=drop)\n",
    "salaire = salaire.groupby([\"Année\", \"Collège\", \"Indicateur\", \"Unité\"]).sum().reset_index()\n",
    "salaire = salaire.rename(columns={'Valeur': 'Salaire mensuel brut moyen (€)'})\n",
    "salaire = salaire.drop(columns=['Indicateur', 'Unité'])\n",
    "salaire"
   ]
  },
  {
   "cell_type": "markdown",
   "metadata": {},
   "source": [
    "#### 4) Focus sur les salariés non-statuaires ####"
   ]
  },
  {
   "cell_type": "markdown",
   "metadata": {},
   "source": [
    "https://ufpi.reference-syndicale.fr/2017/06/stop-aux-cdi-non-statutaires-a-tous-les-etages/"
   ]
  },
  {
   "cell_type": "markdown",
   "metadata": {},
   "source": [
    "un grqphiaue qvec deux courbes et une liste de choix en fonction"
   ]
  },
  {
   "cell_type": "code",
   "execution_count": 104,
   "metadata": {},
   "outputs": [
    {
     "data": {
      "text/html": [
       "<div>\n",
       "<style scoped>\n",
       "    .dataframe tbody tr th:only-of-type {\n",
       "        vertical-align: middle;\n",
       "    }\n",
       "\n",
       "    .dataframe tbody tr th {\n",
       "        vertical-align: top;\n",
       "    }\n",
       "\n",
       "    .dataframe thead th {\n",
       "        text-align: right;\n",
       "    }\n",
       "</style>\n",
       "<table border=\"1\" class=\"dataframe\">\n",
       "  <thead>\n",
       "    <tr style=\"text-align: right;\">\n",
       "      <th></th>\n",
       "      <th>Année</th>\n",
       "      <th>Indicateur</th>\n",
       "      <th>Collège</th>\n",
       "      <th>Valeur</th>\n",
       "      <th>Unité</th>\n",
       "    </tr>\n",
       "  </thead>\n",
       "  <tbody>\n",
       "    <tr>\n",
       "      <th>0</th>\n",
       "      <td>2023</td>\n",
       "      <td>Stagiaires scolaires</td>\n",
       "      <td>Maîtrise</td>\n",
       "      <td>492.0</td>\n",
       "      <td>nombre</td>\n",
       "    </tr>\n",
       "    <tr>\n",
       "      <th>1</th>\n",
       "      <td>2023</td>\n",
       "      <td>Salariés détachés en mobilité à l'international</td>\n",
       "      <td>NaN</td>\n",
       "      <td>23.0</td>\n",
       "      <td>nombre</td>\n",
       "    </tr>\n",
       "    <tr>\n",
       "      <th>2</th>\n",
       "      <td>2023</td>\n",
       "      <td>Salariés détachés accueillis</td>\n",
       "      <td>NaN</td>\n",
       "      <td>1544.0</td>\n",
       "      <td>nombre</td>\n",
       "    </tr>\n",
       "    <tr>\n",
       "      <th>3</th>\n",
       "      <td>2023</td>\n",
       "      <td>Salariés détachés accueillis</td>\n",
       "      <td>NaN</td>\n",
       "      <td>44.0</td>\n",
       "      <td>nombre</td>\n",
       "    </tr>\n",
       "    <tr>\n",
       "      <th>4</th>\n",
       "      <td>2023</td>\n",
       "      <td>Stagiaires scolaires</td>\n",
       "      <td>Cadre</td>\n",
       "      <td>6.0</td>\n",
       "      <td>nombre</td>\n",
       "    </tr>\n",
       "    <tr>\n",
       "      <th>...</th>\n",
       "      <td>...</td>\n",
       "      <td>...</td>\n",
       "      <td>...</td>\n",
       "      <td>...</td>\n",
       "      <td>...</td>\n",
       "    </tr>\n",
       "    <tr>\n",
       "      <th>86</th>\n",
       "      <td>2017</td>\n",
       "      <td>Salariés détachés accueillis</td>\n",
       "      <td>NaN</td>\n",
       "      <td>801.0</td>\n",
       "      <td>nombre</td>\n",
       "    </tr>\n",
       "    <tr>\n",
       "      <th>87</th>\n",
       "      <td>2017</td>\n",
       "      <td>Salariés détachés accueillis</td>\n",
       "      <td>NaN</td>\n",
       "      <td>18.0</td>\n",
       "      <td>nombre</td>\n",
       "    </tr>\n",
       "    <tr>\n",
       "      <th>88</th>\n",
       "      <td>2017</td>\n",
       "      <td>Stagiaires scolaires</td>\n",
       "      <td>Cadre</td>\n",
       "      <td>3.0</td>\n",
       "      <td>nombre</td>\n",
       "    </tr>\n",
       "    <tr>\n",
       "      <th>89</th>\n",
       "      <td>2017</td>\n",
       "      <td>Stagiaires scolaires</td>\n",
       "      <td>Exécution</td>\n",
       "      <td>148.0</td>\n",
       "      <td>nombre</td>\n",
       "    </tr>\n",
       "    <tr>\n",
       "      <th>90</th>\n",
       "      <td>2017</td>\n",
       "      <td>Salariés détachés en mobilité à l'international</td>\n",
       "      <td>NaN</td>\n",
       "      <td>22.0</td>\n",
       "      <td>nombre</td>\n",
       "    </tr>\n",
       "  </tbody>\n",
       "</table>\n",
       "<p>91 rows × 5 columns</p>\n",
       "</div>"
      ],
      "text/plain": [
       "    Année                                       Indicateur    Collège  Valeur  \\\n",
       "0    2023                             Stagiaires scolaires   Maîtrise   492.0   \n",
       "1    2023  Salariés détachés en mobilité à l'international        NaN    23.0   \n",
       "2    2023                     Salariés détachés accueillis        NaN  1544.0   \n",
       "3    2023                     Salariés détachés accueillis        NaN    44.0   \n",
       "4    2023                             Stagiaires scolaires      Cadre     6.0   \n",
       "..    ...                                              ...        ...     ...   \n",
       "86   2017                     Salariés détachés accueillis        NaN   801.0   \n",
       "87   2017                     Salariés détachés accueillis        NaN    18.0   \n",
       "88   2017                             Stagiaires scolaires      Cadre     3.0   \n",
       "89   2017                             Stagiaires scolaires  Exécution   148.0   \n",
       "90   2017  Salariés détachés en mobilité à l'international        NaN    22.0   \n",
       "\n",
       "     Unité  \n",
       "0   nombre  \n",
       "1   nombre  \n",
       "2   nombre  \n",
       "3   nombre  \n",
       "4   nombre  \n",
       "..     ...  \n",
       "86  nombre  \n",
       "87  nombre  \n",
       "88  nombre  \n",
       "89  nombre  \n",
       "90  nombre  \n",
       "\n",
       "[91 rows x 5 columns]"
      ]
     },
     "execution_count": 104,
     "metadata": {},
     "output_type": "execute_result"
    },
    {
     "name": "stderr",
     "output_type": "stream",
     "text": [
      "3:8: E128 continuation line under-indented for visual indent\n",
      "3:61: E231 missing whitespace after ','\n",
      "4:8: E128 continuation line under-indented for visual indent\n"
     ]
    }
   ],
   "source": [
    "salaire = pd.read_csv(\"data/promotion.csv\", delimiter=\";\")\n",
    "drop = ['Perimètre juridique', 'Perimètre spatial',\n",
    "       'Spatial perimeter', 'Indicator',\n",
    "       'Type of contract', 'Employee category', 'Plage M3E',\n",
    "       'M3E classification', 'Gender', 'Unit',\n",
    "       'Chapitre du bilan social', 'Type de contrat', 'Genre']\n",
    "salaire = salaire.drop(columns=drop)\n",
    "salaire = salaire.groupby([\"Année\", \"Collège\", \"Indicateur\", \"Unité\"]).sum().reset_index()\n",
    "salaire"
   ]
  },
  {
   "cell_type": "code",
   "execution_count": 118,
   "metadata": {},
   "outputs": [
    {
     "data": {
      "text/html": [
       "<div>\n",
       "<style scoped>\n",
       "    .dataframe tbody tr th:only-of-type {\n",
       "        vertical-align: middle;\n",
       "    }\n",
       "\n",
       "    .dataframe tbody tr th {\n",
       "        vertical-align: top;\n",
       "    }\n",
       "\n",
       "    .dataframe thead th {\n",
       "        text-align: right;\n",
       "    }\n",
       "</style>\n",
       "<table border=\"1\" class=\"dataframe\">\n",
       "  <thead>\n",
       "    <tr style=\"text-align: right;\">\n",
       "      <th></th>\n",
       "      <th>Année</th>\n",
       "      <th>Collège</th>\n",
       "      <th>Indicateur</th>\n",
       "      <th>Unité</th>\n",
       "      <th>Valeur</th>\n",
       "    </tr>\n",
       "  </thead>\n",
       "  <tbody>\n",
       "    <tr>\n",
       "      <th>0</th>\n",
       "      <td>2017</td>\n",
       "      <td>Cadre</td>\n",
       "      <td>Absence pour congé de maternité ou d'adoption</td>\n",
       "      <td>heures</td>\n",
       "      <td>345432.0</td>\n",
       "    </tr>\n",
       "    <tr>\n",
       "      <th>1</th>\n",
       "      <td>2017</td>\n",
       "      <td>Cadre</td>\n",
       "      <td>Absence pour congé de paternité et d'accueil d...</td>\n",
       "      <td>heures</td>\n",
       "      <td>59396.0</td>\n",
       "    </tr>\n",
       "    <tr>\n",
       "      <th>2</th>\n",
       "      <td>2017</td>\n",
       "      <td>Cadre</td>\n",
       "      <td>Absence pour congés autorisés</td>\n",
       "      <td>heures</td>\n",
       "      <td>328844.0</td>\n",
       "    </tr>\n",
       "    <tr>\n",
       "      <th>3</th>\n",
       "      <td>2017</td>\n",
       "      <td>Cadre</td>\n",
       "      <td>Absence pour maladie</td>\n",
       "      <td>heures</td>\n",
       "      <td>1095570.0</td>\n",
       "    </tr>\n",
       "    <tr>\n",
       "      <th>4</th>\n",
       "      <td>2017</td>\n",
       "      <td>Exécution</td>\n",
       "      <td>Absence pour congé de maternité ou d'adoption</td>\n",
       "      <td>heures</td>\n",
       "      <td>106915.0</td>\n",
       "    </tr>\n",
       "    <tr>\n",
       "      <th>...</th>\n",
       "      <td>...</td>\n",
       "      <td>...</td>\n",
       "      <td>...</td>\n",
       "      <td>...</td>\n",
       "      <td>...</td>\n",
       "    </tr>\n",
       "    <tr>\n",
       "      <th>79</th>\n",
       "      <td>2023</td>\n",
       "      <td>Exécution</td>\n",
       "      <td>Absence pour maladie</td>\n",
       "      <td>heures</td>\n",
       "      <td>395846.0</td>\n",
       "    </tr>\n",
       "    <tr>\n",
       "      <th>80</th>\n",
       "      <td>2023</td>\n",
       "      <td>Maîtrise</td>\n",
       "      <td>Absence pour congé de maternité ou d'adoption</td>\n",
       "      <td>heures</td>\n",
       "      <td>159668.0</td>\n",
       "    </tr>\n",
       "    <tr>\n",
       "      <th>81</th>\n",
       "      <td>2023</td>\n",
       "      <td>Maîtrise</td>\n",
       "      <td>Absence pour congé de paternité et d'accueil d...</td>\n",
       "      <td>heures</td>\n",
       "      <td>122928.0</td>\n",
       "    </tr>\n",
       "    <tr>\n",
       "      <th>82</th>\n",
       "      <td>2023</td>\n",
       "      <td>Maîtrise</td>\n",
       "      <td>Absence pour congés autorisés</td>\n",
       "      <td>heures</td>\n",
       "      <td>278074.0</td>\n",
       "    </tr>\n",
       "    <tr>\n",
       "      <th>83</th>\n",
       "      <td>2023</td>\n",
       "      <td>Maîtrise</td>\n",
       "      <td>Absence pour maladie</td>\n",
       "      <td>heures</td>\n",
       "      <td>1968487.0</td>\n",
       "    </tr>\n",
       "  </tbody>\n",
       "</table>\n",
       "<p>84 rows × 5 columns</p>\n",
       "</div>"
      ],
      "text/plain": [
       "    Année    Collège                                         Indicateur  \\\n",
       "0    2017      Cadre      Absence pour congé de maternité ou d'adoption   \n",
       "1    2017      Cadre  Absence pour congé de paternité et d'accueil d...   \n",
       "2    2017      Cadre                      Absence pour congés autorisés   \n",
       "3    2017      Cadre                               Absence pour maladie   \n",
       "4    2017  Exécution      Absence pour congé de maternité ou d'adoption   \n",
       "..    ...        ...                                                ...   \n",
       "79   2023  Exécution                               Absence pour maladie   \n",
       "80   2023   Maîtrise      Absence pour congé de maternité ou d'adoption   \n",
       "81   2023   Maîtrise  Absence pour congé de paternité et d'accueil d...   \n",
       "82   2023   Maîtrise                      Absence pour congés autorisés   \n",
       "83   2023   Maîtrise                               Absence pour maladie   \n",
       "\n",
       "     Unité     Valeur  \n",
       "0   heures   345432.0  \n",
       "1   heures    59396.0  \n",
       "2   heures   328844.0  \n",
       "3   heures  1095570.0  \n",
       "4   heures   106915.0  \n",
       "..     ...        ...  \n",
       "79  heures   395846.0  \n",
       "80  heures   159668.0  \n",
       "81  heures   122928.0  \n",
       "82  heures   278074.0  \n",
       "83  heures  1968487.0  \n",
       "\n",
       "[84 rows x 5 columns]"
      ]
     },
     "execution_count": 118,
     "metadata": {},
     "output_type": "execute_result"
    },
    {
     "name": "stderr",
     "output_type": "stream",
     "text": [
      "3:8: E128 continuation line under-indented for visual indent\n",
      "4:8: E128 continuation line under-indented for visual indent\n",
      "5:8: E128 continuation line under-indented for visual indent\n",
      "7:80: E501 line too long (100 > 79 characters)\n"
     ]
    }
   ],
   "source": [
    "absence_full = pd.read_csv(\"data/absences.csv\", delimiter=\";\")\n",
    "drop = ['Perimètre juridique', 'Perimètre spatial',\n",
    "       'Spatial perimeter', 'Indicator',\n",
    "       'Type of contract', 'Employee category', 'Gender',\n",
    "       'Unit', 'Type de contrat', 'Chapitre du bilan social', 'Genre']\n",
    "absence_full = absence_full.drop(columns=drop)\n",
    "absence_full = absence_full.groupby([\"Année\", \"Collège\", \"Indicateur\", \"Unité\"]).sum().reset_index()\n",
    "absence_full"
   ]
  }
 ],
 "metadata": {
  "kernelspec": {
   "display_name": "Python 3",
   "language": "python",
   "name": "python3"
  },
  "language_info": {
   "codemirror_mode": {
    "name": "ipython",
    "version": 3
   },
   "file_extension": ".py",
   "mimetype": "text/x-python",
   "name": "python",
   "nbconvert_exporter": "python",
   "pygments_lexer": "ipython3",
   "version": "3.9.6"
  }
 },
 "nbformat": 4,
 "nbformat_minor": 2
}
