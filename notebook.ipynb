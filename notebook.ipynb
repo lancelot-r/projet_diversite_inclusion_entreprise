{
 "cells": [
  {
   "cell_type": "code",
   "execution_count": 30,
   "metadata": {},
   "outputs": [
    {
     "data": {
      "text/plain": [
       "Année  Genre\n",
       "2017   Femme    35749.0\n",
       "       Homme    82252.0\n",
       "2018   Femme    36136.0\n",
       "       Homme    79212.0\n",
       "2019   Femme    30821.0\n",
       "       Homme    76561.0\n",
       "2020   Femme    23990.0\n",
       "       Homme    65162.0\n",
       "2021   Femme    27316.0\n",
       "       Homme    71959.0\n",
       "2022   Femme    26559.0\n",
       "       Homme    72725.0\n",
       "2023   Femme    27094.0\n",
       "       Homme    75578.0\n",
       "Name: Valeur, dtype: float64"
      ]
     },
     "execution_count": 30,
     "metadata": {},
     "output_type": "execute_result"
    }
   ],
   "source": [
    "import pandas as pd\n",
    "effectifs = pd.read_csv(\"data/for.csv\", delimiter = \";\")\n",
    "effectifs = effectifs[effectifs[\"Indicateur\"] == \"Salariés ayant suivi au moins un stage\"]\n",
    "effectifs = effectifs.groupby([\"Année\", \"Genre\"])[\"Valeur\"].sum()\n",
    "effectifs"
   ]
  },
  {
   "cell_type": "code",
   "execution_count": 2,
   "metadata": {},
   "outputs": [],
   "source": [
    "import pandas as pd"
   ]
  },
  {
   "cell_type": "code",
   "execution_count": 13,
   "metadata": {},
   "outputs": [
    {
     "data": {
      "text/plain": [
       "Année\n",
       "2017    0.077456\n",
       "2018    0.079753\n",
       "2019    0.087486\n",
       "2020    0.091947\n",
       "2021    0.126874\n",
       "2022    0.177647\n",
       "2023    0.197556\n",
       "Name: Ecart en pourcentage du temps d'absence pour congé maternité/paternité, dtype: float64"
      ]
     },
     "execution_count": 13,
     "metadata": {},
     "output_type": "execute_result"
    }
   ],
   "source": [
    "gens = pd.read_csv(\"data/absence_conge_matpat.csv\")\n",
    "gens = gens.groupby([\"Année\"])[\"Ecart en pourcentage du temps d'absence pour congé maternité/paternité\"].mean()\n",
    "gens"
   ]
  }
 ],
 "metadata": {
  "kernelspec": {
   "display_name": "python_env",
   "language": "python",
   "name": "python3"
  },
  "language_info": {
   "codemirror_mode": {
    "name": "ipython",
    "version": 3
   },
   "file_extension": ".py",
   "mimetype": "text/x-python",
   "name": "python",
   "nbconvert_exporter": "python",
   "pygments_lexer": "ipython3",
   "version": "3.13.1"
  }
 },
 "nbformat": 4,
 "nbformat_minor": 2
}
