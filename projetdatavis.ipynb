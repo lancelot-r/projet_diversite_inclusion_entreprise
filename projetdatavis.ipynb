{
 "cells": [
  {
   "cell_type": "code",
   "execution_count": 84,
   "metadata": {},
   "outputs": [],
   "source": [
    "#%load_ext pycodestyle_magic\n",
    "#%pycodestyle_on"
   ]
  },
  {
   "cell_type": "code",
   "execution_count": 85,
   "metadata": {},
   "outputs": [],
   "source": [
    "import seaborn as sns\n",
    "import numpy as np\n",
    "import pandas as pd\n",
    "import matplotlib.pyplot as plt\n",
    "import plotly.express as px\n",
    "import plotly.graph_objects as go\n",
    "from plotly.subplots import make_subplots"
   ]
  },
  {
   "cell_type": "code",
   "execution_count": 86,
   "metadata": {},
   "outputs": [],
   "source": [
    "salaire = pd.read_csv(\"data/promotion.csv\", delimiter=\";\")\n",
    "formation = pd.read_csv(\"data/formation.csv\", delimiter = \";\")\n",
    "absence = pd.read_csv(\"data/absences.csv\", delimiter=\";\")\n",
    "effectif = pd.read_csv(\"data/effectifs.csv\", delimiter=\";\")\n",
    "autrescdt = pd.read_csv(\"data/working_conditions.csv\", delimiter=\";\")"
   ]
  },
  {
   "cell_type": "code",
   "execution_count": 87,
   "metadata": {},
   "outputs": [],
   "source": [
    "effectif_age= effectif.dropna(subset=[\"Tranche d'âge\"], how=\"any\")"
   ]
  },
  {
   "cell_type": "code",
   "execution_count": 88,
   "metadata": {},
   "outputs": [
    {
     "name": "stdout",
     "output_type": "stream",
     "text": [
      "Index(['Année', 'Perimètre juridique', 'Perimètre spatial',\n",
      "       'Spatial perimeter', 'Indicateur', 'Indicator', 'Type de contrat',\n",
      "       'Type of contract', 'Collège', 'Employee category',\n",
      "       'Sous-catégorie collège', 'Employee subcategory', 'Genre', 'Gender',\n",
      "       'Plage M3E', 'M3E classification', 'Nationalité', 'Nationality',\n",
      "       'Ancienneté', 'Seniority', 'Tranche d'âge', 'Age bracket', 'Valeur',\n",
      "       'Unité', 'Unit', 'Chapitre du bilan social'],\n",
      "      dtype='object')\n"
     ]
    }
   ],
   "source": [
    "print(effectif_age.columns)"
   ]
  },
  {
   "cell_type": "code",
   "execution_count": 89,
   "metadata": {},
   "outputs": [
    {
     "name": "stderr",
     "output_type": "stream",
     "text": [
      "C:\\Users\\martc\\AppData\\Local\\Temp\\ipykernel_14144\\1107665257.py:1: SettingWithCopyWarning: \n",
      "A value is trying to be set on a copy of a slice from a DataFrame.\n",
      "Try using .loc[row_indexer,col_indexer] = value instead\n",
      "\n",
      "See the caveats in the documentation: https://pandas.pydata.org/pandas-docs/stable/user_guide/indexing.html#returning-a-view-versus-a-copy\n",
      "  effectif_age[\"Tranche d\\'âge\"]=effectif_age[\"Tranche d\\'âge\"].str.replace(\"61 ans et plus\",\"De 61 ans à plus\")\n",
      "C:\\Users\\martc\\AppData\\Local\\Temp\\ipykernel_14144\\1107665257.py:2: SettingWithCopyWarning: \n",
      "A value is trying to be set on a copy of a slice from a DataFrame.\n",
      "Try using .loc[row_indexer,col_indexer] = value instead\n",
      "\n",
      "See the caveats in the documentation: https://pandas.pydata.org/pandas-docs/stable/user_guide/indexing.html#returning-a-view-versus-a-copy\n",
      "  effectif_age[\"Tranche d\\'âge\"]=effectif_age[\"Tranche d\\'âge\"].str.replace(\"Moins de 25 ans\",\"De 16 à 25 ans\")\n"
     ]
    }
   ],
   "source": [
    "effectif_age[\"Tranche d\\'âge\"]=effectif_age[\"Tranche d\\'âge\"].str.replace(\"61 ans et plus\",\"De 61 ans à plus\")\n",
    "effectif_age[\"Tranche d\\'âge\"]=effectif_age[\"Tranche d\\'âge\"].str.replace(\"Moins de 25 ans\",\"De 16 à 25 ans\")"
   ]
  },
  {
   "cell_type": "code",
   "execution_count": 90,
   "metadata": {},
   "outputs": [],
   "source": [
    "pd.set_option('display.max_rows', None)\n",
    "pd.set_option('display.max_columns', None)\n",
    "effectif_age=effectif_age[effectif_age[\"Type de contrat\"] == \"Statutaires\"]\n",
    "effectif_age=effectif_age.drop(columns= ['Perimètre juridique', 'Perimètre spatial',\n",
    "                                  'Spatial perimeter', 'Indicator', 'Type of contract',\n",
    "                                  'Employee category',\n",
    "                                  'Nationality', 'Seniority', 'Employee subcategory',\n",
    "                                  'M3E classification', \"Plage M3E\", \"Ancienneté\",\n",
    "                                  \"Unité\", \"Chapitre du bilan social\"\n",
    "                                 ])\n",
    "effectif_age=effectif_age[effectif_age[\"Indicateur\"] == \"Effectif\"]\n",
    "effectif_age=effectif_age.rename(columns={\"Valeur\":\"Nombre de salariés\"})\n",
    "effectif_age=effectif_age.groupby(['Année', 'Collège', 'Genre'])[\"Nombre de salariés\"].sum().reset_index()\n"
   ]
  },
  {
   "cell_type": "code",
   "execution_count": 91,
   "metadata": {},
   "outputs": [
    {
     "data": {
      "text/html": [
       "<div>\n",
       "<style scoped>\n",
       "    .dataframe tbody tr th:only-of-type {\n",
       "        vertical-align: middle;\n",
       "    }\n",
       "\n",
       "    .dataframe tbody tr th {\n",
       "        vertical-align: top;\n",
       "    }\n",
       "\n",
       "    .dataframe thead th {\n",
       "        text-align: right;\n",
       "    }\n",
       "</style>\n",
       "<table border=\"1\" class=\"dataframe\">\n",
       "  <thead>\n",
       "    <tr style=\"text-align: right;\">\n",
       "      <th></th>\n",
       "      <th>Année</th>\n",
       "      <th>Collège</th>\n",
       "      <th>Genre</th>\n",
       "      <th>Nombre de salariés</th>\n",
       "    </tr>\n",
       "  </thead>\n",
       "  <tbody>\n",
       "    <tr>\n",
       "      <th>0</th>\n",
       "      <td>2017</td>\n",
       "      <td>Cadre</td>\n",
       "      <td>Femme</td>\n",
       "      <td>8406.0</td>\n",
       "    </tr>\n",
       "    <tr>\n",
       "      <th>1</th>\n",
       "      <td>2017</td>\n",
       "      <td>Cadre</td>\n",
       "      <td>Homme</td>\n",
       "      <td>20462.0</td>\n",
       "    </tr>\n",
       "    <tr>\n",
       "      <th>2</th>\n",
       "      <td>2017</td>\n",
       "      <td>Exécution</td>\n",
       "      <td>Femme</td>\n",
       "      <td>1822.0</td>\n",
       "    </tr>\n",
       "    <tr>\n",
       "      <th>3</th>\n",
       "      <td>2017</td>\n",
       "      <td>Exécution</td>\n",
       "      <td>Homme</td>\n",
       "      <td>2811.0</td>\n",
       "    </tr>\n",
       "    <tr>\n",
       "      <th>4</th>\n",
       "      <td>2017</td>\n",
       "      <td>Maîtrise</td>\n",
       "      <td>Femme</td>\n",
       "      <td>8444.0</td>\n",
       "    </tr>\n",
       "    <tr>\n",
       "      <th>5</th>\n",
       "      <td>2017</td>\n",
       "      <td>Maîtrise</td>\n",
       "      <td>Homme</td>\n",
       "      <td>20294.0</td>\n",
       "    </tr>\n",
       "    <tr>\n",
       "      <th>6</th>\n",
       "      <td>2018</td>\n",
       "      <td>Cadre</td>\n",
       "      <td>Femme</td>\n",
       "      <td>8419.0</td>\n",
       "    </tr>\n",
       "    <tr>\n",
       "      <th>7</th>\n",
       "      <td>2018</td>\n",
       "      <td>Cadre</td>\n",
       "      <td>Homme</td>\n",
       "      <td>20166.0</td>\n",
       "    </tr>\n",
       "    <tr>\n",
       "      <th>8</th>\n",
       "      <td>2018</td>\n",
       "      <td>Exécution</td>\n",
       "      <td>Femme</td>\n",
       "      <td>1630.0</td>\n",
       "    </tr>\n",
       "    <tr>\n",
       "      <th>9</th>\n",
       "      <td>2018</td>\n",
       "      <td>Exécution</td>\n",
       "      <td>Homme</td>\n",
       "      <td>2657.0</td>\n",
       "    </tr>\n",
       "  </tbody>\n",
       "</table>\n",
       "</div>"
      ],
      "text/plain": [
       "   Année    Collège  Genre  Nombre de salariés\n",
       "0   2017      Cadre  Femme              8406.0\n",
       "1   2017      Cadre  Homme             20462.0\n",
       "2   2017  Exécution  Femme              1822.0\n",
       "3   2017  Exécution  Homme              2811.0\n",
       "4   2017   Maîtrise  Femme              8444.0\n",
       "5   2017   Maîtrise  Homme             20294.0\n",
       "6   2018      Cadre  Femme              8419.0\n",
       "7   2018      Cadre  Homme             20166.0\n",
       "8   2018  Exécution  Femme              1630.0\n",
       "9   2018  Exécution  Homme              2657.0"
      ]
     },
     "execution_count": 91,
     "metadata": {},
     "output_type": "execute_result"
    }
   ],
   "source": [
    "effectif_age.head(10)"
   ]
  },
  {
   "cell_type": "code",
   "execution_count": 92,
   "metadata": {},
   "outputs": [],
   "source": [
    "effectif_age_f=effectif_age[effectif_age[\"Genre\"] == \"Femme\"]\n",
    "effectif_age_h=effectif_age[effectif_age[\"Genre\"] == \"Homme\"]\n",
    "effectif_total = pd.merge(effectif_age_f, effectif_age_h, on=['Année', 'Collège'], how='inner')\n",
    "effectif_total.head(10)\n",
    "effectif_total[\"proportion de femmes\"]=effectif_total[\"Nombre de salariés_x\"]/(effectif_total[\"Nombre de salariés_x\"]+effectif_total[\"Nombre de salariés_y\"])"
   ]
  },
  {
   "cell_type": "code",
   "execution_count": 93,
   "metadata": {},
   "outputs": [
    {
     "data": {
      "text/html": [
       "<div>\n",
       "<style scoped>\n",
       "    .dataframe tbody tr th:only-of-type {\n",
       "        vertical-align: middle;\n",
       "    }\n",
       "\n",
       "    .dataframe tbody tr th {\n",
       "        vertical-align: top;\n",
       "    }\n",
       "\n",
       "    .dataframe thead th {\n",
       "        text-align: right;\n",
       "    }\n",
       "</style>\n",
       "<table border=\"1\" class=\"dataframe\">\n",
       "  <thead>\n",
       "    <tr style=\"text-align: right;\">\n",
       "      <th></th>\n",
       "      <th>Année</th>\n",
       "      <th>Collège</th>\n",
       "      <th>Genre_x</th>\n",
       "      <th>Nombre de salariés_x</th>\n",
       "      <th>Genre_y</th>\n",
       "      <th>Nombre de salariés_y</th>\n",
       "      <th>proportion de femmes</th>\n",
       "    </tr>\n",
       "  </thead>\n",
       "  <tbody>\n",
       "    <tr>\n",
       "      <th>0</th>\n",
       "      <td>2017</td>\n",
       "      <td>Cadre</td>\n",
       "      <td>Femme</td>\n",
       "      <td>8406.0</td>\n",
       "      <td>Homme</td>\n",
       "      <td>20462.0</td>\n",
       "      <td>0.291187</td>\n",
       "    </tr>\n",
       "    <tr>\n",
       "      <th>1</th>\n",
       "      <td>2017</td>\n",
       "      <td>Exécution</td>\n",
       "      <td>Femme</td>\n",
       "      <td>1822.0</td>\n",
       "      <td>Homme</td>\n",
       "      <td>2811.0</td>\n",
       "      <td>0.393266</td>\n",
       "    </tr>\n",
       "    <tr>\n",
       "      <th>2</th>\n",
       "      <td>2017</td>\n",
       "      <td>Maîtrise</td>\n",
       "      <td>Femme</td>\n",
       "      <td>8444.0</td>\n",
       "      <td>Homme</td>\n",
       "      <td>20294.0</td>\n",
       "      <td>0.293827</td>\n",
       "    </tr>\n",
       "    <tr>\n",
       "      <th>3</th>\n",
       "      <td>2018</td>\n",
       "      <td>Cadre</td>\n",
       "      <td>Femme</td>\n",
       "      <td>8419.0</td>\n",
       "      <td>Homme</td>\n",
       "      <td>20166.0</td>\n",
       "      <td>0.294525</td>\n",
       "    </tr>\n",
       "    <tr>\n",
       "      <th>4</th>\n",
       "      <td>2018</td>\n",
       "      <td>Exécution</td>\n",
       "      <td>Femme</td>\n",
       "      <td>1630.0</td>\n",
       "      <td>Homme</td>\n",
       "      <td>2657.0</td>\n",
       "      <td>0.380219</td>\n",
       "    </tr>\n",
       "    <tr>\n",
       "      <th>5</th>\n",
       "      <td>2018</td>\n",
       "      <td>Maîtrise</td>\n",
       "      <td>Femme</td>\n",
       "      <td>8086.0</td>\n",
       "      <td>Homme</td>\n",
       "      <td>19840.0</td>\n",
       "      <td>0.289551</td>\n",
       "    </tr>\n",
       "    <tr>\n",
       "      <th>6</th>\n",
       "      <td>2019</td>\n",
       "      <td>Cadre</td>\n",
       "      <td>Femme</td>\n",
       "      <td>8486.0</td>\n",
       "      <td>Homme</td>\n",
       "      <td>19973.0</td>\n",
       "      <td>0.298183</td>\n",
       "    </tr>\n",
       "    <tr>\n",
       "      <th>7</th>\n",
       "      <td>2019</td>\n",
       "      <td>Exécution</td>\n",
       "      <td>Femme</td>\n",
       "      <td>1401.0</td>\n",
       "      <td>Homme</td>\n",
       "      <td>2407.0</td>\n",
       "      <td>0.367910</td>\n",
       "    </tr>\n",
       "    <tr>\n",
       "      <th>8</th>\n",
       "      <td>2019</td>\n",
       "      <td>Maîtrise</td>\n",
       "      <td>Femme</td>\n",
       "      <td>7718.0</td>\n",
       "      <td>Homme</td>\n",
       "      <td>19387.0</td>\n",
       "      <td>0.284745</td>\n",
       "    </tr>\n",
       "    <tr>\n",
       "      <th>9</th>\n",
       "      <td>2020</td>\n",
       "      <td>Cadre</td>\n",
       "      <td>Femme</td>\n",
       "      <td>8625.0</td>\n",
       "      <td>Homme</td>\n",
       "      <td>20057.0</td>\n",
       "      <td>0.300711</td>\n",
       "    </tr>\n",
       "    <tr>\n",
       "      <th>10</th>\n",
       "      <td>2020</td>\n",
       "      <td>Exécution</td>\n",
       "      <td>Femme</td>\n",
       "      <td>1256.0</td>\n",
       "      <td>Homme</td>\n",
       "      <td>2227.0</td>\n",
       "      <td>0.360609</td>\n",
       "    </tr>\n",
       "    <tr>\n",
       "      <th>11</th>\n",
       "      <td>2020</td>\n",
       "      <td>Maîtrise</td>\n",
       "      <td>Femme</td>\n",
       "      <td>7429.0</td>\n",
       "      <td>Homme</td>\n",
       "      <td>19219.0</td>\n",
       "      <td>0.278783</td>\n",
       "    </tr>\n",
       "    <tr>\n",
       "      <th>12</th>\n",
       "      <td>2021</td>\n",
       "      <td>Cadre</td>\n",
       "      <td>Femme</td>\n",
       "      <td>8731.0</td>\n",
       "      <td>Homme</td>\n",
       "      <td>20173.0</td>\n",
       "      <td>0.302069</td>\n",
       "    </tr>\n",
       "    <tr>\n",
       "      <th>13</th>\n",
       "      <td>2021</td>\n",
       "      <td>Exécution</td>\n",
       "      <td>Femme</td>\n",
       "      <td>1132.0</td>\n",
       "      <td>Homme</td>\n",
       "      <td>2163.0</td>\n",
       "      <td>0.343551</td>\n",
       "    </tr>\n",
       "    <tr>\n",
       "      <th>14</th>\n",
       "      <td>2021</td>\n",
       "      <td>Maîtrise</td>\n",
       "      <td>Femme</td>\n",
       "      <td>7240.0</td>\n",
       "      <td>Homme</td>\n",
       "      <td>19126.0</td>\n",
       "      <td>0.274596</td>\n",
       "    </tr>\n",
       "    <tr>\n",
       "      <th>15</th>\n",
       "      <td>2022</td>\n",
       "      <td>Cadre</td>\n",
       "      <td>Femme</td>\n",
       "      <td>9003.0</td>\n",
       "      <td>Homme</td>\n",
       "      <td>20595.0</td>\n",
       "      <td>0.304176</td>\n",
       "    </tr>\n",
       "    <tr>\n",
       "      <th>16</th>\n",
       "      <td>2022</td>\n",
       "      <td>Exécution</td>\n",
       "      <td>Femme</td>\n",
       "      <td>1067.0</td>\n",
       "      <td>Homme</td>\n",
       "      <td>2223.0</td>\n",
       "      <td>0.324316</td>\n",
       "    </tr>\n",
       "    <tr>\n",
       "      <th>17</th>\n",
       "      <td>2022</td>\n",
       "      <td>Maîtrise</td>\n",
       "      <td>Femme</td>\n",
       "      <td>7173.0</td>\n",
       "      <td>Homme</td>\n",
       "      <td>19272.0</td>\n",
       "      <td>0.271242</td>\n",
       "    </tr>\n",
       "    <tr>\n",
       "      <th>18</th>\n",
       "      <td>2023</td>\n",
       "      <td>Cadre</td>\n",
       "      <td>Femme</td>\n",
       "      <td>9357.0</td>\n",
       "      <td>Homme</td>\n",
       "      <td>21273.0</td>\n",
       "      <td>0.305485</td>\n",
       "    </tr>\n",
       "    <tr>\n",
       "      <th>19</th>\n",
       "      <td>2023</td>\n",
       "      <td>Exécution</td>\n",
       "      <td>Femme</td>\n",
       "      <td>1068.0</td>\n",
       "      <td>Homme</td>\n",
       "      <td>2277.0</td>\n",
       "      <td>0.319283</td>\n",
       "    </tr>\n",
       "  </tbody>\n",
       "</table>\n",
       "</div>"
      ],
      "text/plain": [
       "    Année    Collège Genre_x  Nombre de salariés_x Genre_y  \\\n",
       "0    2017      Cadre   Femme                8406.0   Homme   \n",
       "1    2017  Exécution   Femme                1822.0   Homme   \n",
       "2    2017   Maîtrise   Femme                8444.0   Homme   \n",
       "3    2018      Cadre   Femme                8419.0   Homme   \n",
       "4    2018  Exécution   Femme                1630.0   Homme   \n",
       "5    2018   Maîtrise   Femme                8086.0   Homme   \n",
       "6    2019      Cadre   Femme                8486.0   Homme   \n",
       "7    2019  Exécution   Femme                1401.0   Homme   \n",
       "8    2019   Maîtrise   Femme                7718.0   Homme   \n",
       "9    2020      Cadre   Femme                8625.0   Homme   \n",
       "10   2020  Exécution   Femme                1256.0   Homme   \n",
       "11   2020   Maîtrise   Femme                7429.0   Homme   \n",
       "12   2021      Cadre   Femme                8731.0   Homme   \n",
       "13   2021  Exécution   Femme                1132.0   Homme   \n",
       "14   2021   Maîtrise   Femme                7240.0   Homme   \n",
       "15   2022      Cadre   Femme                9003.0   Homme   \n",
       "16   2022  Exécution   Femme                1067.0   Homme   \n",
       "17   2022   Maîtrise   Femme                7173.0   Homme   \n",
       "18   2023      Cadre   Femme                9357.0   Homme   \n",
       "19   2023  Exécution   Femme                1068.0   Homme   \n",
       "\n",
       "    Nombre de salariés_y  proportion de femmes  \n",
       "0                20462.0              0.291187  \n",
       "1                 2811.0              0.393266  \n",
       "2                20294.0              0.293827  \n",
       "3                20166.0              0.294525  \n",
       "4                 2657.0              0.380219  \n",
       "5                19840.0              0.289551  \n",
       "6                19973.0              0.298183  \n",
       "7                 2407.0              0.367910  \n",
       "8                19387.0              0.284745  \n",
       "9                20057.0              0.300711  \n",
       "10                2227.0              0.360609  \n",
       "11               19219.0              0.278783  \n",
       "12               20173.0              0.302069  \n",
       "13                2163.0              0.343551  \n",
       "14               19126.0              0.274596  \n",
       "15               20595.0              0.304176  \n",
       "16                2223.0              0.324316  \n",
       "17               19272.0              0.271242  \n",
       "18               21273.0              0.305485  \n",
       "19                2277.0              0.319283  "
      ]
     },
     "execution_count": 93,
     "metadata": {},
     "output_type": "execute_result"
    }
   ],
   "source": [
    "effectif_total.head(20)"
   ]
  },
  {
   "cell_type": "code",
   "execution_count": 94,
   "metadata": {},
   "outputs": [],
   "source": [
    "effectif_total=effectif_total.rename(columns={\"Nombre de salariés_x\":\"Nombre de salariés femme\"})\n",
    "effectif_total=effectif_total.rename(columns={\"Nombre de salariés_y\":\"Nombre de salariés homme\"})\n",
    "effectif_total=effectif_total.drop(columns=[\"Genre_x\", \"Genre_y\"])"
   ]
  },
  {
   "cell_type": "code",
   "execution_count": 95,
   "metadata": {},
   "outputs": [
    {
     "data": {
      "text/html": [
       "<div>\n",
       "<style scoped>\n",
       "    .dataframe tbody tr th:only-of-type {\n",
       "        vertical-align: middle;\n",
       "    }\n",
       "\n",
       "    .dataframe tbody tr th {\n",
       "        vertical-align: top;\n",
       "    }\n",
       "\n",
       "    .dataframe thead th {\n",
       "        text-align: right;\n",
       "    }\n",
       "</style>\n",
       "<table border=\"1\" class=\"dataframe\">\n",
       "  <thead>\n",
       "    <tr style=\"text-align: right;\">\n",
       "      <th></th>\n",
       "      <th>Année</th>\n",
       "      <th>Collège</th>\n",
       "      <th>Nombre de salariés femme</th>\n",
       "      <th>Nombre de salariés homme</th>\n",
       "      <th>proportion de femmes</th>\n",
       "    </tr>\n",
       "  </thead>\n",
       "  <tbody>\n",
       "    <tr>\n",
       "      <th>0</th>\n",
       "      <td>2017</td>\n",
       "      <td>Cadre</td>\n",
       "      <td>8406.0</td>\n",
       "      <td>20462.0</td>\n",
       "      <td>0.291187</td>\n",
       "    </tr>\n",
       "    <tr>\n",
       "      <th>1</th>\n",
       "      <td>2017</td>\n",
       "      <td>Exécution</td>\n",
       "      <td>1822.0</td>\n",
       "      <td>2811.0</td>\n",
       "      <td>0.393266</td>\n",
       "    </tr>\n",
       "    <tr>\n",
       "      <th>2</th>\n",
       "      <td>2017</td>\n",
       "      <td>Maîtrise</td>\n",
       "      <td>8444.0</td>\n",
       "      <td>20294.0</td>\n",
       "      <td>0.293827</td>\n",
       "    </tr>\n",
       "    <tr>\n",
       "      <th>3</th>\n",
       "      <td>2018</td>\n",
       "      <td>Cadre</td>\n",
       "      <td>8419.0</td>\n",
       "      <td>20166.0</td>\n",
       "      <td>0.294525</td>\n",
       "    </tr>\n",
       "    <tr>\n",
       "      <th>4</th>\n",
       "      <td>2018</td>\n",
       "      <td>Exécution</td>\n",
       "      <td>1630.0</td>\n",
       "      <td>2657.0</td>\n",
       "      <td>0.380219</td>\n",
       "    </tr>\n",
       "    <tr>\n",
       "      <th>5</th>\n",
       "      <td>2018</td>\n",
       "      <td>Maîtrise</td>\n",
       "      <td>8086.0</td>\n",
       "      <td>19840.0</td>\n",
       "      <td>0.289551</td>\n",
       "    </tr>\n",
       "    <tr>\n",
       "      <th>6</th>\n",
       "      <td>2019</td>\n",
       "      <td>Cadre</td>\n",
       "      <td>8486.0</td>\n",
       "      <td>19973.0</td>\n",
       "      <td>0.298183</td>\n",
       "    </tr>\n",
       "    <tr>\n",
       "      <th>7</th>\n",
       "      <td>2019</td>\n",
       "      <td>Exécution</td>\n",
       "      <td>1401.0</td>\n",
       "      <td>2407.0</td>\n",
       "      <td>0.367910</td>\n",
       "    </tr>\n",
       "    <tr>\n",
       "      <th>8</th>\n",
       "      <td>2019</td>\n",
       "      <td>Maîtrise</td>\n",
       "      <td>7718.0</td>\n",
       "      <td>19387.0</td>\n",
       "      <td>0.284745</td>\n",
       "    </tr>\n",
       "    <tr>\n",
       "      <th>9</th>\n",
       "      <td>2020</td>\n",
       "      <td>Cadre</td>\n",
       "      <td>8625.0</td>\n",
       "      <td>20057.0</td>\n",
       "      <td>0.300711</td>\n",
       "    </tr>\n",
       "    <tr>\n",
       "      <th>10</th>\n",
       "      <td>2020</td>\n",
       "      <td>Exécution</td>\n",
       "      <td>1256.0</td>\n",
       "      <td>2227.0</td>\n",
       "      <td>0.360609</td>\n",
       "    </tr>\n",
       "    <tr>\n",
       "      <th>11</th>\n",
       "      <td>2020</td>\n",
       "      <td>Maîtrise</td>\n",
       "      <td>7429.0</td>\n",
       "      <td>19219.0</td>\n",
       "      <td>0.278783</td>\n",
       "    </tr>\n",
       "    <tr>\n",
       "      <th>12</th>\n",
       "      <td>2021</td>\n",
       "      <td>Cadre</td>\n",
       "      <td>8731.0</td>\n",
       "      <td>20173.0</td>\n",
       "      <td>0.302069</td>\n",
       "    </tr>\n",
       "    <tr>\n",
       "      <th>13</th>\n",
       "      <td>2021</td>\n",
       "      <td>Exécution</td>\n",
       "      <td>1132.0</td>\n",
       "      <td>2163.0</td>\n",
       "      <td>0.343551</td>\n",
       "    </tr>\n",
       "    <tr>\n",
       "      <th>14</th>\n",
       "      <td>2021</td>\n",
       "      <td>Maîtrise</td>\n",
       "      <td>7240.0</td>\n",
       "      <td>19126.0</td>\n",
       "      <td>0.274596</td>\n",
       "    </tr>\n",
       "    <tr>\n",
       "      <th>15</th>\n",
       "      <td>2022</td>\n",
       "      <td>Cadre</td>\n",
       "      <td>9003.0</td>\n",
       "      <td>20595.0</td>\n",
       "      <td>0.304176</td>\n",
       "    </tr>\n",
       "    <tr>\n",
       "      <th>16</th>\n",
       "      <td>2022</td>\n",
       "      <td>Exécution</td>\n",
       "      <td>1067.0</td>\n",
       "      <td>2223.0</td>\n",
       "      <td>0.324316</td>\n",
       "    </tr>\n",
       "    <tr>\n",
       "      <th>17</th>\n",
       "      <td>2022</td>\n",
       "      <td>Maîtrise</td>\n",
       "      <td>7173.0</td>\n",
       "      <td>19272.0</td>\n",
       "      <td>0.271242</td>\n",
       "    </tr>\n",
       "    <tr>\n",
       "      <th>18</th>\n",
       "      <td>2023</td>\n",
       "      <td>Cadre</td>\n",
       "      <td>9357.0</td>\n",
       "      <td>21273.0</td>\n",
       "      <td>0.305485</td>\n",
       "    </tr>\n",
       "    <tr>\n",
       "      <th>19</th>\n",
       "      <td>2023</td>\n",
       "      <td>Exécution</td>\n",
       "      <td>1068.0</td>\n",
       "      <td>2277.0</td>\n",
       "      <td>0.319283</td>\n",
       "    </tr>\n",
       "    <tr>\n",
       "      <th>20</th>\n",
       "      <td>2023</td>\n",
       "      <td>Maîtrise</td>\n",
       "      <td>7237.0</td>\n",
       "      <td>19539.0</td>\n",
       "      <td>0.270279</td>\n",
       "    </tr>\n",
       "  </tbody>\n",
       "</table>\n",
       "</div>"
      ],
      "text/plain": [
       "    Année    Collège  Nombre de salariés femme  Nombre de salariés homme  \\\n",
       "0    2017      Cadre                    8406.0                   20462.0   \n",
       "1    2017  Exécution                    1822.0                    2811.0   \n",
       "2    2017   Maîtrise                    8444.0                   20294.0   \n",
       "3    2018      Cadre                    8419.0                   20166.0   \n",
       "4    2018  Exécution                    1630.0                    2657.0   \n",
       "5    2018   Maîtrise                    8086.0                   19840.0   \n",
       "6    2019      Cadre                    8486.0                   19973.0   \n",
       "7    2019  Exécution                    1401.0                    2407.0   \n",
       "8    2019   Maîtrise                    7718.0                   19387.0   \n",
       "9    2020      Cadre                    8625.0                   20057.0   \n",
       "10   2020  Exécution                    1256.0                    2227.0   \n",
       "11   2020   Maîtrise                    7429.0                   19219.0   \n",
       "12   2021      Cadre                    8731.0                   20173.0   \n",
       "13   2021  Exécution                    1132.0                    2163.0   \n",
       "14   2021   Maîtrise                    7240.0                   19126.0   \n",
       "15   2022      Cadre                    9003.0                   20595.0   \n",
       "16   2022  Exécution                    1067.0                    2223.0   \n",
       "17   2022   Maîtrise                    7173.0                   19272.0   \n",
       "18   2023      Cadre                    9357.0                   21273.0   \n",
       "19   2023  Exécution                    1068.0                    2277.0   \n",
       "20   2023   Maîtrise                    7237.0                   19539.0   \n",
       "\n",
       "    proportion de femmes  \n",
       "0               0.291187  \n",
       "1               0.393266  \n",
       "2               0.293827  \n",
       "3               0.294525  \n",
       "4               0.380219  \n",
       "5               0.289551  \n",
       "6               0.298183  \n",
       "7               0.367910  \n",
       "8               0.284745  \n",
       "9               0.300711  \n",
       "10              0.360609  \n",
       "11              0.278783  \n",
       "12              0.302069  \n",
       "13              0.343551  \n",
       "14              0.274596  \n",
       "15              0.304176  \n",
       "16              0.324316  \n",
       "17              0.271242  \n",
       "18              0.305485  \n",
       "19              0.319283  \n",
       "20              0.270279  "
      ]
     },
     "execution_count": 95,
     "metadata": {},
     "output_type": "execute_result"
    }
   ],
   "source": [
    "effectif_total.head(30)"
   ]
  },
  {
   "cell_type": "code",
   "execution_count": 96,
   "metadata": {},
   "outputs": [],
   "source": [
    "prop_cadre=effectif_total[effectif_total[\"Collège\"] == \"Cadre\"]\n",
    "prop_execution=effectif_total[effectif_total[\"Collège\"] == \"Exécution\"]\n",
    "prop_maitrise=effectif_total[effectif_total[\"Collège\"] == \"Maîtrise\"]"
   ]
  },
  {
   "cell_type": "code",
   "execution_count": 97,
   "metadata": {},
   "outputs": [],
   "source": [
    "absence = pd.read_csv(\"data/absences.csv\", delimiter=\";\")"
   ]
  },
  {
   "cell_type": "code",
   "execution_count": 98,
   "metadata": {},
   "outputs": [],
   "source": [
    "absence[\"Indicateur\"]=absence[\"Indicateur\"].str.replace(\"Absence pour congé de maternité ou d'adoption\",\"Absence pour congé de maternité\")\n",
    "absence[\"Indicateur\"]=absence[\"Indicateur\"].str.replace(\"Absence pour congé de paternité et d'accueil de l'enfant\",\"Absence pour congé de paternité\")\n",
    "absence=absence[absence[\"Type de contrat\"] == \"Statutaires\"]\n",
    "absence=absence.drop(columns=[\"Perimètre juridique\", \"Perimètre spatial\", \"Spatial perimeter\", \"Indicator\", \"Type of contract\", \"Type de contrat\",\n",
    "                              \"Employee category\", \"Genre\", \"Gender\", \"Unité\", \"Unit\", \"Chapitre du bilan social\"])"
   ]
  },
  {
   "cell_type": "code",
   "execution_count": 99,
   "metadata": {},
   "outputs": [],
   "source": [
    "\n",
    "absence_pat=absence[absence[\"Indicateur\"] == \"Absence pour congé de paternité\"]\n",
    "absence_mat=absence[absence[\"Indicateur\"] == \"Absence pour congé de maternité\"]\n"
   ]
  },
  {
   "cell_type": "code",
   "execution_count": 100,
   "metadata": {},
   "outputs": [],
   "source": [
    "absence_mat=pd.merge(absence_mat,effectif_total, on=[\"Année\", \"Collège\"])[[\"Année\", \"Indicateur\", \"Collège\", \"Valeur\", \"Nombre de salariés femme\"]]\n",
    "absence_pat=pd.merge(absence_pat,effectif_total, on=[\"Année\", \"Collège\"])[[\"Année\", \"Indicateur\", \"Collège\", \"Valeur\", \"Nombre de salariés homme\"]]"
   ]
  },
  {
   "cell_type": "code",
   "execution_count": 101,
   "metadata": {},
   "outputs": [],
   "source": [
    "absence_mat[\"Nombre d'heures moyen de congé maternité par salariée\"]=absence_mat[\"Valeur\"]/absence_mat[\"Nombre de salariés femme\"]\n",
    "absence_mat=absence_mat.drop(columns=[\"Indicateur\", \"Valeur\", \"Nombre de salariés femme\"])\n",
    "absence_pat[\"Nombre d'heures moyen de congé paternité par salarié\"]=absence_pat[\"Valeur\"]/absence_pat[\"Nombre de salariés homme\"]\n",
    "absence_pat=absence_pat.drop(columns=[\"Indicateur\", \"Valeur\", \"Nombre de salariés homme\"])"
   ]
  },
  {
   "cell_type": "code",
   "execution_count": 102,
   "metadata": {},
   "outputs": [],
   "source": [
    "absence_congé_matpat=pd.merge(absence_mat, absence_pat, on=[\"Année\", \"Collège\"])"
   ]
  },
  {
   "cell_type": "code",
   "execution_count": 142,
   "metadata": {},
   "outputs": [],
   "source": [
    "absence_congé_matpat[\"Ecart en pourcentage du temps d'absence pour congé maternité/paternité\"]=absence_congé_matpat[\"Nombre d\\'heures moyen de congé paternité par salarié\"]/(absence_congé_matpat[\"Nombre d\\'heures moyen de congé maternité par salariée\"]+absence_congé_matpat[\"Nombre d\\'heures moyen de congé paternité par salarié\"])\n",
    "absence_congé_matpat=absence_congé_matpat.round(2)\n"
   ]
  },
  {
   "cell_type": "code",
   "execution_count": 143,
   "metadata": {},
   "outputs": [
    {
     "data": {
      "text/html": [
       "<div>\n",
       "<style scoped>\n",
       "    .dataframe tbody tr th:only-of-type {\n",
       "        vertical-align: middle;\n",
       "    }\n",
       "\n",
       "    .dataframe tbody tr th {\n",
       "        vertical-align: top;\n",
       "    }\n",
       "\n",
       "    .dataframe thead th {\n",
       "        text-align: right;\n",
       "    }\n",
       "</style>\n",
       "<table border=\"1\" class=\"dataframe\">\n",
       "  <thead>\n",
       "    <tr style=\"text-align: right;\">\n",
       "      <th></th>\n",
       "      <th>Année</th>\n",
       "      <th>Collège</th>\n",
       "      <th>Nombre d'heures moyen de congé maternité par salariée</th>\n",
       "      <th>Nombre d'heures moyen de congé paternité par salarié</th>\n",
       "      <th>Ecart en pourcentage du temps d'absence pour congé maternité/paternité</th>\n",
       "    </tr>\n",
       "  </thead>\n",
       "  <tbody>\n",
       "    <tr>\n",
       "      <th>0</th>\n",
       "      <td>2023</td>\n",
       "      <td>Cadre</td>\n",
       "      <td>31.04</td>\n",
       "      <td>4.97</td>\n",
       "      <td>0.14</td>\n",
       "    </tr>\n",
       "    <tr>\n",
       "      <th>1</th>\n",
       "      <td>2023</td>\n",
       "      <td>Maîtrise</td>\n",
       "      <td>22.06</td>\n",
       "      <td>6.29</td>\n",
       "      <td>0.22</td>\n",
       "    </tr>\n",
       "    <tr>\n",
       "      <th>2</th>\n",
       "      <td>2023</td>\n",
       "      <td>Exécution</td>\n",
       "      <td>26.01</td>\n",
       "      <td>7.89</td>\n",
       "      <td>0.23</td>\n",
       "    </tr>\n",
       "    <tr>\n",
       "      <th>3</th>\n",
       "      <td>2022</td>\n",
       "      <td>Cadre</td>\n",
       "      <td>34.57</td>\n",
       "      <td>5.40</td>\n",
       "      <td>0.14</td>\n",
       "    </tr>\n",
       "    <tr>\n",
       "      <th>4</th>\n",
       "      <td>2022</td>\n",
       "      <td>Exécution</td>\n",
       "      <td>29.88</td>\n",
       "      <td>6.45</td>\n",
       "      <td>0.18</td>\n",
       "    </tr>\n",
       "    <tr>\n",
       "      <th>5</th>\n",
       "      <td>2022</td>\n",
       "      <td>Maîtrise</td>\n",
       "      <td>24.61</td>\n",
       "      <td>6.95</td>\n",
       "      <td>0.22</td>\n",
       "    </tr>\n",
       "    <tr>\n",
       "      <th>6</th>\n",
       "      <td>2021</td>\n",
       "      <td>Exécution</td>\n",
       "      <td>39.17</td>\n",
       "      <td>5.39</td>\n",
       "      <td>0.12</td>\n",
       "    </tr>\n",
       "    <tr>\n",
       "      <th>7</th>\n",
       "      <td>2021</td>\n",
       "      <td>Cadre</td>\n",
       "      <td>34.76</td>\n",
       "      <td>4.38</td>\n",
       "      <td>0.11</td>\n",
       "    </tr>\n",
       "    <tr>\n",
       "      <th>8</th>\n",
       "      <td>2021</td>\n",
       "      <td>Maîtrise</td>\n",
       "      <td>28.26</td>\n",
       "      <td>4.91</td>\n",
       "      <td>0.15</td>\n",
       "    </tr>\n",
       "    <tr>\n",
       "      <th>9</th>\n",
       "      <td>2020</td>\n",
       "      <td>Cadre</td>\n",
       "      <td>39.14</td>\n",
       "      <td>3.03</td>\n",
       "      <td>0.07</td>\n",
       "    </tr>\n",
       "    <tr>\n",
       "      <th>10</th>\n",
       "      <td>2020</td>\n",
       "      <td>Maîtrise</td>\n",
       "      <td>26.77</td>\n",
       "      <td>3.12</td>\n",
       "      <td>0.10</td>\n",
       "    </tr>\n",
       "    <tr>\n",
       "      <th>11</th>\n",
       "      <td>2020</td>\n",
       "      <td>Exécution</td>\n",
       "      <td>35.20</td>\n",
       "      <td>3.90</td>\n",
       "      <td>0.10</td>\n",
       "    </tr>\n",
       "    <tr>\n",
       "      <th>12</th>\n",
       "      <td>2019</td>\n",
       "      <td>Maîtrise</td>\n",
       "      <td>28.47</td>\n",
       "      <td>3.33</td>\n",
       "      <td>0.10</td>\n",
       "    </tr>\n",
       "    <tr>\n",
       "      <th>13</th>\n",
       "      <td>2019</td>\n",
       "      <td>Exécution</td>\n",
       "      <td>39.54</td>\n",
       "      <td>4.03</td>\n",
       "      <td>0.09</td>\n",
       "    </tr>\n",
       "    <tr>\n",
       "      <th>14</th>\n",
       "      <td>2019</td>\n",
       "      <td>Cadre</td>\n",
       "      <td>41.90</td>\n",
       "      <td>2.93</td>\n",
       "      <td>0.07</td>\n",
       "    </tr>\n",
       "    <tr>\n",
       "      <th>15</th>\n",
       "      <td>2018</td>\n",
       "      <td>Exécution</td>\n",
       "      <td>45.88</td>\n",
       "      <td>3.32</td>\n",
       "      <td>0.07</td>\n",
       "    </tr>\n",
       "    <tr>\n",
       "      <th>16</th>\n",
       "      <td>2018</td>\n",
       "      <td>Maîtrise</td>\n",
       "      <td>27.30</td>\n",
       "      <td>3.36</td>\n",
       "      <td>0.11</td>\n",
       "    </tr>\n",
       "    <tr>\n",
       "      <th>17</th>\n",
       "      <td>2018</td>\n",
       "      <td>Cadre</td>\n",
       "      <td>42.51</td>\n",
       "      <td>2.81</td>\n",
       "      <td>0.06</td>\n",
       "    </tr>\n",
       "    <tr>\n",
       "      <th>18</th>\n",
       "      <td>2017</td>\n",
       "      <td>Maîtrise</td>\n",
       "      <td>28.21</td>\n",
       "      <td>3.25</td>\n",
       "      <td>0.10</td>\n",
       "    </tr>\n",
       "    <tr>\n",
       "      <th>19</th>\n",
       "      <td>2017</td>\n",
       "      <td>Cadre</td>\n",
       "      <td>40.31</td>\n",
       "      <td>2.87</td>\n",
       "      <td>0.07</td>\n",
       "    </tr>\n",
       "    <tr>\n",
       "      <th>20</th>\n",
       "      <td>2017</td>\n",
       "      <td>Exécution</td>\n",
       "      <td>58.68</td>\n",
       "      <td>3.92</td>\n",
       "      <td>0.06</td>\n",
       "    </tr>\n",
       "  </tbody>\n",
       "</table>\n",
       "</div>"
      ],
      "text/plain": [
       "    Année    Collège  Nombre d'heures moyen de congé maternité par salariée  \\\n",
       "0    2023      Cadre                                              31.04       \n",
       "1    2023   Maîtrise                                              22.06       \n",
       "2    2023  Exécution                                              26.01       \n",
       "3    2022      Cadre                                              34.57       \n",
       "4    2022  Exécution                                              29.88       \n",
       "5    2022   Maîtrise                                              24.61       \n",
       "6    2021  Exécution                                              39.17       \n",
       "7    2021      Cadre                                              34.76       \n",
       "8    2021   Maîtrise                                              28.26       \n",
       "9    2020      Cadre                                              39.14       \n",
       "10   2020   Maîtrise                                              26.77       \n",
       "11   2020  Exécution                                              35.20       \n",
       "12   2019   Maîtrise                                              28.47       \n",
       "13   2019  Exécution                                              39.54       \n",
       "14   2019      Cadre                                              41.90       \n",
       "15   2018  Exécution                                              45.88       \n",
       "16   2018   Maîtrise                                              27.30       \n",
       "17   2018      Cadre                                              42.51       \n",
       "18   2017   Maîtrise                                              28.21       \n",
       "19   2017      Cadre                                              40.31       \n",
       "20   2017  Exécution                                              58.68       \n",
       "\n",
       "    Nombre d'heures moyen de congé paternité par salarié  \\\n",
       "0                                                4.97      \n",
       "1                                                6.29      \n",
       "2                                                7.89      \n",
       "3                                                5.40      \n",
       "4                                                6.45      \n",
       "5                                                6.95      \n",
       "6                                                5.39      \n",
       "7                                                4.38      \n",
       "8                                                4.91      \n",
       "9                                                3.03      \n",
       "10                                               3.12      \n",
       "11                                               3.90      \n",
       "12                                               3.33      \n",
       "13                                               4.03      \n",
       "14                                               2.93      \n",
       "15                                               3.32      \n",
       "16                                               3.36      \n",
       "17                                               2.81      \n",
       "18                                               3.25      \n",
       "19                                               2.87      \n",
       "20                                               3.92      \n",
       "\n",
       "    Ecart en pourcentage du temps d'absence pour congé maternité/paternité  \n",
       "0                                                0.14                       \n",
       "1                                                0.22                       \n",
       "2                                                0.23                       \n",
       "3                                                0.14                       \n",
       "4                                                0.18                       \n",
       "5                                                0.22                       \n",
       "6                                                0.12                       \n",
       "7                                                0.11                       \n",
       "8                                                0.15                       \n",
       "9                                                0.07                       \n",
       "10                                               0.10                       \n",
       "11                                               0.10                       \n",
       "12                                               0.10                       \n",
       "13                                               0.09                       \n",
       "14                                               0.07                       \n",
       "15                                               0.07                       \n",
       "16                                               0.11                       \n",
       "17                                               0.06                       \n",
       "18                                               0.10                       \n",
       "19                                               0.07                       \n",
       "20                                               0.06                       "
      ]
     },
     "execution_count": 143,
     "metadata": {},
     "output_type": "execute_result"
    }
   ],
   "source": [
    "absence_congé_matpat"
   ]
  },
  {
   "cell_type": "code",
   "execution_count": 137,
   "metadata": {},
   "outputs": [],
   "source": [
    "absence_congé_matpat.to_csv(\"absence_conge_matpat.csv\")"
   ]
  },
  {
   "cell_type": "code",
   "execution_count": 149,
   "metadata": {},
   "outputs": [
    {
     "data": {
      "application/vnd.plotly.v1+json": {
       "config": {
        "plotlyServerURL": "https://plot.ly"
       },
       "data": [
        {
         "customdata": [
          [
           0.14
          ],
          [
           0.14
          ],
          [
           0.11
          ],
          [
           0.07
          ],
          [
           0.07
          ],
          [
           0.06
          ],
          [
           0.07
          ]
         ],
         "hovertemplate": "Nombre d'heures moyen de congé maternité par salariée: %{y} heures<br>Écart: %{customdata[0]}%",
         "mode": "lines+markers",
         "name": " (Cadre)",
         "type": "scatter",
         "x": [
          2023,
          2022,
          2021,
          2020,
          2019,
          2018,
          2017
         ],
         "y": [
          31.04,
          34.57,
          34.76,
          39.14,
          41.9,
          42.51,
          40.31
         ]
        },
        {
         "customdata": [
          [
           0.14
          ],
          [
           0.14
          ],
          [
           0.11
          ],
          [
           0.07
          ],
          [
           0.07
          ],
          [
           0.06
          ],
          [
           0.07
          ]
         ],
         "hovertemplate": "Nombre d'heures moyen de congé paternité par salarié: %{y} heures<br>Écart: %{customdata[0]}%",
         "mode": "lines+markers",
         "name": "Congés Paternité (Cadre)",
         "type": "scatter",
         "x": [
          2023,
          2022,
          2021,
          2020,
          2019,
          2018,
          2017
         ],
         "y": [
          4.97,
          5.4,
          4.38,
          3.03,
          2.93,
          2.81,
          2.87
         ]
        },
        {
         "customdata": [
          [
           0.22
          ],
          [
           0.22
          ],
          [
           0.15
          ],
          [
           0.1
          ],
          [
           0.1
          ],
          [
           0.11
          ],
          [
           0.1
          ]
         ],
         "hovertemplate": "Nombre d'heures moyen de congé maternité par salariée: %{y} heures<br>Écart: %{customdata[0]}%",
         "mode": "lines+markers",
         "name": " (Maîtrise)",
         "type": "scatter",
         "x": [
          2023,
          2022,
          2021,
          2020,
          2019,
          2018,
          2017
         ],
         "y": [
          22.06,
          24.61,
          28.26,
          26.77,
          28.47,
          27.3,
          28.21
         ]
        },
        {
         "customdata": [
          [
           0.22
          ],
          [
           0.22
          ],
          [
           0.15
          ],
          [
           0.1
          ],
          [
           0.1
          ],
          [
           0.11
          ],
          [
           0.1
          ]
         ],
         "hovertemplate": "Nombre d'heures moyen de congé paternité par salarié: %{y} heures<br>Écart: %{customdata[0]}%",
         "mode": "lines+markers",
         "name": "Congés Paternité (Maîtrise)",
         "type": "scatter",
         "x": [
          2023,
          2022,
          2021,
          2020,
          2019,
          2018,
          2017
         ],
         "y": [
          6.29,
          6.95,
          4.91,
          3.12,
          3.33,
          3.36,
          3.25
         ]
        },
        {
         "customdata": [
          [
           0.23
          ],
          [
           0.18
          ],
          [
           0.12
          ],
          [
           0.1
          ],
          [
           0.09
          ],
          [
           0.07
          ],
          [
           0.06
          ]
         ],
         "hovertemplate": "Nombre d'heures moyen de congé maternité par salariée: %{y} heures<br>Écart: %{customdata[0]}%",
         "mode": "lines+markers",
         "name": " (Exécution)",
         "type": "scatter",
         "x": [
          2023,
          2022,
          2021,
          2020,
          2019,
          2018,
          2017
         ],
         "y": [
          26.01,
          29.88,
          39.17,
          35.2,
          39.54,
          45.88,
          58.68
         ]
        },
        {
         "customdata": [
          [
           0.23
          ],
          [
           0.18
          ],
          [
           0.12
          ],
          [
           0.1
          ],
          [
           0.09
          ],
          [
           0.07
          ],
          [
           0.06
          ]
         ],
         "hovertemplate": "Nombre d'heures moyen de congé paternité par salarié: %{y} heures<br>Écart: %{customdata[0]}%",
         "mode": "lines+markers",
         "name": "Congés Paternité (Exécution)",
         "type": "scatter",
         "x": [
          2023,
          2022,
          2021,
          2020,
          2019,
          2018,
          2017
         ],
         "y": [
          7.89,
          6.45,
          5.39,
          3.9,
          4.03,
          3.32,
          3.92
         ]
        }
       ],
       "layout": {
        "template": {
         "data": {
          "bar": [
           {
            "error_x": {
             "color": "#2a3f5f"
            },
            "error_y": {
             "color": "#2a3f5f"
            },
            "marker": {
             "line": {
              "color": "#E5ECF6",
              "width": 0.5
             },
             "pattern": {
              "fillmode": "overlay",
              "size": 10,
              "solidity": 0.2
             }
            },
            "type": "bar"
           }
          ],
          "barpolar": [
           {
            "marker": {
             "line": {
              "color": "#E5ECF6",
              "width": 0.5
             },
             "pattern": {
              "fillmode": "overlay",
              "size": 10,
              "solidity": 0.2
             }
            },
            "type": "barpolar"
           }
          ],
          "carpet": [
           {
            "aaxis": {
             "endlinecolor": "#2a3f5f",
             "gridcolor": "white",
             "linecolor": "white",
             "minorgridcolor": "white",
             "startlinecolor": "#2a3f5f"
            },
            "baxis": {
             "endlinecolor": "#2a3f5f",
             "gridcolor": "white",
             "linecolor": "white",
             "minorgridcolor": "white",
             "startlinecolor": "#2a3f5f"
            },
            "type": "carpet"
           }
          ],
          "choropleth": [
           {
            "colorbar": {
             "outlinewidth": 0,
             "ticks": ""
            },
            "type": "choropleth"
           }
          ],
          "contour": [
           {
            "colorbar": {
             "outlinewidth": 0,
             "ticks": ""
            },
            "colorscale": [
             [
              0,
              "#0d0887"
             ],
             [
              0.1111111111111111,
              "#46039f"
             ],
             [
              0.2222222222222222,
              "#7201a8"
             ],
             [
              0.3333333333333333,
              "#9c179e"
             ],
             [
              0.4444444444444444,
              "#bd3786"
             ],
             [
              0.5555555555555556,
              "#d8576b"
             ],
             [
              0.6666666666666666,
              "#ed7953"
             ],
             [
              0.7777777777777778,
              "#fb9f3a"
             ],
             [
              0.8888888888888888,
              "#fdca26"
             ],
             [
              1,
              "#f0f921"
             ]
            ],
            "type": "contour"
           }
          ],
          "contourcarpet": [
           {
            "colorbar": {
             "outlinewidth": 0,
             "ticks": ""
            },
            "type": "contourcarpet"
           }
          ],
          "heatmap": [
           {
            "colorbar": {
             "outlinewidth": 0,
             "ticks": ""
            },
            "colorscale": [
             [
              0,
              "#0d0887"
             ],
             [
              0.1111111111111111,
              "#46039f"
             ],
             [
              0.2222222222222222,
              "#7201a8"
             ],
             [
              0.3333333333333333,
              "#9c179e"
             ],
             [
              0.4444444444444444,
              "#bd3786"
             ],
             [
              0.5555555555555556,
              "#d8576b"
             ],
             [
              0.6666666666666666,
              "#ed7953"
             ],
             [
              0.7777777777777778,
              "#fb9f3a"
             ],
             [
              0.8888888888888888,
              "#fdca26"
             ],
             [
              1,
              "#f0f921"
             ]
            ],
            "type": "heatmap"
           }
          ],
          "heatmapgl": [
           {
            "colorbar": {
             "outlinewidth": 0,
             "ticks": ""
            },
            "colorscale": [
             [
              0,
              "#0d0887"
             ],
             [
              0.1111111111111111,
              "#46039f"
             ],
             [
              0.2222222222222222,
              "#7201a8"
             ],
             [
              0.3333333333333333,
              "#9c179e"
             ],
             [
              0.4444444444444444,
              "#bd3786"
             ],
             [
              0.5555555555555556,
              "#d8576b"
             ],
             [
              0.6666666666666666,
              "#ed7953"
             ],
             [
              0.7777777777777778,
              "#fb9f3a"
             ],
             [
              0.8888888888888888,
              "#fdca26"
             ],
             [
              1,
              "#f0f921"
             ]
            ],
            "type": "heatmapgl"
           }
          ],
          "histogram": [
           {
            "marker": {
             "pattern": {
              "fillmode": "overlay",
              "size": 10,
              "solidity": 0.2
             }
            },
            "type": "histogram"
           }
          ],
          "histogram2d": [
           {
            "colorbar": {
             "outlinewidth": 0,
             "ticks": ""
            },
            "colorscale": [
             [
              0,
              "#0d0887"
             ],
             [
              0.1111111111111111,
              "#46039f"
             ],
             [
              0.2222222222222222,
              "#7201a8"
             ],
             [
              0.3333333333333333,
              "#9c179e"
             ],
             [
              0.4444444444444444,
              "#bd3786"
             ],
             [
              0.5555555555555556,
              "#d8576b"
             ],
             [
              0.6666666666666666,
              "#ed7953"
             ],
             [
              0.7777777777777778,
              "#fb9f3a"
             ],
             [
              0.8888888888888888,
              "#fdca26"
             ],
             [
              1,
              "#f0f921"
             ]
            ],
            "type": "histogram2d"
           }
          ],
          "histogram2dcontour": [
           {
            "colorbar": {
             "outlinewidth": 0,
             "ticks": ""
            },
            "colorscale": [
             [
              0,
              "#0d0887"
             ],
             [
              0.1111111111111111,
              "#46039f"
             ],
             [
              0.2222222222222222,
              "#7201a8"
             ],
             [
              0.3333333333333333,
              "#9c179e"
             ],
             [
              0.4444444444444444,
              "#bd3786"
             ],
             [
              0.5555555555555556,
              "#d8576b"
             ],
             [
              0.6666666666666666,
              "#ed7953"
             ],
             [
              0.7777777777777778,
              "#fb9f3a"
             ],
             [
              0.8888888888888888,
              "#fdca26"
             ],
             [
              1,
              "#f0f921"
             ]
            ],
            "type": "histogram2dcontour"
           }
          ],
          "mesh3d": [
           {
            "colorbar": {
             "outlinewidth": 0,
             "ticks": ""
            },
            "type": "mesh3d"
           }
          ],
          "parcoords": [
           {
            "line": {
             "colorbar": {
              "outlinewidth": 0,
              "ticks": ""
             }
            },
            "type": "parcoords"
           }
          ],
          "pie": [
           {
            "automargin": true,
            "type": "pie"
           }
          ],
          "scatter": [
           {
            "fillpattern": {
             "fillmode": "overlay",
             "size": 10,
             "solidity": 0.2
            },
            "type": "scatter"
           }
          ],
          "scatter3d": [
           {
            "line": {
             "colorbar": {
              "outlinewidth": 0,
              "ticks": ""
             }
            },
            "marker": {
             "colorbar": {
              "outlinewidth": 0,
              "ticks": ""
             }
            },
            "type": "scatter3d"
           }
          ],
          "scattercarpet": [
           {
            "marker": {
             "colorbar": {
              "outlinewidth": 0,
              "ticks": ""
             }
            },
            "type": "scattercarpet"
           }
          ],
          "scattergeo": [
           {
            "marker": {
             "colorbar": {
              "outlinewidth": 0,
              "ticks": ""
             }
            },
            "type": "scattergeo"
           }
          ],
          "scattergl": [
           {
            "marker": {
             "colorbar": {
              "outlinewidth": 0,
              "ticks": ""
             }
            },
            "type": "scattergl"
           }
          ],
          "scattermapbox": [
           {
            "marker": {
             "colorbar": {
              "outlinewidth": 0,
              "ticks": ""
             }
            },
            "type": "scattermapbox"
           }
          ],
          "scatterpolar": [
           {
            "marker": {
             "colorbar": {
              "outlinewidth": 0,
              "ticks": ""
             }
            },
            "type": "scatterpolar"
           }
          ],
          "scatterpolargl": [
           {
            "marker": {
             "colorbar": {
              "outlinewidth": 0,
              "ticks": ""
             }
            },
            "type": "scatterpolargl"
           }
          ],
          "scatterternary": [
           {
            "marker": {
             "colorbar": {
              "outlinewidth": 0,
              "ticks": ""
             }
            },
            "type": "scatterternary"
           }
          ],
          "surface": [
           {
            "colorbar": {
             "outlinewidth": 0,
             "ticks": ""
            },
            "colorscale": [
             [
              0,
              "#0d0887"
             ],
             [
              0.1111111111111111,
              "#46039f"
             ],
             [
              0.2222222222222222,
              "#7201a8"
             ],
             [
              0.3333333333333333,
              "#9c179e"
             ],
             [
              0.4444444444444444,
              "#bd3786"
             ],
             [
              0.5555555555555556,
              "#d8576b"
             ],
             [
              0.6666666666666666,
              "#ed7953"
             ],
             [
              0.7777777777777778,
              "#fb9f3a"
             ],
             [
              0.8888888888888888,
              "#fdca26"
             ],
             [
              1,
              "#f0f921"
             ]
            ],
            "type": "surface"
           }
          ],
          "table": [
           {
            "cells": {
             "fill": {
              "color": "#EBF0F8"
             },
             "line": {
              "color": "white"
             }
            },
            "header": {
             "fill": {
              "color": "#C8D4E3"
             },
             "line": {
              "color": "white"
             }
            },
            "type": "table"
           }
          ]
         },
         "layout": {
          "annotationdefaults": {
           "arrowcolor": "#2a3f5f",
           "arrowhead": 0,
           "arrowwidth": 1
          },
          "autotypenumbers": "strict",
          "coloraxis": {
           "colorbar": {
            "outlinewidth": 0,
            "ticks": ""
           }
          },
          "colorscale": {
           "diverging": [
            [
             0,
             "#8e0152"
            ],
            [
             0.1,
             "#c51b7d"
            ],
            [
             0.2,
             "#de77ae"
            ],
            [
             0.3,
             "#f1b6da"
            ],
            [
             0.4,
             "#fde0ef"
            ],
            [
             0.5,
             "#f7f7f7"
            ],
            [
             0.6,
             "#e6f5d0"
            ],
            [
             0.7,
             "#b8e186"
            ],
            [
             0.8,
             "#7fbc41"
            ],
            [
             0.9,
             "#4d9221"
            ],
            [
             1,
             "#276419"
            ]
           ],
           "sequential": [
            [
             0,
             "#0d0887"
            ],
            [
             0.1111111111111111,
             "#46039f"
            ],
            [
             0.2222222222222222,
             "#7201a8"
            ],
            [
             0.3333333333333333,
             "#9c179e"
            ],
            [
             0.4444444444444444,
             "#bd3786"
            ],
            [
             0.5555555555555556,
             "#d8576b"
            ],
            [
             0.6666666666666666,
             "#ed7953"
            ],
            [
             0.7777777777777778,
             "#fb9f3a"
            ],
            [
             0.8888888888888888,
             "#fdca26"
            ],
            [
             1,
             "#f0f921"
            ]
           ],
           "sequentialminus": [
            [
             0,
             "#0d0887"
            ],
            [
             0.1111111111111111,
             "#46039f"
            ],
            [
             0.2222222222222222,
             "#7201a8"
            ],
            [
             0.3333333333333333,
             "#9c179e"
            ],
            [
             0.4444444444444444,
             "#bd3786"
            ],
            [
             0.5555555555555556,
             "#d8576b"
            ],
            [
             0.6666666666666666,
             "#ed7953"
            ],
            [
             0.7777777777777778,
             "#fb9f3a"
            ],
            [
             0.8888888888888888,
             "#fdca26"
            ],
            [
             1,
             "#f0f921"
            ]
           ]
          },
          "colorway": [
           "#636efa",
           "#EF553B",
           "#00cc96",
           "#ab63fa",
           "#FFA15A",
           "#19d3f3",
           "#FF6692",
           "#B6E880",
           "#FF97FF",
           "#FECB52"
          ],
          "font": {
           "color": "#2a3f5f"
          },
          "geo": {
           "bgcolor": "white",
           "lakecolor": "white",
           "landcolor": "#E5ECF6",
           "showlakes": true,
           "showland": true,
           "subunitcolor": "white"
          },
          "hoverlabel": {
           "align": "left"
          },
          "hovermode": "closest",
          "mapbox": {
           "style": "light"
          },
          "paper_bgcolor": "white",
          "plot_bgcolor": "#E5ECF6",
          "polar": {
           "angularaxis": {
            "gridcolor": "white",
            "linecolor": "white",
            "ticks": ""
           },
           "bgcolor": "#E5ECF6",
           "radialaxis": {
            "gridcolor": "white",
            "linecolor": "white",
            "ticks": ""
           }
          },
          "scene": {
           "xaxis": {
            "backgroundcolor": "#E5ECF6",
            "gridcolor": "white",
            "gridwidth": 2,
            "linecolor": "white",
            "showbackground": true,
            "ticks": "",
            "zerolinecolor": "white"
           },
           "yaxis": {
            "backgroundcolor": "#E5ECF6",
            "gridcolor": "white",
            "gridwidth": 2,
            "linecolor": "white",
            "showbackground": true,
            "ticks": "",
            "zerolinecolor": "white"
           },
           "zaxis": {
            "backgroundcolor": "#E5ECF6",
            "gridcolor": "white",
            "gridwidth": 2,
            "linecolor": "white",
            "showbackground": true,
            "ticks": "",
            "zerolinecolor": "white"
           }
          },
          "shapedefaults": {
           "line": {
            "color": "#2a3f5f"
           }
          },
          "ternary": {
           "aaxis": {
            "gridcolor": "white",
            "linecolor": "white",
            "ticks": ""
           },
           "baxis": {
            "gridcolor": "white",
            "linecolor": "white",
            "ticks": ""
           },
           "bgcolor": "#E5ECF6",
           "caxis": {
            "gridcolor": "white",
            "linecolor": "white",
            "ticks": ""
           }
          },
          "title": {
           "x": 0.05
          },
          "xaxis": {
           "automargin": true,
           "gridcolor": "white",
           "linecolor": "white",
           "ticks": "",
           "title": {
            "standoff": 15
           },
           "zerolinecolor": "white",
           "zerolinewidth": 2
          },
          "yaxis": {
           "automargin": true,
           "gridcolor": "white",
           "linecolor": "white",
           "ticks": "",
           "title": {
            "standoff": 15
           },
           "zerolinecolor": "white",
           "zerolinewidth": 2
          }
         }
        },
        "title": {
         "text": "Évolution des Congés Maternité et Paternité avec Écart en Infobulle"
        },
        "updatemenus": [
         {
          "active": 0,
          "buttons": [
           {
            "args": [
             {
              "visible": [
               true,
               false,
               false,
               true,
               false,
               false
              ]
             },
             {
              "title": "Évolution des Congés Maternité/Paternité - Cadre"
             }
            ],
            "label": "Cadre",
            "method": "update"
           },
           {
            "args": [
             {
              "visible": [
               false,
               true,
               false,
               false,
               true,
               false
              ]
             },
             {
              "title": "Évolution des Congés Maternité/Paternité - Maîtrise"
             }
            ],
            "label": "Maîtrise",
            "method": "update"
           },
           {
            "args": [
             {
              "visible": [
               false,
               false,
               true,
               false,
               false,
               true
              ]
             },
             {
              "title": "Évolution des Congés Maternité/Paternité - Exécution"
             }
            ],
            "label": "Exécution",
            "method": "update"
           }
          ],
          "direction": "down",
          "showactive": true,
          "x": 0.17,
          "xanchor": "left",
          "y": 1.15,
          "yanchor": "top"
         }
        ],
        "xaxis": {
         "title": {
          "text": "Année"
         }
        },
        "yaxis": {
         "title": {
          "text": "Nombre d'heures de Congé"
         }
        }
       }
      }
     },
     "metadata": {},
     "output_type": "display_data"
    }
   ],
   "source": [
    "absence_congé_matpat = pd.DataFrame(absence_congé_matpat)\n",
    "\n",
    "# Création du graphique\n",
    "fig = go.Figure()\n",
    "\n",
    "# Ajouter les traces pour Congés Maternité et Paternité\n",
    "for collège in absence_congé_matpat['Collège'].unique():\n",
    "    df_collège = absence_congé_matpat[absence_congé_matpat['Collège'] == collège]\n",
    "    \n",
    "    # Trace pour Congés Maternité\n",
    "    fig.add_trace(go.Scatter(\n",
    "        x=df_collège['Année'],\n",
    "        y=df_collège[\"Nombre d\\'heures moyen de congé maternité par salariée\"],\n",
    "        mode='lines+markers',\n",
    "        name=f' ({collège})',\n",
    "        hovertemplate=\"Nombre d\\'heures moyen de congé maternité par salariée: %{y} heures<br>Écart: %{customdata[0]}%\",\n",
    "        customdata=df_collège[[\"Ecart en pourcentage du temps d'absence pour congé maternité/paternité\"]].values  # Affichage de l'écart dans l'infobulle\n",
    "    ))\n",
    "    \n",
    "    # Trace pour Congés Paternité\n",
    "    fig.add_trace(go.Scatter(\n",
    "        x=df_collège['Année'],\n",
    "        y=df_collège[\"Nombre d\\'heures moyen de congé paternité par salarié\"],\n",
    "        mode='lines+markers',\n",
    "        name=f'Congés Paternité ({collège})',\n",
    "        hovertemplate=\"Nombre d\\'heures moyen de congé paternité par salarié: %{y} heures<br>Écart: %{customdata[0]}%\",\n",
    "        customdata=df_collège[[\"Ecart en pourcentage du temps d'absence pour congé maternité/paternité\"]].values\n",
    "    ))\n",
    "\n",
    "# Ajouter un menu déroulant pour sélectionner le Collège\n",
    "buttons = [\n",
    "    {'label': collège, 'method': 'update', 'args': [{'visible': [collège == collège_name for collège_name in absence_congé_matpat['Collège'].unique()]*2},\n",
    "                                                  {'title': f'Évolution des Congés Maternité/Paternité - {collège}'}]} \n",
    "    for collège in absence_congé_matpat['Collège'].unique()\n",
    "]\n",
    "\n",
    "fig.update_layout(\n",
    "    title=\"Évolution des Congés Maternité et Paternité avec Écart en Infobulle\",\n",
    "    updatemenus=[{\n",
    "        'buttons': buttons,\n",
    "        'direction': 'down',\n",
    "        'showactive': True,\n",
    "        'active': 0,\n",
    "        'x': 0.17,\n",
    "        'xanchor': 'left',\n",
    "        'y': 1.15,\n",
    "        'yanchor': 'top'\n",
    "    }],\n",
    "    xaxis_title=\"Année\",\n",
    "    yaxis_title=\"Nombre d'heures de Congé\",\n",
    ")\n",
    "fig.show()"
   ]
  },
  {
   "cell_type": "code",
   "execution_count": 105,
   "metadata": {},
   "outputs": [],
   "source": [
    "tempspartiel = autrescdt[autrescdt[\"Indicateur\"] == \"Salariés à temps partiel en décembre\"]\n",
    "tempspartiel = tempspartiel[tempspartiel[\"Type de contrat\"] == \"Statutaires\"]\n",
    "tempspartiel = tempspartiel.drop(columns=[\"Perimètre juridique\", \"Perimètre spatial\", \"Spatial perimeter\", \"Indicator\", \"Type of contract\", \"Type de contrat\",\n",
    "                              \"Employee category\", \"Gender\", \"Unité\", \"Unit\", \"Chapitre du bilan social\", \"Tranche horaire\", \"Time range\"])\n",
    "tempspartiel = tempspartiel.groupby([\"Année\", \"Collège\", \"Genre\"]).sum().reset_index().drop(columns=[\"Indicateur\"])\n",
    "tempspartiel[\"Collège\"] = tempspartiel[\"Collège\"].str.replace(\"Execution\", \"Exécution\")\n",
    "tempspartiel[\"Collège\"] = tempspartiel[\"Collège\"].str.replace(\"Maitrise\", \"Maîtrise\")\n"
   ]
  },
  {
   "cell_type": "code",
   "execution_count": 106,
   "metadata": {},
   "outputs": [],
   "source": [
    "tempspartiel_homme=tempspartiel[tempspartiel[\"Genre\"] == \"Homme\"]\n",
    "tempspartiel_femme=tempspartiel[tempspartiel[\"Genre\"] == \"Femme\"]\n",
    "tempspartiel_merge=pd.merge(tempspartiel_femme, tempspartiel_homme, on=[\"Année\", \"Collège\"])"
   ]
  },
  {
   "cell_type": "code",
   "execution_count": 107,
   "metadata": {},
   "outputs": [],
   "source": [
    "tempspartiel_merge = tempspartiel_merge.rename(columns={\"Valeur_x\":\"Nombre de salariées femme en temps partiels\",\"Valeur_y\":\"Nombre de salariés homme en temps partiels\"})\n",
    "tempspartiel_merge = tempspartiel_merge.drop(columns=[\"Genre_x\", \"Genre_y\"])"
   ]
  },
  {
   "cell_type": "code",
   "execution_count": 118,
   "metadata": {},
   "outputs": [],
   "source": [
    "temps_partiel=pd.merge(tempspartiel_merge, effectif_total, on=[\"Année\", \"Collège\"])\n",
    "temps_partiel[\"Proportion de femmes en temps partiels\"]=100*temps_partiel[\"Nombre de salariées femme en temps partiels\"]/temps_partiel[\"Nombre de salariés femme\"]\n",
    "temps_partiel[\"Proportion d'hommes en temps partiels\"]=100*temps_partiel[\"Nombre de salariés homme en temps partiels\"]/temps_partiel[\"Nombre de salariés homme\"]\n"
   ]
  },
  {
   "cell_type": "code",
   "execution_count": 119,
   "metadata": {},
   "outputs": [],
   "source": [
    "temps_partiel = temps_partiel.drop(columns = [\"Nombre de salariées femme en temps partiels\", \"Nombre de salariés homme en temps partiels\", \"Nombre de salariés femme\",\n",
    "                             \"Nombre de salariés homme\"])"
   ]
  },
  {
   "cell_type": "code",
   "execution_count": 135,
   "metadata": {},
   "outputs": [
    {
     "data": {
      "text/html": [
       "<div>\n",
       "<style scoped>\n",
       "    .dataframe tbody tr th:only-of-type {\n",
       "        vertical-align: middle;\n",
       "    }\n",
       "\n",
       "    .dataframe tbody tr th {\n",
       "        vertical-align: top;\n",
       "    }\n",
       "\n",
       "    .dataframe thead th {\n",
       "        text-align: right;\n",
       "    }\n",
       "</style>\n",
       "<table border=\"1\" class=\"dataframe\">\n",
       "  <thead>\n",
       "    <tr style=\"text-align: right;\">\n",
       "      <th></th>\n",
       "      <th>Année</th>\n",
       "      <th>Collège</th>\n",
       "      <th>proportion de femmes</th>\n",
       "      <th>Proportion de femmes en temps partiels</th>\n",
       "      <th>Proportion d'hommes en temps partiels</th>\n",
       "      <th>proportion d'hommes</th>\n",
       "      <th>Proportion d'hommes en temps complet</th>\n",
       "      <th>Proportion de femmes en temps complet</th>\n",
       "    </tr>\n",
       "  </thead>\n",
       "  <tbody>\n",
       "    <tr>\n",
       "      <th>0</th>\n",
       "      <td>2017</td>\n",
       "      <td>Cadre</td>\n",
       "      <td>0.29</td>\n",
       "      <td>0.0202</td>\n",
       "      <td>0.0043</td>\n",
       "      <td>0.71</td>\n",
       "      <td>0.9957</td>\n",
       "      <td>0.9798</td>\n",
       "    </tr>\n",
       "    <tr>\n",
       "      <th>1</th>\n",
       "      <td>2017</td>\n",
       "      <td>Exécution</td>\n",
       "      <td>0.39</td>\n",
       "      <td>0.2947</td>\n",
       "      <td>0.0203</td>\n",
       "      <td>0.61</td>\n",
       "      <td>0.9797</td>\n",
       "      <td>0.7053</td>\n",
       "    </tr>\n",
       "    <tr>\n",
       "      <th>2</th>\n",
       "      <td>2017</td>\n",
       "      <td>Maîtrise</td>\n",
       "      <td>0.29</td>\n",
       "      <td>0.1296</td>\n",
       "      <td>0.0146</td>\n",
       "      <td>0.71</td>\n",
       "      <td>0.9854</td>\n",
       "      <td>0.8704</td>\n",
       "    </tr>\n",
       "    <tr>\n",
       "      <th>3</th>\n",
       "      <td>2018</td>\n",
       "      <td>Cadre</td>\n",
       "      <td>0.29</td>\n",
       "      <td>0.0201</td>\n",
       "      <td>0.0041</td>\n",
       "      <td>0.71</td>\n",
       "      <td>0.9959</td>\n",
       "      <td>0.9799</td>\n",
       "    </tr>\n",
       "    <tr>\n",
       "      <th>4</th>\n",
       "      <td>2018</td>\n",
       "      <td>Exécution</td>\n",
       "      <td>0.38</td>\n",
       "      <td>0.3221</td>\n",
       "      <td>0.0211</td>\n",
       "      <td>0.62</td>\n",
       "      <td>0.9789</td>\n",
       "      <td>0.6779</td>\n",
       "    </tr>\n",
       "    <tr>\n",
       "      <th>5</th>\n",
       "      <td>2018</td>\n",
       "      <td>Maîtrise</td>\n",
       "      <td>0.29</td>\n",
       "      <td>0.1325</td>\n",
       "      <td>0.0148</td>\n",
       "      <td>0.71</td>\n",
       "      <td>0.9852</td>\n",
       "      <td>0.8675</td>\n",
       "    </tr>\n",
       "    <tr>\n",
       "      <th>6</th>\n",
       "      <td>2019</td>\n",
       "      <td>Cadre</td>\n",
       "      <td>0.30</td>\n",
       "      <td>0.0202</td>\n",
       "      <td>0.0044</td>\n",
       "      <td>0.70</td>\n",
       "      <td>0.9956</td>\n",
       "      <td>0.9798</td>\n",
       "    </tr>\n",
       "    <tr>\n",
       "      <th>7</th>\n",
       "      <td>2019</td>\n",
       "      <td>Exécution</td>\n",
       "      <td>0.37</td>\n",
       "      <td>0.3369</td>\n",
       "      <td>0.0229</td>\n",
       "      <td>0.63</td>\n",
       "      <td>0.9771</td>\n",
       "      <td>0.6631</td>\n",
       "    </tr>\n",
       "    <tr>\n",
       "      <th>8</th>\n",
       "      <td>2019</td>\n",
       "      <td>Maîtrise</td>\n",
       "      <td>0.28</td>\n",
       "      <td>0.1355</td>\n",
       "      <td>0.0143</td>\n",
       "      <td>0.72</td>\n",
       "      <td>0.9857</td>\n",
       "      <td>0.8645</td>\n",
       "    </tr>\n",
       "    <tr>\n",
       "      <th>9</th>\n",
       "      <td>2020</td>\n",
       "      <td>Cadre</td>\n",
       "      <td>0.30</td>\n",
       "      <td>0.0196</td>\n",
       "      <td>0.0039</td>\n",
       "      <td>0.70</td>\n",
       "      <td>0.9961</td>\n",
       "      <td>0.9804</td>\n",
       "    </tr>\n",
       "    <tr>\n",
       "      <th>10</th>\n",
       "      <td>2020</td>\n",
       "      <td>Exécution</td>\n",
       "      <td>0.36</td>\n",
       "      <td>0.3225</td>\n",
       "      <td>0.0211</td>\n",
       "      <td>0.64</td>\n",
       "      <td>0.9789</td>\n",
       "      <td>0.6775</td>\n",
       "    </tr>\n",
       "    <tr>\n",
       "      <th>11</th>\n",
       "      <td>2020</td>\n",
       "      <td>Maîtrise</td>\n",
       "      <td>0.28</td>\n",
       "      <td>0.1292</td>\n",
       "      <td>0.0135</td>\n",
       "      <td>0.72</td>\n",
       "      <td>0.9865</td>\n",
       "      <td>0.8708</td>\n",
       "    </tr>\n",
       "    <tr>\n",
       "      <th>12</th>\n",
       "      <td>2021</td>\n",
       "      <td>Cadre</td>\n",
       "      <td>0.30</td>\n",
       "      <td>0.0179</td>\n",
       "      <td>0.0037</td>\n",
       "      <td>0.70</td>\n",
       "      <td>0.9963</td>\n",
       "      <td>0.9821</td>\n",
       "    </tr>\n",
       "    <tr>\n",
       "      <th>13</th>\n",
       "      <td>2021</td>\n",
       "      <td>Exécution</td>\n",
       "      <td>0.34</td>\n",
       "      <td>0.3048</td>\n",
       "      <td>0.0194</td>\n",
       "      <td>0.66</td>\n",
       "      <td>0.9806</td>\n",
       "      <td>0.6952</td>\n",
       "    </tr>\n",
       "    <tr>\n",
       "      <th>14</th>\n",
       "      <td>2021</td>\n",
       "      <td>Maîtrise</td>\n",
       "      <td>0.27</td>\n",
       "      <td>0.1198</td>\n",
       "      <td>0.0133</td>\n",
       "      <td>0.73</td>\n",
       "      <td>0.9867</td>\n",
       "      <td>0.8802</td>\n",
       "    </tr>\n",
       "    <tr>\n",
       "      <th>15</th>\n",
       "      <td>2022</td>\n",
       "      <td>Cadre</td>\n",
       "      <td>0.30</td>\n",
       "      <td>0.0189</td>\n",
       "      <td>0.0039</td>\n",
       "      <td>0.70</td>\n",
       "      <td>0.9961</td>\n",
       "      <td>0.9811</td>\n",
       "    </tr>\n",
       "    <tr>\n",
       "      <th>16</th>\n",
       "      <td>2022</td>\n",
       "      <td>Exécution</td>\n",
       "      <td>0.32</td>\n",
       "      <td>0.2755</td>\n",
       "      <td>0.0189</td>\n",
       "      <td>0.68</td>\n",
       "      <td>0.9811</td>\n",
       "      <td>0.7245</td>\n",
       "    </tr>\n",
       "    <tr>\n",
       "      <th>17</th>\n",
       "      <td>2022</td>\n",
       "      <td>Maîtrise</td>\n",
       "      <td>0.27</td>\n",
       "      <td>0.1146</td>\n",
       "      <td>0.0122</td>\n",
       "      <td>0.73</td>\n",
       "      <td>0.9878</td>\n",
       "      <td>0.8854</td>\n",
       "    </tr>\n",
       "    <tr>\n",
       "      <th>18</th>\n",
       "      <td>2023</td>\n",
       "      <td>Cadre</td>\n",
       "      <td>0.31</td>\n",
       "      <td>0.0175</td>\n",
       "      <td>0.0046</td>\n",
       "      <td>0.69</td>\n",
       "      <td>0.9954</td>\n",
       "      <td>0.9825</td>\n",
       "    </tr>\n",
       "    <tr>\n",
       "      <th>19</th>\n",
       "      <td>2023</td>\n",
       "      <td>Exécution</td>\n",
       "      <td>0.32</td>\n",
       "      <td>0.2406</td>\n",
       "      <td>0.0176</td>\n",
       "      <td>0.68</td>\n",
       "      <td>0.9824</td>\n",
       "      <td>0.7594</td>\n",
       "    </tr>\n",
       "    <tr>\n",
       "      <th>20</th>\n",
       "      <td>2023</td>\n",
       "      <td>Maîtrise</td>\n",
       "      <td>0.27</td>\n",
       "      <td>0.1134</td>\n",
       "      <td>0.0113</td>\n",
       "      <td>0.73</td>\n",
       "      <td>0.9887</td>\n",
       "      <td>0.8866</td>\n",
       "    </tr>\n",
       "  </tbody>\n",
       "</table>\n",
       "</div>"
      ],
      "text/plain": [
       "    Année    Collège  proportion de femmes  \\\n",
       "0    2017      Cadre                  0.29   \n",
       "1    2017  Exécution                  0.39   \n",
       "2    2017   Maîtrise                  0.29   \n",
       "3    2018      Cadre                  0.29   \n",
       "4    2018  Exécution                  0.38   \n",
       "5    2018   Maîtrise                  0.29   \n",
       "6    2019      Cadre                  0.30   \n",
       "7    2019  Exécution                  0.37   \n",
       "8    2019   Maîtrise                  0.28   \n",
       "9    2020      Cadre                  0.30   \n",
       "10   2020  Exécution                  0.36   \n",
       "11   2020   Maîtrise                  0.28   \n",
       "12   2021      Cadre                  0.30   \n",
       "13   2021  Exécution                  0.34   \n",
       "14   2021   Maîtrise                  0.27   \n",
       "15   2022      Cadre                  0.30   \n",
       "16   2022  Exécution                  0.32   \n",
       "17   2022   Maîtrise                  0.27   \n",
       "18   2023      Cadre                  0.31   \n",
       "19   2023  Exécution                  0.32   \n",
       "20   2023   Maîtrise                  0.27   \n",
       "\n",
       "    Proportion de femmes en temps partiels  \\\n",
       "0                                   0.0202   \n",
       "1                                   0.2947   \n",
       "2                                   0.1296   \n",
       "3                                   0.0201   \n",
       "4                                   0.3221   \n",
       "5                                   0.1325   \n",
       "6                                   0.0202   \n",
       "7                                   0.3369   \n",
       "8                                   0.1355   \n",
       "9                                   0.0196   \n",
       "10                                  0.3225   \n",
       "11                                  0.1292   \n",
       "12                                  0.0179   \n",
       "13                                  0.3048   \n",
       "14                                  0.1198   \n",
       "15                                  0.0189   \n",
       "16                                  0.2755   \n",
       "17                                  0.1146   \n",
       "18                                  0.0175   \n",
       "19                                  0.2406   \n",
       "20                                  0.1134   \n",
       "\n",
       "    Proportion d'hommes en temps partiels  proportion d'hommes  \\\n",
       "0                                  0.0043                 0.71   \n",
       "1                                  0.0203                 0.61   \n",
       "2                                  0.0146                 0.71   \n",
       "3                                  0.0041                 0.71   \n",
       "4                                  0.0211                 0.62   \n",
       "5                                  0.0148                 0.71   \n",
       "6                                  0.0044                 0.70   \n",
       "7                                  0.0229                 0.63   \n",
       "8                                  0.0143                 0.72   \n",
       "9                                  0.0039                 0.70   \n",
       "10                                 0.0211                 0.64   \n",
       "11                                 0.0135                 0.72   \n",
       "12                                 0.0037                 0.70   \n",
       "13                                 0.0194                 0.66   \n",
       "14                                 0.0133                 0.73   \n",
       "15                                 0.0039                 0.70   \n",
       "16                                 0.0189                 0.68   \n",
       "17                                 0.0122                 0.73   \n",
       "18                                 0.0046                 0.69   \n",
       "19                                 0.0176                 0.68   \n",
       "20                                 0.0113                 0.73   \n",
       "\n",
       "    Proportion d'hommes en temps complet  \\\n",
       "0                                 0.9957   \n",
       "1                                 0.9797   \n",
       "2                                 0.9854   \n",
       "3                                 0.9959   \n",
       "4                                 0.9789   \n",
       "5                                 0.9852   \n",
       "6                                 0.9956   \n",
       "7                                 0.9771   \n",
       "8                                 0.9857   \n",
       "9                                 0.9961   \n",
       "10                                0.9789   \n",
       "11                                0.9865   \n",
       "12                                0.9963   \n",
       "13                                0.9806   \n",
       "14                                0.9867   \n",
       "15                                0.9961   \n",
       "16                                0.9811   \n",
       "17                                0.9878   \n",
       "18                                0.9954   \n",
       "19                                0.9824   \n",
       "20                                0.9887   \n",
       "\n",
       "    Proportion de femmes en temps complet  \n",
       "0                                  0.9798  \n",
       "1                                  0.7053  \n",
       "2                                  0.8704  \n",
       "3                                  0.9799  \n",
       "4                                  0.6779  \n",
       "5                                  0.8675  \n",
       "6                                  0.9798  \n",
       "7                                  0.6631  \n",
       "8                                  0.8645  \n",
       "9                                  0.9804  \n",
       "10                                 0.6775  \n",
       "11                                 0.8708  \n",
       "12                                 0.9821  \n",
       "13                                 0.6952  \n",
       "14                                 0.8802  \n",
       "15                                 0.9811  \n",
       "16                                 0.7245  \n",
       "17                                 0.8854  \n",
       "18                                 0.9825  \n",
       "19                                 0.7594  \n",
       "20                                 0.8866  "
      ]
     },
     "execution_count": 135,
     "metadata": {},
     "output_type": "execute_result"
    }
   ],
   "source": [
    "temps_partiel"
   ]
  },
  {
   "cell_type": "code",
   "execution_count": 134,
   "metadata": {},
   "outputs": [],
   "source": [
    "temps_partiel[\"Proportion de femmes en temps complet\"]=1-temps_partiel[\"Proportion de femmes en temps partiels\"]\n"
   ]
  },
  {
   "cell_type": "code",
   "execution_count": 136,
   "metadata": {},
   "outputs": [],
   "source": [
    "temps_partiel.to_csv(\"temps_partiel.csv\")"
   ]
  },
  {
   "cell_type": "code",
   "execution_count": 110,
   "metadata": {},
   "outputs": [],
   "source": [
    "def temps_partiel_csp_annee(college, annee) :\n",
    "    df = temps_partiel[(temps_partiel[\"Collège\"] == college) & (temps_partiel[\"Année\"] == annee)]\n",
    "    df = df.drop(columns=[\"Année\", \"Collège\"])\n",
    "    df[\"Proportion de femmes en temps partiels\"] = df[\"Proportion de femmes en temps partiels\"]/100\n",
    "    df[\"Proportion d'hommes en temps partiels\"] = df[\"Proportion d'hommes en temps partiels\"]/100\n",
    "    return df"
   ]
  },
  {
   "cell_type": "code",
   "execution_count": 111,
   "metadata": {},
   "outputs": [
    {
     "data": {
      "text/html": [
       "<div>\n",
       "<style scoped>\n",
       "    .dataframe tbody tr th:only-of-type {\n",
       "        vertical-align: middle;\n",
       "    }\n",
       "\n",
       "    .dataframe tbody tr th {\n",
       "        vertical-align: top;\n",
       "    }\n",
       "\n",
       "    .dataframe thead th {\n",
       "        text-align: right;\n",
       "    }\n",
       "</style>\n",
       "<table border=\"1\" class=\"dataframe\">\n",
       "  <thead>\n",
       "    <tr style=\"text-align: right;\">\n",
       "      <th></th>\n",
       "      <th>Proportion de femmes en temps partiels</th>\n",
       "      <th>Proportion d'hommes en temps partiels</th>\n",
       "    </tr>\n",
       "  </thead>\n",
       "  <tbody>\n",
       "    <tr>\n",
       "      <th>12</th>\n",
       "      <td>0.017867</td>\n",
       "      <td>0.003718</td>\n",
       "    </tr>\n",
       "  </tbody>\n",
       "</table>\n",
       "</div>"
      ],
      "text/plain": [
       "    Proportion de femmes en temps partiels  \\\n",
       "12                                0.017867   \n",
       "\n",
       "    Proportion d'hommes en temps partiels  \n",
       "12                               0.003718  "
      ]
     },
     "execution_count": 111,
     "metadata": {},
     "output_type": "execute_result"
    }
   ],
   "source": [
    "temps_partiel_csp_annee(\"Cadre\", 2021)"
   ]
  },
  {
   "cell_type": "code",
   "execution_count": 112,
   "metadata": {},
   "outputs": [],
   "source": [
    "def effectif_total_csp_annee(college, annee):\n",
    "    df = effectif_total[(effectif_total[\"Collège\"] == college) & (effectif_total[\"Année\"] == annee)]\n",
    "    df = df.drop(columns=[\"Année\", \"Collège\", \"Nombre de salariés femme\", \"Nombre de salariés homme\"])\n",
    "    df[\"proportion d'hommes\"]=1-df[\"proportion de femmes\"]\n",
    "    return df"
   ]
  },
  {
   "cell_type": "code",
   "execution_count": 113,
   "metadata": {},
   "outputs": [
    {
     "data": {
      "text/html": [
       "<div>\n",
       "<style scoped>\n",
       "    .dataframe tbody tr th:only-of-type {\n",
       "        vertical-align: middle;\n",
       "    }\n",
       "\n",
       "    .dataframe tbody tr th {\n",
       "        vertical-align: top;\n",
       "    }\n",
       "\n",
       "    .dataframe thead th {\n",
       "        text-align: right;\n",
       "    }\n",
       "</style>\n",
       "<table border=\"1\" class=\"dataframe\">\n",
       "  <thead>\n",
       "    <tr style=\"text-align: right;\">\n",
       "      <th></th>\n",
       "      <th>Proportion de femmes en temps partiels</th>\n",
       "      <th>Proportion d'hommes en temps partiels</th>\n",
       "    </tr>\n",
       "  </thead>\n",
       "  <tbody>\n",
       "    <tr>\n",
       "      <th>12</th>\n",
       "      <td>0.017867</td>\n",
       "      <td>0.003718</td>\n",
       "    </tr>\n",
       "  </tbody>\n",
       "</table>\n",
       "</div>"
      ],
      "text/plain": [
       "    Proportion de femmes en temps partiels  \\\n",
       "12                                0.017867   \n",
       "\n",
       "    Proportion d'hommes en temps partiels  \n",
       "12                               0.003718  "
      ]
     },
     "execution_count": 113,
     "metadata": {},
     "output_type": "execute_result"
    }
   ],
   "source": [
    "temps_partiel_csp_annee(\"Cadre\", 2021)"
   ]
  },
  {
   "cell_type": "code",
   "execution_count": 114,
   "metadata": {},
   "outputs": [
    {
     "ename": "IndentationError",
     "evalue": "unexpected indent (1212531545.py, line 14)",
     "output_type": "error",
     "traceback": [
      "\u001b[1;36m  Cell \u001b[1;32mIn[114], line 14\u001b[1;36m\u001b[0m\n\u001b[1;33m    return(df)\u001b[0m\n\u001b[1;37m    ^\u001b[0m\n\u001b[1;31mIndentationError\u001b[0m\u001b[1;31m:\u001b[0m unexpected indent\n"
     ]
    }
   ],
   "source": [
    "def concat_csp_annee(college, annee) :  \n",
    "    df = pd.concat([effectif_total_csp_annee(college, annee),temps_partiel_csp_annee(college, annee)], axis=1)\n",
    "    df[\"Proportion d'hommes en temps complet\"]= 1-df[\"Proportion d'hommes en temps partiels\"]\n",
    "    df[\"Proportion de femmes en temps complet\"]= 1-df[\"Proportion de femmes en temps partiels\"]\n",
    "    fig = px.treemap(\n",
    "    df,\n",
    "    path=[\"Genre\", \"Statut\"],  # Hiérarchie\n",
    "    values=\"Proportion\",  # Taille des blocs\n",
    "    color=\"Genre\",\n",
    "    color_discrete_map={\"Homme\": \"blue\", \"Femme\": \"pink\"},\n",
    "    title=\"Répartition des Hommes et Femmes selon le Temps Partiel/Complet\"\n",
    ")\n",
    "fig.show()\n",
    "    return(df)"
   ]
  },
  {
   "cell_type": "code",
   "execution_count": 82,
   "metadata": {},
   "outputs": [
    {
     "data": {
      "text/html": [
       "<div>\n",
       "<style scoped>\n",
       "    .dataframe tbody tr th:only-of-type {\n",
       "        vertical-align: middle;\n",
       "    }\n",
       "\n",
       "    .dataframe tbody tr th {\n",
       "        vertical-align: top;\n",
       "    }\n",
       "\n",
       "    .dataframe thead th {\n",
       "        text-align: right;\n",
       "    }\n",
       "</style>\n",
       "<table border=\"1\" class=\"dataframe\">\n",
       "  <thead>\n",
       "    <tr style=\"text-align: right;\">\n",
       "      <th></th>\n",
       "      <th>proportion de femmes</th>\n",
       "      <th>proportion d'hommes</th>\n",
       "      <th>Proportion de femmes en temps partiels</th>\n",
       "      <th>Proportion d'hommes en temps partiels</th>\n",
       "      <th>Proportion d'hommes en temps complet</th>\n",
       "      <th>Proportion de femmes en temps complet</th>\n",
       "    </tr>\n",
       "  </thead>\n",
       "  <tbody>\n",
       "    <tr>\n",
       "      <th>12</th>\n",
       "      <td>0.302069</td>\n",
       "      <td>0.697931</td>\n",
       "      <td>0.017867</td>\n",
       "      <td>0.003718</td>\n",
       "      <td>0.996282</td>\n",
       "      <td>0.982133</td>\n",
       "    </tr>\n",
       "  </tbody>\n",
       "</table>\n",
       "</div>"
      ],
      "text/plain": [
       "    proportion de femmes  proportion d'hommes  \\\n",
       "12              0.302069             0.697931   \n",
       "\n",
       "    Proportion de femmes en temps partiels  \\\n",
       "12                                0.017867   \n",
       "\n",
       "    Proportion d'hommes en temps partiels  \\\n",
       "12                               0.003718   \n",
       "\n",
       "    Proportion d'hommes en temps complet  \\\n",
       "12                              0.996282   \n",
       "\n",
       "    Proportion de femmes en temps complet  \n",
       "12                               0.982133  "
      ]
     },
     "execution_count": 82,
     "metadata": {},
     "output_type": "execute_result"
    }
   ],
   "source": [
    "fig = px.treemap(\n",
    "    df_long,\n",
    "    path=[\"Genre\", \"Statut\"],  # Hiérarchie\n",
    "    values=\"Proportion\",  # Taille des blocs\n",
    "    color=\"Genre\",\n",
    "    color_discrete_map={\"Homme\": \"blue\", \"Femme\": \"pink\"},\n",
    "    title=\"Répartition des Hommes et Femmes selon le Temps Partiel/Complet\"\n",
    ")\n",
    "\n",
    "fig.show()"
   ]
  },
  {
   "cell_type": "code",
   "execution_count": 34,
   "metadata": {},
   "outputs": [],
   "source": [
    "\n",
    "def plot_mosaic(annee, college):\n",
    "    df_filtered = temps_partiel[(temps_partiel[\"Année\"] == annee) & (temps_partiel[\"Collège\"] == college)]\n",
    "    fig = px.treemap(\n",
    "        df_filtered,\n",
    "        path=[\"Genre\"],\n",
    "        values=\"Proportion de femmes en temps partiels\",\n",
    "        color=\"Genre\",\n",
    "        color_discrete_map={\"Homme\": \"blue\", \"Femme\": \"pink\"},\n",
    "        title=f\"Taux de Temps Partiel par Genre et CSP en {annee}\"\n",
    "    )\n",
    "\n",
    "    fig.show()"
   ]
  },
  {
   "cell_type": "code",
   "execution_count": 35,
   "metadata": {},
   "outputs": [
    {
     "ename": "ValueError",
     "evalue": "Value of 'values' is not the name of a column in 'data_frame'. Expected one of ['Année', 'Collège', 'Proportion de femmes en temps partiels', \"Proportion d'hommes en temps partiels\"] but received: Taux_Temps_Partiel",
     "output_type": "error",
     "traceback": [
      "\u001b[1;31m---------------------------------------------------------------------------\u001b[0m",
      "\u001b[1;31mValueError\u001b[0m                                Traceback (most recent call last)",
      "Cell \u001b[1;32mIn[35], line 1\u001b[0m\n\u001b[1;32m----> 1\u001b[0m \u001b[43mplot_mosaic\u001b[49m\u001b[43m(\u001b[49m\u001b[38;5;241;43m2021\u001b[39;49m\u001b[43m,\u001b[49m\u001b[43m \u001b[49m\u001b[38;5;124;43m'\u001b[39;49m\u001b[38;5;124;43mCadre\u001b[39;49m\u001b[38;5;124;43m'\u001b[39;49m\u001b[43m)\u001b[49m\n",
      "Cell \u001b[1;32mIn[34], line 3\u001b[0m, in \u001b[0;36mplot_mosaic\u001b[1;34m(annee, college)\u001b[0m\n\u001b[0;32m      1\u001b[0m \u001b[38;5;28;01mdef\u001b[39;00m \u001b[38;5;21mplot_mosaic\u001b[39m(annee, college):\n\u001b[0;32m      2\u001b[0m     df_filtered \u001b[38;5;241m=\u001b[39m temps_partiel[(temps_partiel[\u001b[38;5;124m\"\u001b[39m\u001b[38;5;124mAnnée\u001b[39m\u001b[38;5;124m\"\u001b[39m] \u001b[38;5;241m==\u001b[39m annee) \u001b[38;5;241m&\u001b[39m (temps_partiel[\u001b[38;5;124m\"\u001b[39m\u001b[38;5;124mCollège\u001b[39m\u001b[38;5;124m\"\u001b[39m] \u001b[38;5;241m==\u001b[39m college)]\n\u001b[1;32m----> 3\u001b[0m     fig \u001b[38;5;241m=\u001b[39m \u001b[43mpx\u001b[49m\u001b[38;5;241;43m.\u001b[39;49m\u001b[43mtreemap\u001b[49m\u001b[43m(\u001b[49m\n\u001b[0;32m      4\u001b[0m \u001b[43m        \u001b[49m\u001b[43mdf_filtered\u001b[49m\u001b[43m,\u001b[49m\n\u001b[0;32m      5\u001b[0m \u001b[43m        \u001b[49m\u001b[43mpath\u001b[49m\u001b[38;5;241;43m=\u001b[39;49m\u001b[43m[\u001b[49m\u001b[38;5;124;43m\"\u001b[39;49m\u001b[38;5;124;43mGenre\u001b[39;49m\u001b[38;5;124;43m\"\u001b[39;49m\u001b[43m]\u001b[49m\u001b[43m,\u001b[49m\n\u001b[0;32m      6\u001b[0m \u001b[43m        \u001b[49m\u001b[43mvalues\u001b[49m\u001b[38;5;241;43m=\u001b[39;49m\u001b[38;5;124;43m\"\u001b[39;49m\u001b[38;5;124;43mTaux_Temps_Partiel\u001b[39;49m\u001b[38;5;124;43m\"\u001b[39;49m\u001b[43m,\u001b[49m\n\u001b[0;32m      7\u001b[0m \u001b[43m        \u001b[49m\u001b[43mcolor\u001b[49m\u001b[38;5;241;43m=\u001b[39;49m\u001b[38;5;124;43m\"\u001b[39;49m\u001b[38;5;124;43mGenre\u001b[39;49m\u001b[38;5;124;43m\"\u001b[39;49m\u001b[43m,\u001b[49m\n\u001b[0;32m      8\u001b[0m \u001b[43m        \u001b[49m\u001b[43mcolor_discrete_map\u001b[49m\u001b[38;5;241;43m=\u001b[39;49m\u001b[43m{\u001b[49m\u001b[38;5;124;43m\"\u001b[39;49m\u001b[38;5;124;43mHomme\u001b[39;49m\u001b[38;5;124;43m\"\u001b[39;49m\u001b[43m:\u001b[49m\u001b[43m \u001b[49m\u001b[38;5;124;43m\"\u001b[39;49m\u001b[38;5;124;43mblue\u001b[39;49m\u001b[38;5;124;43m\"\u001b[39;49m\u001b[43m,\u001b[49m\u001b[43m \u001b[49m\u001b[38;5;124;43m\"\u001b[39;49m\u001b[38;5;124;43mFemme\u001b[39;49m\u001b[38;5;124;43m\"\u001b[39;49m\u001b[43m:\u001b[49m\u001b[43m \u001b[49m\u001b[38;5;124;43m\"\u001b[39;49m\u001b[38;5;124;43mpink\u001b[39;49m\u001b[38;5;124;43m\"\u001b[39;49m\u001b[43m}\u001b[49m\u001b[43m,\u001b[49m\n\u001b[0;32m      9\u001b[0m \u001b[43m        \u001b[49m\u001b[43mtitle\u001b[49m\u001b[38;5;241;43m=\u001b[39;49m\u001b[38;5;124;43mf\u001b[39;49m\u001b[38;5;124;43m\"\u001b[39;49m\u001b[38;5;124;43mTaux de Temps Partiel par Genre et CSP en \u001b[39;49m\u001b[38;5;132;43;01m{\u001b[39;49;00m\u001b[43mannee\u001b[49m\u001b[38;5;132;43;01m}\u001b[39;49;00m\u001b[38;5;124;43m\"\u001b[39;49m\n\u001b[0;32m     10\u001b[0m \u001b[43m    \u001b[49m\u001b[43m)\u001b[49m\n\u001b[0;32m     12\u001b[0m     fig\u001b[38;5;241m.\u001b[39mshow()\n",
      "File \u001b[1;32mc:\\Users\\martc\\AppData\\Local\\Programs\\Python\\Python313\\Lib\\site-packages\\plotly\\express\\_chart_types.py:1738\u001b[0m, in \u001b[0;36mtreemap\u001b[1;34m(data_frame, names, values, parents, ids, path, color, color_continuous_scale, range_color, color_continuous_midpoint, color_discrete_sequence, color_discrete_map, hover_name, hover_data, custom_data, labels, title, template, width, height, branchvalues, maxdepth)\u001b[0m\n\u001b[0;32m   1736\u001b[0m \u001b[38;5;28;01mif\u001b[39;00m path \u001b[38;5;129;01mis\u001b[39;00m \u001b[38;5;129;01mnot\u001b[39;00m \u001b[38;5;28;01mNone\u001b[39;00m \u001b[38;5;129;01mand\u001b[39;00m branchvalues \u001b[38;5;129;01mis\u001b[39;00m \u001b[38;5;28;01mNone\u001b[39;00m:\n\u001b[0;32m   1737\u001b[0m     branchvalues \u001b[38;5;241m=\u001b[39m \u001b[38;5;124m\"\u001b[39m\u001b[38;5;124mtotal\u001b[39m\u001b[38;5;124m\"\u001b[39m\n\u001b[1;32m-> 1738\u001b[0m \u001b[38;5;28;01mreturn\u001b[39;00m \u001b[43mmake_figure\u001b[49m\u001b[43m(\u001b[49m\n\u001b[0;32m   1739\u001b[0m \u001b[43m    \u001b[49m\u001b[43margs\u001b[49m\u001b[38;5;241;43m=\u001b[39;49m\u001b[38;5;28;43mlocals\u001b[39;49m\u001b[43m(\u001b[49m\u001b[43m)\u001b[49m\u001b[43m,\u001b[49m\n\u001b[0;32m   1740\u001b[0m \u001b[43m    \u001b[49m\u001b[43mconstructor\u001b[49m\u001b[38;5;241;43m=\u001b[39;49m\u001b[43mgo\u001b[49m\u001b[38;5;241;43m.\u001b[39;49m\u001b[43mTreemap\u001b[49m\u001b[43m,\u001b[49m\n\u001b[0;32m   1741\u001b[0m \u001b[43m    \u001b[49m\u001b[43mtrace_patch\u001b[49m\u001b[38;5;241;43m=\u001b[39;49m\u001b[38;5;28;43mdict\u001b[39;49m\u001b[43m(\u001b[49m\u001b[43mbranchvalues\u001b[49m\u001b[38;5;241;43m=\u001b[39;49m\u001b[43mbranchvalues\u001b[49m\u001b[43m,\u001b[49m\u001b[43m \u001b[49m\u001b[43mmaxdepth\u001b[49m\u001b[38;5;241;43m=\u001b[39;49m\u001b[43mmaxdepth\u001b[49m\u001b[43m)\u001b[49m\u001b[43m,\u001b[49m\n\u001b[0;32m   1742\u001b[0m \u001b[43m    \u001b[49m\u001b[43mlayout_patch\u001b[49m\u001b[38;5;241;43m=\u001b[39;49m\u001b[43mlayout_patch\u001b[49m\u001b[43m,\u001b[49m\n\u001b[0;32m   1743\u001b[0m \u001b[43m\u001b[49m\u001b[43m)\u001b[49m\n",
      "File \u001b[1;32mc:\\Users\\martc\\AppData\\Local\\Programs\\Python\\Python313\\Lib\\site-packages\\plotly\\express\\_core.py:2117\u001b[0m, in \u001b[0;36mmake_figure\u001b[1;34m(args, constructor, trace_patch, layout_patch)\u001b[0m\n\u001b[0;32m   2114\u001b[0m layout_patch \u001b[38;5;241m=\u001b[39m layout_patch \u001b[38;5;129;01mor\u001b[39;00m {}\n\u001b[0;32m   2115\u001b[0m apply_default_cascade(args)\n\u001b[1;32m-> 2117\u001b[0m args \u001b[38;5;241m=\u001b[39m \u001b[43mbuild_dataframe\u001b[49m\u001b[43m(\u001b[49m\u001b[43margs\u001b[49m\u001b[43m,\u001b[49m\u001b[43m \u001b[49m\u001b[43mconstructor\u001b[49m\u001b[43m)\u001b[49m\n\u001b[0;32m   2118\u001b[0m \u001b[38;5;28;01mif\u001b[39;00m constructor \u001b[38;5;129;01min\u001b[39;00m [go\u001b[38;5;241m.\u001b[39mTreemap, go\u001b[38;5;241m.\u001b[39mSunburst, go\u001b[38;5;241m.\u001b[39mIcicle] \u001b[38;5;129;01mand\u001b[39;00m args[\u001b[38;5;124m\"\u001b[39m\u001b[38;5;124mpath\u001b[39m\u001b[38;5;124m\"\u001b[39m] \u001b[38;5;129;01mis\u001b[39;00m \u001b[38;5;129;01mnot\u001b[39;00m \u001b[38;5;28;01mNone\u001b[39;00m:\n\u001b[0;32m   2119\u001b[0m     args \u001b[38;5;241m=\u001b[39m process_dataframe_hierarchy(args)\n",
      "File \u001b[1;32mc:\\Users\\martc\\AppData\\Local\\Programs\\Python\\Python313\\Lib\\site-packages\\plotly\\express\\_core.py:1513\u001b[0m, in \u001b[0;36mbuild_dataframe\u001b[1;34m(args, constructor)\u001b[0m\n\u001b[0;32m   1510\u001b[0m     args[\u001b[38;5;124m\"\u001b[39m\u001b[38;5;124mcolor\u001b[39m\u001b[38;5;124m\"\u001b[39m] \u001b[38;5;241m=\u001b[39m \u001b[38;5;28;01mNone\u001b[39;00m\n\u001b[0;32m   1511\u001b[0m \u001b[38;5;66;03m# now that things have been prepped, we do the systematic rewriting of `args`\u001b[39;00m\n\u001b[1;32m-> 1513\u001b[0m df_output, wide_id_vars \u001b[38;5;241m=\u001b[39m \u001b[43mprocess_args_into_dataframe\u001b[49m\u001b[43m(\u001b[49m\n\u001b[0;32m   1514\u001b[0m \u001b[43m    \u001b[49m\u001b[43margs\u001b[49m\u001b[43m,\u001b[49m\u001b[43m \u001b[49m\u001b[43mwide_mode\u001b[49m\u001b[43m,\u001b[49m\u001b[43m \u001b[49m\u001b[43mvar_name\u001b[49m\u001b[43m,\u001b[49m\u001b[43m \u001b[49m\u001b[43mvalue_name\u001b[49m\n\u001b[0;32m   1515\u001b[0m \u001b[43m\u001b[49m\u001b[43m)\u001b[49m\n\u001b[0;32m   1517\u001b[0m \u001b[38;5;66;03m# now that `df_output` exists and `args` contains only references, we complete\u001b[39;00m\n\u001b[0;32m   1518\u001b[0m \u001b[38;5;66;03m# the special-case and wide-mode handling by further rewriting args and/or mutating\u001b[39;00m\n\u001b[0;32m   1519\u001b[0m \u001b[38;5;66;03m# df_output\u001b[39;00m\n\u001b[0;32m   1521\u001b[0m count_name \u001b[38;5;241m=\u001b[39m _escape_col_name(df_output, \u001b[38;5;124m\"\u001b[39m\u001b[38;5;124mcount\u001b[39m\u001b[38;5;124m\"\u001b[39m, [var_name, value_name])\n",
      "File \u001b[1;32mc:\\Users\\martc\\AppData\\Local\\Programs\\Python\\Python313\\Lib\\site-packages\\plotly\\express\\_core.py:1234\u001b[0m, in \u001b[0;36mprocess_args_into_dataframe\u001b[1;34m(args, wide_mode, var_name, value_name)\u001b[0m\n\u001b[0;32m   1232\u001b[0m         \u001b[38;5;28;01mif\u001b[39;00m argument \u001b[38;5;241m==\u001b[39m \u001b[38;5;124m\"\u001b[39m\u001b[38;5;124mindex\u001b[39m\u001b[38;5;124m\"\u001b[39m:\n\u001b[0;32m   1233\u001b[0m             err_msg \u001b[38;5;241m+\u001b[39m\u001b[38;5;241m=\u001b[39m \u001b[38;5;124m\"\u001b[39m\u001b[38;5;130;01m\\n\u001b[39;00m\u001b[38;5;124m To use the index, pass it in directly as `df.index`.\u001b[39m\u001b[38;5;124m\"\u001b[39m\n\u001b[1;32m-> 1234\u001b[0m         \u001b[38;5;28;01mraise\u001b[39;00m \u001b[38;5;167;01mValueError\u001b[39;00m(err_msg)\n\u001b[0;32m   1235\u001b[0m \u001b[38;5;28;01melif\u001b[39;00m length \u001b[38;5;129;01mand\u001b[39;00m \u001b[38;5;28mlen\u001b[39m(df_input[argument]) \u001b[38;5;241m!=\u001b[39m length:\n\u001b[0;32m   1236\u001b[0m     \u001b[38;5;28;01mraise\u001b[39;00m \u001b[38;5;167;01mValueError\u001b[39;00m(\n\u001b[0;32m   1237\u001b[0m         \u001b[38;5;124m\"\u001b[39m\u001b[38;5;124mAll arguments should have the same length. \u001b[39m\u001b[38;5;124m\"\u001b[39m\n\u001b[0;32m   1238\u001b[0m         \u001b[38;5;124m\"\u001b[39m\u001b[38;5;124mThe length of column argument `df[\u001b[39m\u001b[38;5;132;01m%s\u001b[39;00m\u001b[38;5;124m]` is \u001b[39m\u001b[38;5;132;01m%d\u001b[39;00m\u001b[38;5;124m, whereas the \u001b[39m\u001b[38;5;124m\"\u001b[39m\n\u001b[1;32m   (...)\u001b[0m\n\u001b[0;32m   1245\u001b[0m         )\n\u001b[0;32m   1246\u001b[0m     )\n",
      "\u001b[1;31mValueError\u001b[0m: Value of 'values' is not the name of a column in 'data_frame'. Expected one of ['Année', 'Collège', 'Proportion de femmes en temps partiels', \"Proportion d'hommes en temps partiels\"] but received: Taux_Temps_Partiel"
     ]
    }
   ],
   "source": [
    "plot_mosaic(2021, 'Cadre')"
   ]
  }
 ],
 "metadata": {
  "kernelspec": {
   "display_name": "Python 3",
   "language": "python",
   "name": "python3"
  },
  "language_info": {
   "codemirror_mode": {
    "name": "ipython",
    "version": 3
   },
   "file_extension": ".py",
   "mimetype": "text/x-python",
   "name": "python",
   "nbconvert_exporter": "python",
   "pygments_lexer": "ipython3",
   "version": "3.13.1"
  }
 },
 "nbformat": 4,
 "nbformat_minor": 2
}
