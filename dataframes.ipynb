{
 "cells": [
  {
   "cell_type": "code",
   "execution_count": 2,
   "metadata": {},
   "outputs": [],
   "source": [
    "import pandas as pd"
   ]
  },
  {
   "cell_type": "markdown",
   "metadata": {},
   "source": [
    "1) nombre d'hommes et de femmes en fonction du college pour chaque année (barplot)\n",
    "3) graphique formation evolution\n",
    "4) evolution du salaire pour chaque catégorie pour homme et femme (grahique)\n",
    "5) () Contrats d'apprentissages shommes femmes"
   ]
  },
  {
   "cell_type": "markdown",
   "metadata": {},
   "source": [
    "2) Graphique Formation-Evolution"
   ]
  },
  {
   "cell_type": "code",
   "execution_count": null,
   "metadata": {},
   "outputs": [],
   "source": [
    "promotion = pd.read_csv(\"data/promotion.csv\", delimiter=\";\")\n",
    "promotion = promotion[(promotion[\"Indicateur\"] == \"Promotions dans un collège supérieur\") & \n",
    "                      (promotion[\"Type de contrat\"] == \"Statutaire\")]\n",
    "columns_to_drop = [\n",
    "    'Perimètre juridique', 'Unité', 'Perimètre spatial', 'Spatial perimeter',\n",
    "    'Indicator', 'Type of contract', 'Employee category', 'Plage M3E',\n",
    "    'M3E classification', 'Gender', 'Unit', 'Chapitre du bilan social',\n",
    "    'Type de contrat', 'Indicateur'\n",
    "]\n",
    "promotion = promotion.drop(columns=columns_to_drop)\n",
    "promotion = promotion.groupby([\"Année\", \"Collège\", \"Genre\"]).sum().reset_index()\n",
    "promotion = promotion.rename(columns={'Collège': 'Evolution'})\n",
    "promotion['Collège'] = 'Exécution'\n",
    "promotion.loc[promotion['Evolution'] == 'Maîtrise vers Cadre', 'Collège'] = 'Maitrise'\n",
    "\n",
    "formation = pd.read_csv(\"data/formation.csv\", delimiter=\";\")\n",
    "formation = formation[\n",
    "    (formation[\"Collège\"].isin([\"Maitrise\", \"Exécution\"])) & \n",
    "    (formation[\"Indicateur\"] == \"Salariés ayant suivi au moins un stage\")\n",
    "]\n",
    "formation = formation.drop(columns=[\n",
    "    'Perimètre juridique', 'Unité', 'Perimètre spatial', 'Spatial perimeter',\n",
    "    'Indicator', 'Employee category', 'Plage M3E', 'M3E classification',\n",
    "    'Gender', 'Unit', 'Chapitre du bilan social'\n",
    "])\n",
    "formation_evolution = pd.merge(promotion, formation, on=['Année', 'Collège', 'Genre'], how='inner')\n",
    "formation_evolution = formation_evolution.rename(columns={'Valeur_x': 'Evolutions', 'Valeur_y': 'Population formée'})\n",
    "formation_evolution.to_csv(\"formation_evolution.csv\", header = True)"
   ]
  },
  {
   "cell_type": "markdown",
   "metadata": {},
   "source": [
    "4) Contrats d'apprentissages hommes-femmes"
   ]
  },
  {
   "cell_type": "code",
   "execution_count": 29,
   "metadata": {},
   "outputs": [],
   "source": [
    "alternance = pd.read_csv(\"data/formation.csv\", delimiter = \";\")\n",
    "alternance = alternance[(alternance[\"Indicateur\"]== \"Contrats d'apprentissage conclus dans l'année\") | (alternance[\"Indicateur\"] == \"Contrats de professionnalisation conclus dans l'année\")]\n",
    "alternance = alternance.drop(columns = ['Perimètre juridique', 'Perimètre spatial',\n",
    "       'Spatial perimeter', 'Indicator', 'Collège',\n",
    "       'Employee category', 'Plage M3E', 'M3E classification',\n",
    "       'Gender', 'Unité', 'Unit', 'Chapitre du bilan social'])\n",
    "alternance = alternance.rename(columns={\"Valeur\":\"Nombre de contrats\"})\n",
    "alternance.to_csv(\"alternance.csv\", header = True)"
   ]
  },
  {
   "cell_type": "code",
   "execution_count": null,
   "metadata": {},
   "outputs": [],
   "source": []
  },
  {
   "cell_type": "code",
   "execution_count": 48,
   "metadata": {},
   "outputs": [],
   "source": [
    "effectif=pd.read_csv(\"data/effectifs.csv\", delimiter=\";\")\n",
    "effectif=effectif[effectif[\"Type de contrat\"] == \"Statutaires\"]\n",
    "effectif=effectif.drop(columns= ['Perimètre juridique', 'Perimètre spatial',\n",
    "                                  'Spatial perimeter', 'Indicator', 'Type of contract',\n",
    "                                  'Employee category', 'Nationalité',\n",
    "                                  'Nationality', 'Seniority', 'Employee subcategory',\n",
    "                                  'M3E classification', \"Plage M3E\", \"Ancienneté\",\n",
    "                                  \"Unité\", \"Chapitre du bilan social\"\n",
    "                                 ])\n",
    "effectif=effectif[effectif[\"Indicateur\"] == \"Effectif\"]\n",
    "effectif=effectif.rename(columns={\"Valeur\":\"Nombre de salariés\"})\n",
    "effectif=effectif.groupby(['Année', 'Collège', 'Genre'])[\"Nombre de salariés\"].sum().reset_index()\n",
    "effectif.to_csv(\"effectifs.csv\")"
   ]
  },
  {
   "cell_type": "code",
   "execution_count": null,
   "metadata": {},
   "outputs": [],
   "source": []
  }
 ],
 "metadata": {
  "kernelspec": {
   "display_name": "python_env",
   "language": "python",
   "name": "python3"
  },
  "language_info": {
   "codemirror_mode": {
    "name": "ipython",
    "version": 3
   },
   "file_extension": ".py",
   "mimetype": "text/x-python",
   "name": "python",
   "nbconvert_exporter": "python",
   "pygments_lexer": "ipython3",
   "version": "3.13.1"
  }
 },
 "nbformat": 4,
 "nbformat_minor": 2
}
